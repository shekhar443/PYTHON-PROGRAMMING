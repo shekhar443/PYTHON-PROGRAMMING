{
 "cells": [
  {
   "cell_type": "markdown",
   "id": "be870a8a",
   "metadata": {},
   "source": [
    "## Python basic programs\n",
    "    for\n",
    "    if\n",
    "    while\n",
    "    even\n",
    "    odd\n",
    "    n num\n",
    "    compare a,b\n",
    "    compa a,b,c"
   ]
  },
  {
   "cell_type": "code",
   "execution_count": 1,
   "id": "c74ec41d",
   "metadata": {},
   "outputs": [
    {
     "name": "stdout",
     "output_type": "stream",
     "text": [
      "enter a value11\n",
      "entered num 11 positive\n"
     ]
    }
   ],
   "source": [
    "# simple if\n",
    "a=int(input(\"enter a value\"))\n",
    "if a>=0:\n",
    "    print(\"entered num {} positive\".format(a))"
   ]
  },
  {
   "cell_type": "code",
   "execution_count": 2,
   "id": "b33bcfd4",
   "metadata": {},
   "outputs": [
    {
     "name": "stdout",
     "output_type": "stream",
     "text": [
      "enter b value-1\n",
      "entered num -1 is negative \n"
     ]
    }
   ],
   "source": [
    "# if-elif\n",
    "b=int(input(\"enter b value\"))\n",
    "if b>0:\n",
    "    print(\"entered num {} is possitive\".format(b))\n",
    "elif b<0:\n",
    "    print(\"entered num {} is negative \".format(b))\n",
    "else:\n",
    "    print(\"entered num is zero\")"
   ]
  },
  {
   "cell_type": "code",
   "execution_count": 3,
   "id": "72314b54",
   "metadata": {},
   "outputs": [
    {
     "name": "stdout",
     "output_type": "stream",
     "text": [
      "enter a value: 22\n",
      "enter b value: 12\n",
      "in entered numbers 22 is grater than 12\n"
     ]
    }
   ],
   "source": [
    "a=int(input(\"enter a value: \"))\n",
    "b=int(input(\"enter b value: \"))\n",
    "if a>b:\n",
    "    print(\"in entered numbers {} is grater than {}\".format(a,b))\n",
    "elif a<b:\n",
    "    print(\"in entered numbers {} is less than {} or {} is grater\".format(a,b,b))\n",
    "else:\n",
    "    print(\"entered numbers both are equal\")"
   ]
  },
  {
   "cell_type": "code",
   "execution_count": 4,
   "id": "f119b254",
   "metadata": {},
   "outputs": [
    {
     "name": "stdout",
     "output_type": "stream",
     "text": [
      "enter a value: 3\n",
      "enter b value: 6\n",
      "enter c value: 3\n",
      "entered values are a=3,b=6,c3\n",
      "6 is grater\n"
     ]
    }
   ],
   "source": [
    "#a, b c comparision\n",
    "a=int(input(\"enter a value: \"))\n",
    "b=int(input(\"enter b value: \"))\n",
    "c=int(input(\"enter c value: \"))\n",
    "print(\"entered values are a={},b={},c{}\".format(a,b,c))\n",
    "if a>b:\n",
    "    if a>c:\n",
    "        print(\"{} is grater\".format(a))\n",
    "    else:\n",
    "        print(\"{} is grater\".format(c))\n",
    "else:\n",
    "    if b>c:\n",
    "        print(\"{} is grater\".format(b))\n",
    "    else:\n",
    "        print(\"{} is grater\".format(c))\n",
    "            "
   ]
  },
  {
   "cell_type": "code",
   "execution_count": 5,
   "id": "14e40a94",
   "metadata": {},
   "outputs": [
    {
     "name": "stdout",
     "output_type": "stream",
     "text": [
      "enter n value: 12\n",
      "0\n",
      "1\n",
      "2\n",
      "3\n",
      "4\n",
      "5\n",
      "6\n",
      "7\n",
      "8\n",
      "9\n",
      "10\n",
      "11\n",
      "12\n"
     ]
    }
   ],
   "source": [
    "# N numbers\n",
    "n=int(input(\"enter n value: \"))\n",
    "i=0\n",
    "while i<=n:\n",
    "    print(i)\n",
    "    i+=1"
   ]
  },
  {
   "cell_type": "code",
   "execution_count": 6,
   "id": "b37a6eea",
   "metadata": {},
   "outputs": [
    {
     "name": "stdout",
     "output_type": "stream",
     "text": [
      "enter n value10\n",
      "0\n",
      "2\n",
      "4\n",
      "6\n",
      "8\n"
     ]
    }
   ],
   "source": [
    "# even numbers\n",
    "n=int(input(\"enter n value\"))\n",
    "for i in range(n):\n",
    "    if i%2==0:\n",
    "        print(i)"
   ]
  },
  {
   "cell_type": "code",
   "execution_count": 7,
   "id": "7b0e3100",
   "metadata": {},
   "outputs": [
    {
     "name": "stdout",
     "output_type": "stream",
     "text": [
      "enter n value12\n",
      "1\n",
      "3\n",
      "5\n",
      "7\n",
      "9\n",
      "11\n"
     ]
    }
   ],
   "source": [
    "# odd numbers\n",
    "n=int(input(\"enter n value\"))\n",
    "for i in range(n):\n",
    "    if i%2!=0:\n",
    "        print(i)"
   ]
  },
  {
   "cell_type": "code",
   "execution_count": 8,
   "id": "8e7daa79",
   "metadata": {},
   "outputs": [
    {
     "name": "stdout",
     "output_type": "stream",
     "text": [
      "1\n",
      "3\n",
      "5\n",
      "7\n",
      "9\n",
      "11\n",
      "13\n",
      "15\n",
      "17\n",
      "19\n"
     ]
    }
   ],
   "source": [
    "for i in range(1,20,2):\n",
    "    print(i)"
   ]
  },
  {
   "cell_type": "code",
   "execution_count": 9,
   "id": "8fef6ce6",
   "metadata": {},
   "outputs": [
    {
     "name": "stdout",
     "output_type": "stream",
     "text": [
      "s\n",
      "h\n",
      "e\n",
      "k\n",
      "h\n",
      "a\n",
      "r\n"
     ]
    }
   ],
   "source": [
    "name=\"shekhar\"\n",
    "for i in name:\n",
    "    print(i)"
   ]
  },
  {
   "cell_type": "code",
   "execution_count": 10,
   "id": "66e36061",
   "metadata": {},
   "outputs": [
    {
     "name": "stdout",
     "output_type": "stream",
     "text": [
      "2\n",
      "4\n",
      "6\n",
      "7\n",
      "55\n",
      "9\n",
      "44\n"
     ]
    }
   ],
   "source": [
    "l=[2,4,6,7,55,9,44]\n",
    "for i in range(len(l)):\n",
    "    print(l[i])"
   ]
  },
  {
   "cell_type": "code",
   "execution_count": 11,
   "id": "67c720b5",
   "metadata": {},
   "outputs": [
    {
     "name": "stdout",
     "output_type": "stream",
     "text": [
      "* * * * *  \n",
      "* * * * *  \n",
      "* * * * *  \n",
      "* * * * *  \n",
      "* * * * *  \n"
     ]
    }
   ],
   "source": [
    "for i in range(5):\n",
    "    for j in range(5):\n",
    "        print(\"*\",end=\" \")\n",
    "    print(\" \")"
   ]
  },
  {
   "cell_type": "code",
   "execution_count": 12,
   "id": "526df9b8",
   "metadata": {},
   "outputs": [
    {
     "name": "stdout",
     "output_type": "stream",
     "text": [
      " \n",
      "*  \n",
      "* *  \n",
      "* * *  \n",
      "* * * *  \n"
     ]
    }
   ],
   "source": [
    "for i in range(5):\n",
    "    for j in range(5):\n",
    "        if i>j:\n",
    "            print(\"*\",end=\" \")\n",
    "    print(\" \")"
   ]
  },
  {
   "cell_type": "code",
   "execution_count": 13,
   "id": "27c5275f",
   "metadata": {},
   "outputs": [
    {
     "name": "stdout",
     "output_type": "stream",
     "text": [
      "* * * *  \n",
      "* * *  \n",
      "* *  \n",
      "*  \n",
      " \n"
     ]
    }
   ],
   "source": [
    "for i in range(5):\n",
    "    for j in range(5):\n",
    "        if i<j:\n",
    "            print(\"*\",end=\" \")\n",
    "    print(\" \")"
   ]
  },
  {
   "cell_type": "code",
   "execution_count": 14,
   "id": "d6cfb169",
   "metadata": {},
   "outputs": [
    {
     "name": "stdout",
     "output_type": "stream",
     "text": [
      "0\n",
      "1\n",
      "2\n",
      "3\n",
      "4\n"
     ]
    }
   ],
   "source": [
    "for i in range(10):\n",
    "    if i==5:\n",
    "        break\n",
    "    print(i)"
   ]
  },
  {
   "cell_type": "code",
   "execution_count": 15,
   "id": "83017816",
   "metadata": {},
   "outputs": [
    {
     "name": "stdout",
     "output_type": "stream",
     "text": [
      "0\n",
      "1\n",
      "2\n",
      "3\n",
      "5\n",
      "6\n",
      "7\n",
      "8\n",
      "9\n"
     ]
    }
   ],
   "source": [
    "for i in range(10):\n",
    "    if i==4:\n",
    "        continue\n",
    "    print(i)"
   ]
  },
  {
   "cell_type": "code",
   "execution_count": 16,
   "id": "0c85e691",
   "metadata": {},
   "outputs": [
    {
     "name": "stdout",
     "output_type": "stream",
     "text": [
      "1\n",
      "2\n",
      "3\n",
      "4\n",
      "5\n",
      "6\n",
      "7\n",
      "8\n",
      "9\n",
      "10\n"
     ]
    }
   ],
   "source": [
    "i=1\n",
    "while i<=10:\n",
    "    if i==5:\n",
    "        pass\n",
    "    print(i)\n",
    "    i+=1"
   ]
  },
  {
   "cell_type": "code",
   "execution_count": 17,
   "id": "2a3d6504",
   "metadata": {},
   "outputs": [
    {
     "name": "stdout",
     "output_type": "stream",
     "text": [
      "12\n"
     ]
    }
   ],
   "source": [
    "# global function\n",
    "x=input()\n",
    "def myfunc():\n",
    "    print(\"python is \"+x)"
   ]
  },
  {
   "cell_type": "code",
   "execution_count": 18,
   "id": "c574ba4d",
   "metadata": {},
   "outputs": [
    {
     "name": "stdout",
     "output_type": "stream",
     "text": [
      "python is 12\n"
     ]
    }
   ],
   "source": [
    "myfunc()"
   ]
  },
  {
   "cell_type": "code",
   "execution_count": 19,
   "id": "75f243d4",
   "metadata": {},
   "outputs": [
    {
     "name": "stdout",
     "output_type": "stream",
     "text": [
      "thi is local python is bye\n",
      "tihis is golbal python is haiii\n"
     ]
    }
   ],
   "source": [
    "x=\"haiii\"\n",
    "def my_func():\n",
    "    x=\"bye\"\n",
    "    print(\"thi is local python is \"+x)\n",
    "my_func()\n",
    "print(\"tihis is golbal python is \"+x)"
   ]
  },
  {
   "cell_type": "code",
   "execution_count": 20,
   "id": "9c2cdd7e",
   "metadata": {},
   "outputs": [
    {
     "name": "stdout",
     "output_type": "stream",
     "text": [
      " this is global but we can choose local as global by using global keyword Python is fantastic\n"
     ]
    }
   ],
   "source": [
    "x = \"awesome\"\n",
    "\n",
    "def myfunc():\n",
    "  global x\n",
    "  x = \"fantastic\"\n",
    "\n",
    "myfunc()\n",
    "\n",
    "print(\" this is global but we can choose local as global by using global keyword Python is \" + x)"
   ]
  },
  {
   "cell_type": "markdown",
   "id": "2990e89b",
   "metadata": {},
   "source": [
    "## Math function"
   ]
  },
  {
   "cell_type": "code",
   "execution_count": 21,
   "id": "b5be9cb1",
   "metadata": {},
   "outputs": [],
   "source": [
    "import math"
   ]
  },
  {
   "cell_type": "code",
   "execution_count": 22,
   "id": "38f02baa",
   "metadata": {},
   "outputs": [
    {
     "data": {
      "text/plain": [
       "11"
      ]
     },
     "execution_count": 22,
     "metadata": {},
     "output_type": "execute_result"
    }
   ],
   "source": [
    "math.ceil(10.3) # to the next num"
   ]
  },
  {
   "cell_type": "code",
   "execution_count": 23,
   "id": "ca74075a",
   "metadata": {},
   "outputs": [
    {
     "data": {
      "text/plain": [
       "10"
      ]
     },
     "execution_count": 23,
     "metadata": {},
     "output_type": "execute_result"
    }
   ],
   "source": [
    "math.floor(10.3)"
   ]
  },
  {
   "cell_type": "code",
   "execution_count": 24,
   "id": "403a71b1",
   "metadata": {},
   "outputs": [
    {
     "data": {
      "text/plain": [
       "-10.0"
      ]
     },
     "execution_count": 24,
     "metadata": {},
     "output_type": "execute_result"
    }
   ],
   "source": [
    "a=10\n",
    "b=-20\n",
    "math.copysign(a,b)"
   ]
  },
  {
   "cell_type": "code",
   "execution_count": 25,
   "id": "428388c6",
   "metadata": {},
   "outputs": [
    {
     "data": {
      "text/plain": [
       "10.0"
      ]
     },
     "execution_count": 25,
     "metadata": {},
     "output_type": "execute_result"
    }
   ],
   "source": [
    "math.fabs(a)"
   ]
  },
  {
   "cell_type": "code",
   "execution_count": 26,
   "id": "470c27ba",
   "metadata": {},
   "outputs": [
    {
     "data": {
      "text/plain": [
       "20.0"
      ]
     },
     "execution_count": 26,
     "metadata": {},
     "output_type": "execute_result"
    }
   ],
   "source": [
    "math.fabs(b)"
   ]
  },
  {
   "cell_type": "code",
   "execution_count": 27,
   "id": "89577ed2",
   "metadata": {},
   "outputs": [
    {
     "data": {
      "text/plain": [
       "120"
      ]
     },
     "execution_count": 27,
     "metadata": {},
     "output_type": "execute_result"
    }
   ],
   "source": [
    "math.factorial(5)"
   ]
  },
  {
   "cell_type": "code",
   "execution_count": 28,
   "id": "dee07939",
   "metadata": {},
   "outputs": [
    {
     "data": {
      "text/plain": [
       "720"
      ]
     },
     "execution_count": 28,
     "metadata": {},
     "output_type": "execute_result"
    }
   ],
   "source": [
    "math.factorial(6)"
   ]
  },
  {
   "cell_type": "code",
   "execution_count": 29,
   "id": "466f75d5",
   "metadata": {},
   "outputs": [
    {
     "data": {
      "text/plain": [
       "127.0"
      ]
     },
     "execution_count": 29,
     "metadata": {},
     "output_type": "execute_result"
    }
   ],
   "source": [
    "l=[2,4,6,7,55,9,44]\n",
    "math.fsum(l)"
   ]
  },
  {
   "cell_type": "code",
   "execution_count": 30,
   "id": "a1c873be",
   "metadata": {},
   "outputs": [
    {
     "data": {
      "text/plain": [
       "1"
      ]
     },
     "execution_count": 30,
     "metadata": {},
     "output_type": "execute_result"
    }
   ],
   "source": [
    "math.gcd(4,5,6,7)"
   ]
  },
  {
   "cell_type": "code",
   "execution_count": 31,
   "id": "050a48c8",
   "metadata": {},
   "outputs": [
    {
     "data": {
      "text/plain": [
       "1"
      ]
     },
     "execution_count": 31,
     "metadata": {},
     "output_type": "execute_result"
    }
   ],
   "source": [
    "math.gcd(12,3,4)"
   ]
  },
  {
   "cell_type": "code",
   "execution_count": 32,
   "id": "c27ad656",
   "metadata": {},
   "outputs": [
    {
     "data": {
      "text/plain": [
       "2"
      ]
     },
     "execution_count": 32,
     "metadata": {},
     "output_type": "execute_result"
    }
   ],
   "source": [
    "math.gcd(2,4,6,8,10)"
   ]
  },
  {
   "cell_type": "code",
   "execution_count": 33,
   "id": "0a1e640e",
   "metadata": {},
   "outputs": [
    {
     "data": {
      "text/plain": [
       "12"
      ]
     },
     "execution_count": 33,
     "metadata": {},
     "output_type": "execute_result"
    }
   ],
   "source": [
    "math.lcm(2,3,4)"
   ]
  },
  {
   "cell_type": "code",
   "execution_count": 34,
   "id": "6538e72a",
   "metadata": {},
   "outputs": [
    {
     "data": {
      "text/plain": [
       "144.0"
      ]
     },
     "execution_count": 34,
     "metadata": {},
     "output_type": "execute_result"
    }
   ],
   "source": [
    "math.pow(12,2)"
   ]
  },
  {
   "cell_type": "code",
   "execution_count": 35,
   "id": "0292aac0",
   "metadata": {},
   "outputs": [
    {
     "data": {
      "text/plain": [
       "1024.0"
      ]
     },
     "execution_count": 35,
     "metadata": {},
     "output_type": "execute_result"
    }
   ],
   "source": [
    "math.pow(2,10)"
   ]
  },
  {
   "cell_type": "code",
   "execution_count": 36,
   "id": "eefa4061",
   "metadata": {},
   "outputs": [
    {
     "data": {
      "text/plain": [
       "10.0"
      ]
     },
     "execution_count": 36,
     "metadata": {},
     "output_type": "execute_result"
    }
   ],
   "source": [
    "math.sqrt(100)"
   ]
  },
  {
   "cell_type": "code",
   "execution_count": 37,
   "id": "069ce7c3",
   "metadata": {},
   "outputs": [
    {
     "data": {
      "text/plain": [
       "7.0710678118654755"
      ]
     },
     "execution_count": 37,
     "metadata": {},
     "output_type": "execute_result"
    }
   ],
   "source": [
    "math.sqrt(50)"
   ]
  },
  {
   "cell_type": "code",
   "execution_count": 38,
   "id": "4e07eb32",
   "metadata": {},
   "outputs": [
    {
     "data": {
      "text/plain": [
       "0.8939966636005579"
      ]
     },
     "execution_count": 38,
     "metadata": {},
     "output_type": "execute_result"
    }
   ],
   "source": [
    "math.sin(90)"
   ]
  },
  {
   "cell_type": "code",
   "execution_count": 39,
   "id": "525d2566",
   "metadata": {},
   "outputs": [
    {
     "data": {
      "text/plain": [
       "-0.4480736161291701"
      ]
     },
     "execution_count": 39,
     "metadata": {},
     "output_type": "execute_result"
    }
   ],
   "source": [
    "math.cos(90)"
   ]
  },
  {
   "cell_type": "code",
   "execution_count": 40,
   "id": "3d9206aa",
   "metadata": {},
   "outputs": [
    {
     "data": {
      "text/plain": [
       "1.0"
      ]
     },
     "execution_count": 40,
     "metadata": {},
     "output_type": "execute_result"
    }
   ],
   "source": [
    "math.sin(math.pi/2)"
   ]
  },
  {
   "cell_type": "code",
   "execution_count": 41,
   "id": "15505571",
   "metadata": {},
   "outputs": [
    {
     "data": {
      "text/plain": [
       "6.123233995736766e-17"
      ]
     },
     "execution_count": 41,
     "metadata": {},
     "output_type": "execute_result"
    }
   ],
   "source": [
    "math.cos(math.pi/2)"
   ]
  },
  {
   "cell_type": "code",
   "execution_count": 42,
   "id": "c2d058f7",
   "metadata": {},
   "outputs": [
    {
     "data": {
      "text/plain": [
       "3.141592653589793"
      ]
     },
     "execution_count": 42,
     "metadata": {},
     "output_type": "execute_result"
    }
   ],
   "source": [
    "math.pi"
   ]
  },
  {
   "cell_type": "code",
   "execution_count": 43,
   "id": "38c962c2",
   "metadata": {},
   "outputs": [
    {
     "data": {
      "text/plain": [
       "2.718281828459045"
      ]
     },
     "execution_count": 43,
     "metadata": {},
     "output_type": "execute_result"
    }
   ],
   "source": [
    "math.e"
   ]
  },
  {
   "cell_type": "code",
   "execution_count": 44,
   "id": "9be60303",
   "metadata": {},
   "outputs": [
    {
     "data": {
      "text/plain": [
       "6.283185307179586"
      ]
     },
     "execution_count": 44,
     "metadata": {},
     "output_type": "execute_result"
    }
   ],
   "source": [
    "math.tau"
   ]
  },
  {
   "cell_type": "code",
   "execution_count": 45,
   "id": "f47b7acc",
   "metadata": {},
   "outputs": [
    {
     "data": {
      "text/plain": [
       "inf"
      ]
     },
     "execution_count": 45,
     "metadata": {},
     "output_type": "execute_result"
    }
   ],
   "source": [
    "math.inf"
   ]
  },
  {
   "cell_type": "code",
   "execution_count": 46,
   "id": "32853a8e",
   "metadata": {},
   "outputs": [],
   "source": [
    "a=math.nan"
   ]
  },
  {
   "cell_type": "code",
   "execution_count": 47,
   "id": "da8f7193",
   "metadata": {},
   "outputs": [
    {
     "data": {
      "text/plain": [
       "nan"
      ]
     },
     "execution_count": 47,
     "metadata": {},
     "output_type": "execute_result"
    }
   ],
   "source": [
    "a"
   ]
  },
  {
   "cell_type": "markdown",
   "id": "90284390",
   "metadata": {},
   "source": [
    "## Random functions"
   ]
  },
  {
   "cell_type": "code",
   "execution_count": 48,
   "id": "741b3910",
   "metadata": {},
   "outputs": [],
   "source": [
    "import random"
   ]
  },
  {
   "cell_type": "code",
   "execution_count": 49,
   "id": "5788b374",
   "metadata": {},
   "outputs": [],
   "source": [
    "l=[23,22,12,56,47,85,69,56,54,85,25,63,65,45,22]"
   ]
  },
  {
   "cell_type": "code",
   "execution_count": 50,
   "id": "4cfb39c4",
   "metadata": {},
   "outputs": [
    {
     "data": {
      "text/plain": [
       "47"
      ]
     },
     "execution_count": 50,
     "metadata": {},
     "output_type": "execute_result"
    }
   ],
   "source": [
    "random.choice(l)"
   ]
  },
  {
   "cell_type": "code",
   "execution_count": 51,
   "id": "eb3eb8a8",
   "metadata": {},
   "outputs": [
    {
     "data": {
      "text/plain": [
       "[56, 85, 69, 22]"
      ]
     },
     "execution_count": 51,
     "metadata": {},
     "output_type": "execute_result"
    }
   ],
   "source": [
    "random.choices(l,k=4)"
   ]
  },
  {
   "cell_type": "code",
   "execution_count": 52,
   "id": "5dd70999",
   "metadata": {},
   "outputs": [
    {
     "data": {
      "text/plain": [
       "10"
      ]
     },
     "execution_count": 52,
     "metadata": {},
     "output_type": "execute_result"
    }
   ],
   "source": [
    "random.randrange(10,15,3)"
   ]
  },
  {
   "cell_type": "code",
   "execution_count": 53,
   "id": "7a689018",
   "metadata": {},
   "outputs": [
    {
     "data": {
      "text/plain": [
       "0.11862785376612095"
      ]
     },
     "execution_count": 53,
     "metadata": {},
     "output_type": "execute_result"
    }
   ],
   "source": [
    "random.random()"
   ]
  },
  {
   "cell_type": "code",
   "execution_count": 54,
   "id": "ebb0fd5d",
   "metadata": {},
   "outputs": [],
   "source": [
    "random.shuffle(l)"
   ]
  },
  {
   "cell_type": "code",
   "execution_count": 55,
   "id": "67f2c436",
   "metadata": {},
   "outputs": [
    {
     "data": {
      "text/plain": [
       "[69, 63, 56, 45, 56, 23, 85, 47, 22, 85, 25, 22, 65, 54, 12]"
      ]
     },
     "execution_count": 55,
     "metadata": {},
     "output_type": "execute_result"
    }
   ],
   "source": [
    "l"
   ]
  },
  {
   "cell_type": "code",
   "execution_count": 56,
   "id": "ddde602b",
   "metadata": {},
   "outputs": [
    {
     "data": {
      "text/plain": [
       "14.592792585613939"
      ]
     },
     "execution_count": 56,
     "metadata": {},
     "output_type": "execute_result"
    }
   ],
   "source": [
    "random.uniform(10,20)"
   ]
  },
  {
   "cell_type": "markdown",
   "id": "7045133d",
   "metadata": {},
   "source": [
    "## list \n",
    "##  accep all data types,ordered, changeble,allow duplicates,indexed,  \n",
    "    append(),extend(),insert(),index()\n",
    "    remove(),pop(),del ,clear()\n",
    "    sort(),reverse(),copy()"
   ]
  },
  {
   "cell_type": "code",
   "execution_count": 57,
   "id": "eca22188",
   "metadata": {},
   "outputs": [],
   "source": [
    "l=[\"a\",\"b\",\"c\",\"d\"]\n",
    "l1=[\"a\",4,5.6,\"hai\",True]"
   ]
  },
  {
   "cell_type": "code",
   "execution_count": 58,
   "id": "9f1de003",
   "metadata": {},
   "outputs": [
    {
     "data": {
      "text/plain": [
       "5"
      ]
     },
     "execution_count": 58,
     "metadata": {},
     "output_type": "execute_result"
    }
   ],
   "source": [
    "#length\n",
    "len(l1)"
   ]
  },
  {
   "cell_type": "code",
   "execution_count": 59,
   "id": "39f1e8d6",
   "metadata": {},
   "outputs": [
    {
     "data": {
      "text/plain": [
       "list"
      ]
     },
     "execution_count": 59,
     "metadata": {},
     "output_type": "execute_result"
    }
   ],
   "source": [
    "# type\n",
    "type(l)"
   ]
  },
  {
   "cell_type": "code",
   "execution_count": 60,
   "id": "6ca018d1",
   "metadata": {},
   "outputs": [],
   "source": [
    "# list constructor\n",
    "a=list((\"a\",4,5.6,\"hai\",True))"
   ]
  },
  {
   "cell_type": "code",
   "execution_count": 61,
   "id": "517450fe",
   "metadata": {},
   "outputs": [
    {
     "data": {
      "text/plain": [
       "list"
      ]
     },
     "execution_count": 61,
     "metadata": {},
     "output_type": "execute_result"
    }
   ],
   "source": [
    "type(a)"
   ]
  },
  {
   "cell_type": "code",
   "execution_count": 62,
   "id": "e2de46cf",
   "metadata": {},
   "outputs": [
    {
     "data": {
      "text/plain": [
       "5"
      ]
     },
     "execution_count": 62,
     "metadata": {},
     "output_type": "execute_result"
    }
   ],
   "source": [
    "len(a)"
   ]
  },
  {
   "cell_type": "code",
   "execution_count": 63,
   "id": "7f682bd9",
   "metadata": {},
   "outputs": [
    {
     "data": {
      "text/plain": [
       "5.6"
      ]
     },
     "execution_count": 63,
     "metadata": {},
     "output_type": "execute_result"
    }
   ],
   "source": [
    "# Access Items\n",
    "l1[2]"
   ]
  },
  {
   "cell_type": "code",
   "execution_count": 64,
   "id": "9e93f5f4",
   "metadata": {},
   "outputs": [
    {
     "data": {
      "text/plain": [
       "[5.6, 'hai', True]"
      ]
     },
     "execution_count": 64,
     "metadata": {},
     "output_type": "execute_result"
    }
   ],
   "source": [
    "l1[2:]"
   ]
  },
  {
   "cell_type": "code",
   "execution_count": 65,
   "id": "5bd89ab2",
   "metadata": {},
   "outputs": [
    {
     "data": {
      "text/plain": [
       "['a', 4]"
      ]
     },
     "execution_count": 65,
     "metadata": {},
     "output_type": "execute_result"
    }
   ],
   "source": [
    "l1[:2]"
   ]
  },
  {
   "cell_type": "code",
   "execution_count": 66,
   "id": "37e2a577",
   "metadata": {},
   "outputs": [
    {
     "data": {
      "text/plain": [
       "['a', 4, 5.6, 'hai']"
      ]
     },
     "execution_count": 66,
     "metadata": {},
     "output_type": "execute_result"
    }
   ],
   "source": [
    "l1[:-1]"
   ]
  },
  {
   "cell_type": "code",
   "execution_count": 67,
   "id": "3f752001",
   "metadata": {},
   "outputs": [
    {
     "data": {
      "text/plain": [
       "[True]"
      ]
     },
     "execution_count": 67,
     "metadata": {},
     "output_type": "execute_result"
    }
   ],
   "source": [
    "l1[-1:]"
   ]
  },
  {
   "cell_type": "code",
   "execution_count": 68,
   "id": "f745b8b6",
   "metadata": {},
   "outputs": [
    {
     "data": {
      "text/plain": [
       "[5.6]"
      ]
     },
     "execution_count": 68,
     "metadata": {},
     "output_type": "execute_result"
    }
   ],
   "source": [
    "l1[-3:-2]"
   ]
  },
  {
   "cell_type": "code",
   "execution_count": 69,
   "id": "3aba7662",
   "metadata": {},
   "outputs": [
    {
     "name": "stdout",
     "output_type": "stream",
     "text": [
      "True\n"
     ]
    }
   ],
   "source": [
    "l1=[\"a\",4,5.6,\"hai\",True]\n",
    "if 4 in l1:\n",
    "    print(\"True\")\n",
    "else:\n",
    "    print(\"False\")\n",
    "    "
   ]
  },
  {
   "cell_type": "code",
   "execution_count": 70,
   "id": "dc3ffc41",
   "metadata": {},
   "outputs": [
    {
     "data": {
      "text/plain": [
       "['a', 32, 5.6, 'hai', True]"
      ]
     },
     "execution_count": 70,
     "metadata": {},
     "output_type": "execute_result"
    }
   ],
   "source": [
    "# change element\n",
    "l1=[\"a\",4,5.6,\"hai\",True]\n",
    "l1[1]=32\n",
    "l1"
   ]
  },
  {
   "cell_type": "code",
   "execution_count": 71,
   "id": "356fe21f",
   "metadata": {},
   "outputs": [
    {
     "data": {
      "text/plain": [
       "[4, 5, 6, 'hai', True]"
      ]
     },
     "execution_count": 71,
     "metadata": {},
     "output_type": "execute_result"
    }
   ],
   "source": [
    "l1[0:3]=[4,5,6]\n",
    "l1"
   ]
  },
  {
   "cell_type": "code",
   "execution_count": 72,
   "id": "f3d47f84",
   "metadata": {},
   "outputs": [],
   "source": [
    "l1[1:3]=[\"hai\"]"
   ]
  },
  {
   "cell_type": "code",
   "execution_count": 73,
   "id": "7d4cb023",
   "metadata": {},
   "outputs": [
    {
     "data": {
      "text/plain": [
       "True"
      ]
     },
     "execution_count": 73,
     "metadata": {},
     "output_type": "execute_result"
    }
   ],
   "source": [
    "l1[-1]"
   ]
  },
  {
   "cell_type": "code",
   "execution_count": 74,
   "id": "eb492372",
   "metadata": {},
   "outputs": [
    {
     "name": "stdout",
     "output_type": "stream",
     "text": [
      "[4, 'hai', 'bye', 'hai', True]\n"
     ]
    }
   ],
   "source": [
    "# add elements to the list\n",
    "l1.insert(2,\"bye\")\n",
    "print(l1)"
   ]
  },
  {
   "cell_type": "code",
   "execution_count": 75,
   "id": "370b975d",
   "metadata": {},
   "outputs": [],
   "source": [
    "l1=l1\n",
    "lx=[3,45,88]\n",
    "for x in l1:\n",
    "    lx.append(x)   "
   ]
  },
  {
   "cell_type": "code",
   "execution_count": 76,
   "id": "60ea369d",
   "metadata": {},
   "outputs": [
    {
     "data": {
      "text/plain": [
       "[3, 45, 88, 4, 'hai', 'bye', 'hai', True]"
      ]
     },
     "execution_count": 76,
     "metadata": {},
     "output_type": "execute_result"
    }
   ],
   "source": [
    "lx"
   ]
  },
  {
   "cell_type": "code",
   "execution_count": 77,
   "id": "77bc2524",
   "metadata": {},
   "outputs": [],
   "source": [
    "ln=l1+lx"
   ]
  },
  {
   "cell_type": "code",
   "execution_count": 78,
   "id": "34aa7a21",
   "metadata": {},
   "outputs": [
    {
     "data": {
      "text/plain": [
       "[4, 'hai', 'bye', 'hai', True, 3, 45, 88, 4, 'hai', 'bye', 'hai', True]"
      ]
     },
     "execution_count": 78,
     "metadata": {},
     "output_type": "execute_result"
    }
   ],
   "source": [
    "ln"
   ]
  },
  {
   "cell_type": "code",
   "execution_count": 79,
   "id": "84637d3d",
   "metadata": {},
   "outputs": [],
   "source": [
    "lx.extend(l1)"
   ]
  },
  {
   "cell_type": "code",
   "execution_count": 80,
   "id": "b852f469",
   "metadata": {},
   "outputs": [],
   "source": [
    "lx.append(l1)"
   ]
  },
  {
   "cell_type": "code",
   "execution_count": 81,
   "id": "4c602242",
   "metadata": {},
   "outputs": [
    {
     "name": "stdout",
     "output_type": "stream",
     "text": [
      "no\n"
     ]
    }
   ],
   "source": [
    "if \"a\" in lx:\n",
    "    print(\"yes\")\n",
    "else:\n",
    "    print(\"no\")"
   ]
  },
  {
   "cell_type": "code",
   "execution_count": 82,
   "id": "78d79976",
   "metadata": {},
   "outputs": [],
   "source": [
    "# remove elements for list\n",
    "l1=[2,3,4,5]\n",
    "l2=[7,8,9,4]\n",
    "l1.remove(3)"
   ]
  },
  {
   "cell_type": "code",
   "execution_count": 83,
   "id": "1a7cda3c",
   "metadata": {},
   "outputs": [
    {
     "data": {
      "text/plain": [
       "[2, 4, 5]"
      ]
     },
     "execution_count": 83,
     "metadata": {},
     "output_type": "execute_result"
    }
   ],
   "source": [
    "l1"
   ]
  },
  {
   "cell_type": "code",
   "execution_count": 84,
   "id": "f404fa90",
   "metadata": {},
   "outputs": [],
   "source": [
    "l1.remove(4)"
   ]
  },
  {
   "cell_type": "code",
   "execution_count": 85,
   "id": "4b1712bc",
   "metadata": {},
   "outputs": [
    {
     "data": {
      "text/plain": [
       "[2, 5]"
      ]
     },
     "execution_count": 85,
     "metadata": {},
     "output_type": "execute_result"
    }
   ],
   "source": [
    "l1"
   ]
  },
  {
   "cell_type": "code",
   "execution_count": 86,
   "id": "e8d8a07e",
   "metadata": {},
   "outputs": [
    {
     "data": {
      "text/plain": [
       "4"
      ]
     },
     "execution_count": 86,
     "metadata": {},
     "output_type": "execute_result"
    }
   ],
   "source": [
    "l2.pop()"
   ]
  },
  {
   "cell_type": "code",
   "execution_count": 87,
   "id": "402d466f",
   "metadata": {},
   "outputs": [
    {
     "data": {
      "text/plain": [
       "8"
      ]
     },
     "execution_count": 87,
     "metadata": {},
     "output_type": "execute_result"
    }
   ],
   "source": [
    "l2.pop(1)"
   ]
  },
  {
   "cell_type": "code",
   "execution_count": 88,
   "id": "2cc3de63",
   "metadata": {},
   "outputs": [
    {
     "data": {
      "text/plain": [
       "[7, 9]"
      ]
     },
     "execution_count": 88,
     "metadata": {},
     "output_type": "execute_result"
    }
   ],
   "source": [
    "l2"
   ]
  },
  {
   "cell_type": "code",
   "execution_count": 89,
   "id": "853babf2",
   "metadata": {},
   "outputs": [],
   "source": [
    "del l2[0]"
   ]
  },
  {
   "cell_type": "code",
   "execution_count": 90,
   "id": "01129357",
   "metadata": {},
   "outputs": [
    {
     "data": {
      "text/plain": [
       "[9]"
      ]
     },
     "execution_count": 90,
     "metadata": {},
     "output_type": "execute_result"
    }
   ],
   "source": [
    "l2"
   ]
  },
  {
   "cell_type": "code",
   "execution_count": 91,
   "id": "92a12857",
   "metadata": {},
   "outputs": [],
   "source": [
    "l=[]\n",
    "for i in range(5,10,1):\n",
    "   l.append(i) "
   ]
  },
  {
   "cell_type": "code",
   "execution_count": 92,
   "id": "cc0a8c85",
   "metadata": {},
   "outputs": [
    {
     "data": {
      "text/plain": [
       "[5, 6, 7, 8, 9]"
      ]
     },
     "execution_count": 92,
     "metadata": {},
     "output_type": "execute_result"
    }
   ],
   "source": [
    "l"
   ]
  },
  {
   "cell_type": "code",
   "execution_count": 93,
   "id": "c56031c1",
   "metadata": {},
   "outputs": [],
   "source": [
    "l2.extend(l)"
   ]
  },
  {
   "cell_type": "code",
   "execution_count": 94,
   "id": "3a808dd7",
   "metadata": {},
   "outputs": [
    {
     "data": {
      "text/plain": [
       "[9, 5, 6, 7, 8, 9]"
      ]
     },
     "execution_count": 94,
     "metadata": {},
     "output_type": "execute_result"
    }
   ],
   "source": [
    "l2"
   ]
  },
  {
   "cell_type": "code",
   "execution_count": 95,
   "id": "5333d976",
   "metadata": {},
   "outputs": [],
   "source": [
    "del l2[2]"
   ]
  },
  {
   "cell_type": "code",
   "execution_count": 96,
   "id": "6f57f95f",
   "metadata": {},
   "outputs": [],
   "source": [
    "del l"
   ]
  },
  {
   "cell_type": "code",
   "execution_count": 97,
   "id": "a365823e",
   "metadata": {},
   "outputs": [],
   "source": [
    "l2.clear()"
   ]
  },
  {
   "cell_type": "code",
   "execution_count": 98,
   "id": "745a2234",
   "metadata": {},
   "outputs": [
    {
     "data": {
      "text/plain": [
       "[]"
      ]
     },
     "execution_count": 98,
     "metadata": {},
     "output_type": "execute_result"
    }
   ],
   "source": [
    "l2"
   ]
  },
  {
   "cell_type": "code",
   "execution_count": 99,
   "id": "1618238a",
   "metadata": {},
   "outputs": [],
   "source": [
    "# loop lists"
   ]
  },
  {
   "cell_type": "code",
   "execution_count": 100,
   "id": "4f149254",
   "metadata": {},
   "outputs": [
    {
     "name": "stdout",
     "output_type": "stream",
     "text": [
      "list one elements:  [5, 7, 9, 11, 13, 15, 17, 19]\n",
      "list two elements:  [10, 13, 16, 19, 22, 25, 28]\n"
     ]
    }
   ],
   "source": [
    "l1=list(range(5,20,2))\n",
    "l2=list(range(10,30,3))\n",
    "print(\"list one elements: \",l1)\n",
    "print(\"list two elements: \",l2)"
   ]
  },
  {
   "cell_type": "code",
   "execution_count": 101,
   "id": "ffd71a18",
   "metadata": {},
   "outputs": [
    {
     "name": "stdout",
     "output_type": "stream",
     "text": [
      "5\n",
      "7\n",
      "9\n",
      "11\n",
      "13\n",
      "15\n",
      "17\n",
      "19\n"
     ]
    }
   ],
   "source": [
    "# loop through list\n",
    "for x in l1:\n",
    "    print(x)"
   ]
  },
  {
   "cell_type": "code",
   "execution_count": 102,
   "id": "fff407d4",
   "metadata": {},
   "outputs": [
    {
     "name": "stdout",
     "output_type": "stream",
     "text": [
      "5\n",
      "7\n",
      "9\n",
      "11\n",
      "13\n",
      "15\n",
      "17\n",
      "19\n"
     ]
    }
   ],
   "source": [
    "# loop through index\n",
    "for i in range(len(l1)):\n",
    "    print(l1[i])"
   ]
  },
  {
   "cell_type": "code",
   "execution_count": 103,
   "id": "802334ae",
   "metadata": {},
   "outputs": [
    {
     "name": "stdout",
     "output_type": "stream",
     "text": [
      "5\n",
      "7\n",
      "9\n",
      "11\n",
      "13\n",
      "15\n",
      "17\n",
      "19\n"
     ]
    }
   ],
   "source": [
    "# using while loop\n",
    "l1=[5, 7, 9, 11, 13, 15, 17, 19]\n",
    "i=0\n",
    "while i<len(l1):\n",
    "    print(l1[i])\n",
    "    i+=1"
   ]
  },
  {
   "cell_type": "code",
   "execution_count": 104,
   "id": "90d692b1",
   "metadata": {},
   "outputs": [
    {
     "name": "stdout",
     "output_type": "stream",
     "text": [
      "5\n",
      "7\n",
      "9\n",
      "11\n",
      "13\n",
      "15\n",
      "17\n",
      "19\n"
     ]
    },
    {
     "data": {
      "text/plain": [
       "[None, None, None, None, None, None, None, None]"
      ]
     },
     "execution_count": 104,
     "metadata": {},
     "output_type": "execute_result"
    }
   ],
   "source": [
    "# list comprehension\n",
    "[print(x) for x in l1]"
   ]
  },
  {
   "cell_type": "code",
   "execution_count": 105,
   "id": "43113976",
   "metadata": {},
   "outputs": [
    {
     "data": {
      "text/plain": [
       "[5, 7, 9, 11, 13, 15, 17, 19]"
      ]
     },
     "execution_count": 105,
     "metadata": {},
     "output_type": "execute_result"
    }
   ],
   "source": [
    "newlist=[x for x in l1 if 11 in l1]\n",
    "newlist"
   ]
  },
  {
   "cell_type": "code",
   "execution_count": 106,
   "id": "8fa4eab7",
   "metadata": {},
   "outputs": [
    {
     "data": {
      "text/plain": [
       "[5, 7, 9, 11, 13, 15, 17]"
      ]
     },
     "execution_count": 106,
     "metadata": {},
     "output_type": "execute_result"
    }
   ],
   "source": [
    "newlist=[x for x in l1 if x!=19 ]\n",
    "newlist"
   ]
  },
  {
   "cell_type": "code",
   "execution_count": 107,
   "id": "d69bff97",
   "metadata": {},
   "outputs": [
    {
     "data": {
      "text/plain": [
       "[0, 1, 2, 3, 4, 5, 6, 7, 8, 9]"
      ]
     },
     "execution_count": 107,
     "metadata": {},
     "output_type": "execute_result"
    }
   ],
   "source": [
    "newlist=[x for x in range(10)]\n",
    "newlist"
   ]
  },
  {
   "cell_type": "code",
   "execution_count": 108,
   "id": "9b77d3d9",
   "metadata": {},
   "outputs": [
    {
     "data": {
      "text/plain": [
       "[0, 1, 2, 3, 4, 5]"
      ]
     },
     "execution_count": 108,
     "metadata": {},
     "output_type": "execute_result"
    }
   ],
   "source": [
    "newlist=[x for x in range(10) if x<6]\n",
    "newlist"
   ]
  },
  {
   "cell_type": "code",
   "execution_count": 109,
   "id": "5766c430",
   "metadata": {},
   "outputs": [
    {
     "data": {
      "text/plain": [
       "[11, 11, 11, 11, 11, 11, 11]"
      ]
     },
     "execution_count": 109,
     "metadata": {},
     "output_type": "execute_result"
    }
   ],
   "source": [
    "newlist=[x for x in range(10,50,6)]\n",
    "newlist=[11 for x in newlist]\n",
    "newlist"
   ]
  },
  {
   "cell_type": "code",
   "execution_count": 110,
   "id": "efa2e66d",
   "metadata": {},
   "outputs": [
    {
     "data": {
      "text/plain": [
       "[5, 12, 19, 26, 33, 40, 47]"
      ]
     },
     "execution_count": 110,
     "metadata": {},
     "output_type": "execute_result"
    }
   ],
   "source": [
    "newlist=[x for x in range(5,50,7)]\n",
    "newlist"
   ]
  },
  {
   "cell_type": "code",
   "execution_count": 111,
   "id": "6905be80",
   "metadata": {},
   "outputs": [
    {
     "data": {
      "text/plain": [
       "[5, 12, 19, 26, 33, 40, 47]"
      ]
     },
     "execution_count": 111,
     "metadata": {},
     "output_type": "execute_result"
    }
   ],
   "source": [
    "newlist=[5, 12, 19, 26, 33, 40, 47]\n",
    "newlist=[x if x!=13 else 12 for x in newlist]\n",
    "newlist"
   ]
  },
  {
   "cell_type": "code",
   "execution_count": 112,
   "id": "88bffa75",
   "metadata": {},
   "outputs": [],
   "source": [
    "# sort elements\n",
    "l2=[2,3,4,5,6,1,2,39,5,1,23,6,5,47,45]\n",
    "l2.sort()"
   ]
  },
  {
   "cell_type": "code",
   "execution_count": 113,
   "id": "fed271af",
   "metadata": {},
   "outputs": [],
   "source": [
    "l2.sort(reverse=True)"
   ]
  },
  {
   "cell_type": "code",
   "execution_count": 114,
   "id": "e6cfa194",
   "metadata": {},
   "outputs": [
    {
     "data": {
      "text/plain": [
       "[47, 45, 39, 23, 6, 6, 5, 5, 5, 4, 3, 2, 2, 1, 1]"
      ]
     },
     "execution_count": 114,
     "metadata": {},
     "output_type": "execute_result"
    }
   ],
   "source": [
    "l2"
   ]
  },
  {
   "cell_type": "code",
   "execution_count": 115,
   "id": "a1f0d74e",
   "metadata": {},
   "outputs": [],
   "source": [
    "l=[\"SFGHDJfgh\",\"fghjFFGH\",\"fGHBJhjk\"]"
   ]
  },
  {
   "cell_type": "code",
   "execution_count": 116,
   "id": "a17676df",
   "metadata": {},
   "outputs": [],
   "source": [
    "l.sort(key=str.lower)"
   ]
  },
  {
   "cell_type": "code",
   "execution_count": 117,
   "id": "0b9df9c6",
   "metadata": {},
   "outputs": [
    {
     "data": {
      "text/plain": [
       "[47, 45, 39, 23, 6, 6, 5, 5, 5, 4, 3, 2, 2, 1]"
      ]
     },
     "execution_count": 117,
     "metadata": {},
     "output_type": "execute_result"
    }
   ],
   "source": [
    "l2[-15:-1]"
   ]
  },
  {
   "cell_type": "code",
   "execution_count": 118,
   "id": "e0cb7b1c",
   "metadata": {},
   "outputs": [
    {
     "data": {
      "text/plain": [
       "[47, 45, 39, 23, 6, 6, 5, 5, 5, 4, 3, 2, 2, 1, 1]"
      ]
     },
     "execution_count": 118,
     "metadata": {},
     "output_type": "execute_result"
    }
   ],
   "source": [
    "l2.copy()"
   ]
  },
  {
   "cell_type": "code",
   "execution_count": 119,
   "id": "98910143",
   "metadata": {},
   "outputs": [],
   "source": [
    "l3=list(l2)"
   ]
  },
  {
   "cell_type": "code",
   "execution_count": 120,
   "id": "73d8ebf3",
   "metadata": {},
   "outputs": [
    {
     "data": {
      "text/plain": [
       "[47, 45, 39, 23, 6, 6, 5, 5, 5, 4, 3, 2, 2, 1, 1]"
      ]
     },
     "execution_count": 120,
     "metadata": {},
     "output_type": "execute_result"
    }
   ],
   "source": [
    "l3"
   ]
  },
  {
   "cell_type": "code",
   "execution_count": 121,
   "id": "95be2212",
   "metadata": {},
   "outputs": [],
   "source": [
    "# join\n",
    "l3=l1+l2"
   ]
  },
  {
   "cell_type": "code",
   "execution_count": 122,
   "id": "7b24ecd7",
   "metadata": {},
   "outputs": [
    {
     "data": {
      "text/plain": [
       "[5, 7, 9, 11, 13, 15, 17, 19, 47, 45, 39, 23, 6, 6, 5, 5, 5, 4, 3, 2, 2, 1, 1]"
      ]
     },
     "execution_count": 122,
     "metadata": {},
     "output_type": "execute_result"
    }
   ],
   "source": [
    "l3"
   ]
  },
  {
   "cell_type": "code",
   "execution_count": 123,
   "id": "4307cdae",
   "metadata": {},
   "outputs": [],
   "source": [
    "l1.append(l2)"
   ]
  },
  {
   "cell_type": "code",
   "execution_count": 124,
   "id": "ffd05d18",
   "metadata": {},
   "outputs": [
    {
     "data": {
      "text/plain": [
       "[5,\n",
       " 7,\n",
       " 9,\n",
       " 11,\n",
       " 13,\n",
       " 15,\n",
       " 17,\n",
       " 19,\n",
       " [47, 45, 39, 23, 6, 6, 5, 5, 5, 4, 3, 2, 2, 1, 1]]"
      ]
     },
     "execution_count": 124,
     "metadata": {},
     "output_type": "execute_result"
    }
   ],
   "source": [
    "l1"
   ]
  },
  {
   "cell_type": "code",
   "execution_count": 125,
   "id": "7068531f",
   "metadata": {},
   "outputs": [],
   "source": [
    "l1.extend(l2)"
   ]
  },
  {
   "cell_type": "code",
   "execution_count": 126,
   "id": "212dcdb6",
   "metadata": {},
   "outputs": [
    {
     "data": {
      "text/plain": [
       "[5,\n",
       " 7,\n",
       " 9,\n",
       " 11,\n",
       " 13,\n",
       " 15,\n",
       " 17,\n",
       " 19,\n",
       " [47, 45, 39, 23, 6, 6, 5, 5, 5, 4, 3, 2, 2, 1, 1],\n",
       " 47,\n",
       " 45,\n",
       " 39,\n",
       " 23,\n",
       " 6,\n",
       " 6,\n",
       " 5,\n",
       " 5,\n",
       " 5,\n",
       " 4,\n",
       " 3,\n",
       " 2,\n",
       " 2,\n",
       " 1,\n",
       " 1]"
      ]
     },
     "execution_count": 126,
     "metadata": {},
     "output_type": "execute_result"
    }
   ],
   "source": [
    "l1"
   ]
  },
  {
   "cell_type": "markdown",
   "id": "cb6f96e1",
   "metadata": {},
   "source": [
    "## Tuple\n",
    "### accep all data types,ordered, unchangeble,allow duplicates,indexed\n",
    "    same as list\n",
    "    count(),index()"
   ]
  },
  {
   "cell_type": "code",
   "execution_count": 127,
   "id": "e2238b40",
   "metadata": {},
   "outputs": [],
   "source": [
    "# create tuple\n",
    "t=(1,2,3,4,5)"
   ]
  },
  {
   "cell_type": "code",
   "execution_count": 128,
   "id": "165ff3c2",
   "metadata": {},
   "outputs": [
    {
     "data": {
      "text/plain": [
       "(1, 2, 3, 4, 5)"
      ]
     },
     "execution_count": 128,
     "metadata": {},
     "output_type": "execute_result"
    }
   ],
   "source": [
    "t"
   ]
  },
  {
   "cell_type": "code",
   "execution_count": 129,
   "id": "b8338f44",
   "metadata": {},
   "outputs": [
    {
     "data": {
      "text/plain": [
       "tuple"
      ]
     },
     "execution_count": 129,
     "metadata": {},
     "output_type": "execute_result"
    }
   ],
   "source": [
    "type(t)"
   ]
  },
  {
   "cell_type": "code",
   "execution_count": 130,
   "id": "f09b2660",
   "metadata": {},
   "outputs": [
    {
     "data": {
      "text/plain": [
       "5"
      ]
     },
     "execution_count": 130,
     "metadata": {},
     "output_type": "execute_result"
    }
   ],
   "source": [
    "len(t)"
   ]
  },
  {
   "cell_type": "code",
   "execution_count": 131,
   "id": "0d7f0790",
   "metadata": {},
   "outputs": [],
   "source": [
    "# tuple with single element\n",
    "t=(\"hai\")"
   ]
  },
  {
   "cell_type": "code",
   "execution_count": 132,
   "id": "d54451ea",
   "metadata": {},
   "outputs": [
    {
     "data": {
      "text/plain": [
       "'hai'"
      ]
     },
     "execution_count": 132,
     "metadata": {},
     "output_type": "execute_result"
    }
   ],
   "source": [
    "t"
   ]
  },
  {
   "cell_type": "code",
   "execution_count": 133,
   "id": "f6ed7eab",
   "metadata": {},
   "outputs": [
    {
     "data": {
      "text/plain": [
       "str"
      ]
     },
     "execution_count": 133,
     "metadata": {},
     "output_type": "execute_result"
    }
   ],
   "source": [
    "type(t)"
   ]
  },
  {
   "cell_type": "code",
   "execution_count": 134,
   "id": "c1a61c4b",
   "metadata": {},
   "outputs": [],
   "source": [
    "t=(\"haii\",)"
   ]
  },
  {
   "cell_type": "code",
   "execution_count": 135,
   "id": "f8d7295d",
   "metadata": {},
   "outputs": [
    {
     "data": {
      "text/plain": [
       "tuple"
      ]
     },
     "execution_count": 135,
     "metadata": {},
     "output_type": "execute_result"
    }
   ],
   "source": [
    "type(t)"
   ]
  },
  {
   "cell_type": "code",
   "execution_count": 136,
   "id": "c1e61ffb",
   "metadata": {},
   "outputs": [],
   "source": [
    "t=(\"apple\",56,True)"
   ]
  },
  {
   "cell_type": "code",
   "execution_count": 137,
   "id": "318f38c2",
   "metadata": {},
   "outputs": [
    {
     "data": {
      "text/plain": [
       "('apple', 56, True)"
      ]
     },
     "execution_count": 137,
     "metadata": {},
     "output_type": "execute_result"
    }
   ],
   "source": [
    "t"
   ]
  },
  {
   "cell_type": "code",
   "execution_count": 138,
   "id": "469f1e67",
   "metadata": {},
   "outputs": [],
   "source": [
    "# tuple constructure\n",
    "t=((4,\"haiii\",False))"
   ]
  },
  {
   "cell_type": "code",
   "execution_count": 139,
   "id": "abe35b99",
   "metadata": {},
   "outputs": [
    {
     "data": {
      "text/plain": [
       "tuple"
      ]
     },
     "execution_count": 139,
     "metadata": {},
     "output_type": "execute_result"
    }
   ],
   "source": [
    "type(t)"
   ]
  },
  {
   "cell_type": "code",
   "execution_count": 140,
   "id": "6d63b407",
   "metadata": {},
   "outputs": [
    {
     "data": {
      "text/plain": [
       "3"
      ]
     },
     "execution_count": 140,
     "metadata": {},
     "output_type": "execute_result"
    }
   ],
   "source": [
    "len(t)"
   ]
  },
  {
   "cell_type": "code",
   "execution_count": 141,
   "id": "d0ab490a",
   "metadata": {},
   "outputs": [],
   "source": [
    "# access tuple elements"
   ]
  },
  {
   "cell_type": "code",
   "execution_count": 142,
   "id": "4d21ca02",
   "metadata": {},
   "outputs": [],
   "source": [
    "t=tuple(range(5,60,6))"
   ]
  },
  {
   "cell_type": "code",
   "execution_count": 143,
   "id": "f0982e9f",
   "metadata": {},
   "outputs": [
    {
     "data": {
      "text/plain": [
       "(5, 11, 17, 23, 29, 35, 41, 47, 53, 59)"
      ]
     },
     "execution_count": 143,
     "metadata": {},
     "output_type": "execute_result"
    }
   ],
   "source": [
    "t"
   ]
  },
  {
   "cell_type": "code",
   "execution_count": 144,
   "id": "650f2c52",
   "metadata": {},
   "outputs": [
    {
     "data": {
      "text/plain": [
       "tuple"
      ]
     },
     "execution_count": 144,
     "metadata": {},
     "output_type": "execute_result"
    }
   ],
   "source": [
    "type(t)"
   ]
  },
  {
   "cell_type": "code",
   "execution_count": 145,
   "id": "f03cc53d",
   "metadata": {},
   "outputs": [
    {
     "data": {
      "text/plain": [
       "29"
      ]
     },
     "execution_count": 145,
     "metadata": {},
     "output_type": "execute_result"
    }
   ],
   "source": [
    "t[4]"
   ]
  },
  {
   "cell_type": "code",
   "execution_count": 146,
   "id": "ae6c7122",
   "metadata": {},
   "outputs": [
    {
     "name": "stdout",
     "output_type": "stream",
     "text": [
      "[0, 1, 2, 3, 4, 5, 6, 7, 8, 9]\n",
      "(5, 11, 17, 23, 29, 35, 41, 47, 53, 59)\n"
     ]
    }
   ],
   "source": [
    "print([x for x in range(len(t))])\n",
    "print(t)"
   ]
  },
  {
   "cell_type": "code",
   "execution_count": 147,
   "id": "90b41b30",
   "metadata": {},
   "outputs": [
    {
     "data": {
      "text/plain": [
       "(35, 41, 47, 53, 59)"
      ]
     },
     "execution_count": 147,
     "metadata": {},
     "output_type": "execute_result"
    }
   ],
   "source": [
    "t[5:]"
   ]
  },
  {
   "cell_type": "code",
   "execution_count": 148,
   "id": "05191203",
   "metadata": {},
   "outputs": [
    {
     "data": {
      "text/plain": [
       "(5, 11)"
      ]
     },
     "execution_count": 148,
     "metadata": {},
     "output_type": "execute_result"
    }
   ],
   "source": [
    "t[:2]"
   ]
  },
  {
   "cell_type": "code",
   "execution_count": 149,
   "id": "e747c93a",
   "metadata": {},
   "outputs": [
    {
     "data": {
      "text/plain": [
       "59"
      ]
     },
     "execution_count": 149,
     "metadata": {},
     "output_type": "execute_result"
    }
   ],
   "source": [
    "t[-1]"
   ]
  },
  {
   "cell_type": "code",
   "execution_count": 150,
   "id": "e7779962",
   "metadata": {},
   "outputs": [
    {
     "data": {
      "text/plain": [
       "(17, 23)"
      ]
     },
     "execution_count": 150,
     "metadata": {},
     "output_type": "execute_result"
    }
   ],
   "source": [
    "t[2:4]"
   ]
  },
  {
   "cell_type": "code",
   "execution_count": 151,
   "id": "95272b0f",
   "metadata": {},
   "outputs": [
    {
     "name": "stdout",
     "output_type": "stream",
     "text": [
      "no\n"
     ]
    }
   ],
   "source": [
    "if 6 in t:\n",
    "    print(\"yes\")\n",
    "else:\n",
    "    print(\"no\")"
   ]
  },
  {
   "cell_type": "code",
   "execution_count": 152,
   "id": "7893b812",
   "metadata": {},
   "outputs": [],
   "source": [
    "# change tuple elements ..so here we need to concert into list first then perform "
   ]
  },
  {
   "cell_type": "code",
   "execution_count": 153,
   "id": "2dbd5f36",
   "metadata": {},
   "outputs": [
    {
     "data": {
      "text/plain": [
       "(5, 11, 17, 23, 29, 35, 41, 47, 53, 59)"
      ]
     },
     "execution_count": 153,
     "metadata": {},
     "output_type": "execute_result"
    }
   ],
   "source": [
    "t"
   ]
  },
  {
   "cell_type": "code",
   "execution_count": 154,
   "id": "1aeb67f4",
   "metadata": {},
   "outputs": [],
   "source": [
    "t=list(t)"
   ]
  },
  {
   "cell_type": "code",
   "execution_count": 155,
   "id": "bce8d0dd",
   "metadata": {},
   "outputs": [
    {
     "data": {
      "text/plain": [
       "[5, 11, 17, 23, 29, 35, 41, 47, 53, 59]"
      ]
     },
     "execution_count": 155,
     "metadata": {},
     "output_type": "execute_result"
    }
   ],
   "source": [
    "t"
   ]
  },
  {
   "cell_type": "code",
   "execution_count": 156,
   "id": "047c2509",
   "metadata": {},
   "outputs": [],
   "source": [
    "t.append(4)"
   ]
  },
  {
   "cell_type": "code",
   "execution_count": 157,
   "id": "cbf395d7",
   "metadata": {},
   "outputs": [
    {
     "data": {
      "text/plain": [
       "[5, 11, 17, 23, 29, 35, 41, 47, 53, 59, 4]"
      ]
     },
     "execution_count": 157,
     "metadata": {},
     "output_type": "execute_result"
    }
   ],
   "source": [
    "t"
   ]
  },
  {
   "cell_type": "code",
   "execution_count": 158,
   "id": "c456f19d",
   "metadata": {},
   "outputs": [],
   "source": [
    "t.append([4,5,6])"
   ]
  },
  {
   "cell_type": "code",
   "execution_count": 159,
   "id": "23336e67",
   "metadata": {},
   "outputs": [
    {
     "data": {
      "text/plain": [
       "[5, 11, 17, 23, 29, 35, 41, 47, 53, 59, 4, [4, 5, 6]]"
      ]
     },
     "execution_count": 159,
     "metadata": {},
     "output_type": "execute_result"
    }
   ],
   "source": [
    "t"
   ]
  },
  {
   "cell_type": "code",
   "execution_count": 160,
   "id": "9c4554ed",
   "metadata": {},
   "outputs": [],
   "source": [
    "t1=tuple(range(10,20,2))"
   ]
  },
  {
   "cell_type": "code",
   "execution_count": 161,
   "id": "185b0856",
   "metadata": {},
   "outputs": [
    {
     "data": {
      "text/plain": [
       "(10, 12, 14, 16, 18)"
      ]
     },
     "execution_count": 161,
     "metadata": {},
     "output_type": "execute_result"
    }
   ],
   "source": [
    "t1"
   ]
  },
  {
   "cell_type": "code",
   "execution_count": 162,
   "id": "7dcd98fd",
   "metadata": {},
   "outputs": [
    {
     "data": {
      "text/plain": [
       "[5, 11, 17, 23, 29, 35, 41, 47, 53, 59, 4, [4, 5, 6], 10, 12, 14, 16, 18]"
      ]
     },
     "execution_count": 162,
     "metadata": {},
     "output_type": "execute_result"
    }
   ],
   "source": [
    "t.extend(t1)\n",
    "t"
   ]
  },
  {
   "cell_type": "code",
   "execution_count": 163,
   "id": "5ba4c93f",
   "metadata": {},
   "outputs": [],
   "source": [
    "t.insert(4,5656)"
   ]
  },
  {
   "cell_type": "code",
   "execution_count": 164,
   "id": "a6ebd19c",
   "metadata": {},
   "outputs": [
    {
     "data": {
      "text/plain": [
       "[5, 11, 17, 23, 5656, 29, 35, 41, 47, 53, 59, 4, [4, 5, 6], 10, 12, 14, 16, 18]"
      ]
     },
     "execution_count": 164,
     "metadata": {},
     "output_type": "execute_result"
    }
   ],
   "source": [
    "t"
   ]
  },
  {
   "cell_type": "code",
   "execution_count": 165,
   "id": "144dda38",
   "metadata": {},
   "outputs": [],
   "source": [
    "t=tuple(t)"
   ]
  },
  {
   "cell_type": "code",
   "execution_count": 166,
   "id": "c1c1d211",
   "metadata": {},
   "outputs": [
    {
     "data": {
      "text/plain": [
       "(5, 11, 17, 23, 5656, 29, 35, 41, 47, 53, 59, 4, [4, 5, 6], 10, 12, 14, 16, 18)"
      ]
     },
     "execution_count": 166,
     "metadata": {},
     "output_type": "execute_result"
    }
   ],
   "source": [
    "t"
   ]
  },
  {
   "cell_type": "code",
   "execution_count": 167,
   "id": "1eda0f17",
   "metadata": {},
   "outputs": [
    {
     "data": {
      "text/plain": [
       "tuple"
      ]
     },
     "execution_count": 167,
     "metadata": {},
     "output_type": "execute_result"
    }
   ],
   "source": [
    "type(t)"
   ]
  },
  {
   "cell_type": "code",
   "execution_count": 168,
   "id": "07a3a2cd",
   "metadata": {},
   "outputs": [],
   "source": [
    "# remove tuple items"
   ]
  },
  {
   "cell_type": "code",
   "execution_count": 169,
   "id": "3a69c726",
   "metadata": {},
   "outputs": [],
   "source": [
    "t=list(t)"
   ]
  },
  {
   "cell_type": "code",
   "execution_count": 170,
   "id": "d821f3ff",
   "metadata": {},
   "outputs": [
    {
     "data": {
      "text/plain": [
       "[5, 11, 17, 23, 5656, 29, 35, 41, 47, 53, 59, 4, [4, 5, 6], 10, 12, 14, 16, 18]"
      ]
     },
     "execution_count": 170,
     "metadata": {},
     "output_type": "execute_result"
    }
   ],
   "source": [
    "t"
   ]
  },
  {
   "cell_type": "code",
   "execution_count": 171,
   "id": "49c5b947",
   "metadata": {},
   "outputs": [],
   "source": [
    "t.remove(59)"
   ]
  },
  {
   "cell_type": "code",
   "execution_count": 172,
   "id": "e5eb369e",
   "metadata": {},
   "outputs": [
    {
     "data": {
      "text/plain": [
       "[5, 11, 17, 23, 5656, 29, 35, 41, 47, 53, 4, [4, 5, 6], 10, 12, 14, 16, 18]"
      ]
     },
     "execution_count": 172,
     "metadata": {},
     "output_type": "execute_result"
    }
   ],
   "source": [
    "t"
   ]
  },
  {
   "cell_type": "code",
   "execution_count": 173,
   "id": "ca57fd73",
   "metadata": {},
   "outputs": [
    {
     "data": {
      "text/plain": [
       "18"
      ]
     },
     "execution_count": 173,
     "metadata": {},
     "output_type": "execute_result"
    }
   ],
   "source": [
    "t.pop()"
   ]
  },
  {
   "cell_type": "code",
   "execution_count": 174,
   "id": "9ee6d220",
   "metadata": {},
   "outputs": [
    {
     "data": {
      "text/plain": [
       "[4, 5, 6]"
      ]
     },
     "execution_count": 174,
     "metadata": {},
     "output_type": "execute_result"
    }
   ],
   "source": [
    "t.pop(11)"
   ]
  },
  {
   "cell_type": "code",
   "execution_count": 175,
   "id": "84802d74",
   "metadata": {},
   "outputs": [
    {
     "data": {
      "text/plain": [
       "[5, 11, 17, 23, 5656, 29, 35, 41, 47, 53, 4, 10, 12, 14, 16]"
      ]
     },
     "execution_count": 175,
     "metadata": {},
     "output_type": "execute_result"
    }
   ],
   "source": [
    "t"
   ]
  },
  {
   "cell_type": "code",
   "execution_count": 176,
   "id": "0a9b5b8c",
   "metadata": {},
   "outputs": [],
   "source": [
    "del t[0]"
   ]
  },
  {
   "cell_type": "code",
   "execution_count": 177,
   "id": "165e2c7e",
   "metadata": {},
   "outputs": [
    {
     "data": {
      "text/plain": [
       "[11, 17, 23, 5656, 29, 35, 41, 47, 53, 4, 10, 12, 14, 16]"
      ]
     },
     "execution_count": 177,
     "metadata": {},
     "output_type": "execute_result"
    }
   ],
   "source": [
    "t"
   ]
  },
  {
   "cell_type": "code",
   "execution_count": 178,
   "id": "e8c6190b",
   "metadata": {},
   "outputs": [],
   "source": [
    "tt=t"
   ]
  },
  {
   "cell_type": "code",
   "execution_count": 179,
   "id": "0a3b3b4e",
   "metadata": {},
   "outputs": [
    {
     "data": {
      "text/plain": [
       "[11, 17, 23, 5656, 29, 35, 41, 47, 53, 4, 10, 12, 14, 16]"
      ]
     },
     "execution_count": 179,
     "metadata": {},
     "output_type": "execute_result"
    }
   ],
   "source": [
    "tt"
   ]
  },
  {
   "cell_type": "code",
   "execution_count": 180,
   "id": "15716fc4",
   "metadata": {},
   "outputs": [],
   "source": [
    "del tt"
   ]
  },
  {
   "cell_type": "code",
   "execution_count": 181,
   "id": "4a999fdb",
   "metadata": {},
   "outputs": [],
   "source": [
    "##tt"
   ]
  },
  {
   "cell_type": "code",
   "execution_count": 182,
   "id": "f9932cbc",
   "metadata": {},
   "outputs": [],
   "source": [
    "tt=t"
   ]
  },
  {
   "cell_type": "code",
   "execution_count": 183,
   "id": "dc0a383d",
   "metadata": {},
   "outputs": [
    {
     "data": {
      "text/plain": [
       "[11, 17, 23, 5656, 29, 35, 41, 47, 53, 4, 10, 12, 14, 16]"
      ]
     },
     "execution_count": 183,
     "metadata": {},
     "output_type": "execute_result"
    }
   ],
   "source": [
    "tt"
   ]
  },
  {
   "cell_type": "code",
   "execution_count": 184,
   "id": "fa8f78e8",
   "metadata": {},
   "outputs": [],
   "source": [
    "tt.clear()"
   ]
  },
  {
   "cell_type": "code",
   "execution_count": 185,
   "id": "15b2e285",
   "metadata": {},
   "outputs": [
    {
     "data": {
      "text/plain": [
       "[]"
      ]
     },
     "execution_count": 185,
     "metadata": {},
     "output_type": "execute_result"
    }
   ],
   "source": [
    "tt"
   ]
  },
  {
   "cell_type": "code",
   "execution_count": 186,
   "id": "c2c8e2de",
   "metadata": {},
   "outputs": [
    {
     "data": {
      "text/plain": [
       "[]"
      ]
     },
     "execution_count": 186,
     "metadata": {},
     "output_type": "execute_result"
    }
   ],
   "source": [
    "t"
   ]
  },
  {
   "cell_type": "code",
   "execution_count": 187,
   "id": "1913ed39",
   "metadata": {},
   "outputs": [],
   "source": [
    "t=[11, 17, 23, 5656, 29, 35, 41, 47, 53, 4, 10, 12, 14, 16]"
   ]
  },
  {
   "cell_type": "code",
   "execution_count": 188,
   "id": "c941aa35",
   "metadata": {},
   "outputs": [],
   "source": [
    "t=tuple(t)"
   ]
  },
  {
   "cell_type": "code",
   "execution_count": 189,
   "id": "e3ba22c9",
   "metadata": {},
   "outputs": [
    {
     "data": {
      "text/plain": [
       "tuple"
      ]
     },
     "execution_count": 189,
     "metadata": {},
     "output_type": "execute_result"
    }
   ],
   "source": [
    "type(t)"
   ]
  },
  {
   "cell_type": "code",
   "execution_count": 190,
   "id": "4dad9a8a",
   "metadata": {},
   "outputs": [],
   "source": [
    "# packing and unpacking"
   ]
  },
  {
   "cell_type": "code",
   "execution_count": 191,
   "id": "3fd7efc6",
   "metadata": {},
   "outputs": [],
   "source": [
    "f=(\"a\",\"b\",\"c\",\"d\",45,236,2.3)"
   ]
  },
  {
   "cell_type": "code",
   "execution_count": 192,
   "id": "648a5970",
   "metadata": {},
   "outputs": [
    {
     "data": {
      "text/plain": [
       "('a', 'b', 'c', 'd', 45, 236, 2.3)"
      ]
     },
     "execution_count": 192,
     "metadata": {},
     "output_type": "execute_result"
    }
   ],
   "source": [
    "f"
   ]
  },
  {
   "cell_type": "code",
   "execution_count": 193,
   "id": "52535f9b",
   "metadata": {},
   "outputs": [
    {
     "data": {
      "text/plain": [
       "tuple"
      ]
     },
     "execution_count": 193,
     "metadata": {},
     "output_type": "execute_result"
    }
   ],
   "source": [
    "type(f)"
   ]
  },
  {
   "cell_type": "code",
   "execution_count": 194,
   "id": "4bf43cde",
   "metadata": {},
   "outputs": [],
   "source": [
    "x,y,*z=f"
   ]
  },
  {
   "cell_type": "code",
   "execution_count": 195,
   "id": "9fd6f791",
   "metadata": {},
   "outputs": [
    {
     "data": {
      "text/plain": [
       "'a'"
      ]
     },
     "execution_count": 195,
     "metadata": {},
     "output_type": "execute_result"
    }
   ],
   "source": [
    "x"
   ]
  },
  {
   "cell_type": "code",
   "execution_count": 196,
   "id": "4f9e55a3",
   "metadata": {},
   "outputs": [
    {
     "data": {
      "text/plain": [
       "'b'"
      ]
     },
     "execution_count": 196,
     "metadata": {},
     "output_type": "execute_result"
    }
   ],
   "source": [
    "y"
   ]
  },
  {
   "cell_type": "code",
   "execution_count": 197,
   "id": "532281cf",
   "metadata": {},
   "outputs": [
    {
     "data": {
      "text/plain": [
       "['c', 'd', 45, 236, 2.3]"
      ]
     },
     "execution_count": 197,
     "metadata": {},
     "output_type": "execute_result"
    }
   ],
   "source": [
    "z"
   ]
  },
  {
   "cell_type": "code",
   "execution_count": 198,
   "id": "a9be6430",
   "metadata": {},
   "outputs": [],
   "source": [
    "# loops"
   ]
  },
  {
   "cell_type": "code",
   "execution_count": 199,
   "id": "174d9133",
   "metadata": {},
   "outputs": [
    {
     "name": "stdout",
     "output_type": "stream",
     "text": [
      "c\n",
      "d\n",
      "45\n",
      "236\n",
      "2.3\n"
     ]
    }
   ],
   "source": [
    "# loop through tuple\n",
    "for i in z:\n",
    "    print(i)"
   ]
  },
  {
   "cell_type": "code",
   "execution_count": 200,
   "id": "d7c340a2",
   "metadata": {},
   "outputs": [
    {
     "name": "stdout",
     "output_type": "stream",
     "text": [
      "c\n",
      "d\n",
      "45\n",
      "236\n",
      "2.3\n"
     ]
    }
   ],
   "source": [
    "# loop through index\n",
    "for i in range(len(z)):\n",
    "    print(z[i])"
   ]
  },
  {
   "cell_type": "code",
   "execution_count": null,
   "id": "68a3b7d1",
   "metadata": {},
   "outputs": [],
   "source": []
  },
  {
   "cell_type": "code",
   "execution_count": 201,
   "id": "66f6effa",
   "metadata": {},
   "outputs": [
    {
     "name": "stdout",
     "output_type": "stream",
     "text": [
      "c\n",
      "d\n",
      "45\n",
      "236\n",
      "2.3\n"
     ]
    }
   ],
   "source": [
    "i=0\n",
    "while i<len(z):\n",
    "    print(z[i])\n",
    "    i+=1"
   ]
  },
  {
   "cell_type": "code",
   "execution_count": 202,
   "id": "bbe7d2be",
   "metadata": {},
   "outputs": [],
   "source": [
    "# join tuples"
   ]
  },
  {
   "cell_type": "code",
   "execution_count": 203,
   "id": "93b6ccfc",
   "metadata": {},
   "outputs": [],
   "source": [
    "t3=t+tuple(z)"
   ]
  },
  {
   "cell_type": "code",
   "execution_count": 204,
   "id": "e8398e58",
   "metadata": {},
   "outputs": [
    {
     "data": {
      "text/plain": [
       "(11,\n",
       " 17,\n",
       " 23,\n",
       " 5656,\n",
       " 29,\n",
       " 35,\n",
       " 41,\n",
       " 47,\n",
       " 53,\n",
       " 4,\n",
       " 10,\n",
       " 12,\n",
       " 14,\n",
       " 16,\n",
       " 'c',\n",
       " 'd',\n",
       " 45,\n",
       " 236,\n",
       " 2.3)"
      ]
     },
     "execution_count": 204,
     "metadata": {},
     "output_type": "execute_result"
    }
   ],
   "source": [
    "t3"
   ]
  },
  {
   "cell_type": "code",
   "execution_count": 205,
   "id": "0ede16ed",
   "metadata": {},
   "outputs": [
    {
     "data": {
      "text/plain": [
       "['fGHBJhjk', 'fghjFFGH', 'SFGHDJfgh', 'fGHBJhjk', 'fghjFFGH', 'SFGHDJfgh']"
      ]
     },
     "execution_count": 205,
     "metadata": {},
     "output_type": "execute_result"
    }
   ],
   "source": [
    "l*2"
   ]
  },
  {
   "cell_type": "code",
   "execution_count": 206,
   "id": "4f81b8d6",
   "metadata": {},
   "outputs": [],
   "source": [
    "yy=t3*2"
   ]
  },
  {
   "cell_type": "code",
   "execution_count": 207,
   "id": "952e73cb",
   "metadata": {},
   "outputs": [],
   "source": [
    "# count\n",
    "x=yy.count(12)"
   ]
  },
  {
   "cell_type": "code",
   "execution_count": 208,
   "id": "f45883b9",
   "metadata": {},
   "outputs": [
    {
     "data": {
      "text/plain": [
       "2"
      ]
     },
     "execution_count": 208,
     "metadata": {},
     "output_type": "execute_result"
    }
   ],
   "source": [
    "x"
   ]
  },
  {
   "cell_type": "code",
   "execution_count": 209,
   "id": "93a87bdd",
   "metadata": {},
   "outputs": [
    {
     "data": {
      "text/plain": [
       "11"
      ]
     },
     "execution_count": 209,
     "metadata": {},
     "output_type": "execute_result"
    }
   ],
   "source": [
    "# postion\n",
    "yy.index(12)"
   ]
  },
  {
   "cell_type": "markdown",
   "id": "afab5e9e",
   "metadata": {},
   "source": [
    "## Sets\n",
    "### accep all data types,unordered, unchangeble, not allow duplicates,un indexed\n",
    "### but we can remove and add elements"
   ]
  },
  {
   "cell_type": "code",
   "execution_count": 210,
   "id": "ce3b7290",
   "metadata": {},
   "outputs": [],
   "source": [
    "myset={1,2,3,4,5,5.6,\"a\",\"f\"}"
   ]
  },
  {
   "cell_type": "code",
   "execution_count": 211,
   "id": "b88bd369",
   "metadata": {},
   "outputs": [
    {
     "data": {
      "text/plain": [
       "{1, 2, 3, 4, 5, 5.6, 'a', 'f'}"
      ]
     },
     "execution_count": 211,
     "metadata": {},
     "output_type": "execute_result"
    }
   ],
   "source": [
    "# automatically duplicates eliminated\n",
    "myset"
   ]
  },
  {
   "cell_type": "code",
   "execution_count": 212,
   "id": "266f4a9e",
   "metadata": {},
   "outputs": [
    {
     "data": {
      "text/plain": [
       "8"
      ]
     },
     "execution_count": 212,
     "metadata": {},
     "output_type": "execute_result"
    }
   ],
   "source": [
    "len(myset)"
   ]
  },
  {
   "cell_type": "code",
   "execution_count": 213,
   "id": "6a2fc07e",
   "metadata": {},
   "outputs": [
    {
     "data": {
      "text/plain": [
       "set"
      ]
     },
     "execution_count": 213,
     "metadata": {},
     "output_type": "execute_result"
    }
   ],
   "source": [
    "type(myset)"
   ]
  },
  {
   "cell_type": "code",
   "execution_count": 214,
   "id": "a9988b52",
   "metadata": {},
   "outputs": [
    {
     "name": "stdout",
     "output_type": "stream",
     "text": [
      "no\n"
     ]
    }
   ],
   "source": [
    "if 61 in myset:\n",
    "    print(\"yes\")\n",
    "else:\n",
    "    print(\"no\")"
   ]
  },
  {
   "cell_type": "code",
   "execution_count": 215,
   "id": "7c73d705",
   "metadata": {},
   "outputs": [],
   "source": [
    "#constructure\n",
    "sett=set((\"s\",\"d\",\"fg\",\"asd\",4,5,6,2,3,2,2,3,6,4,5))"
   ]
  },
  {
   "cell_type": "code",
   "execution_count": 216,
   "id": "305fe29b",
   "metadata": {},
   "outputs": [
    {
     "data": {
      "text/plain": [
       "{2, 3, 4, 5, 6, 'asd', 'd', 'fg', 's'}"
      ]
     },
     "execution_count": 216,
     "metadata": {},
     "output_type": "execute_result"
    }
   ],
   "source": [
    "sett"
   ]
  },
  {
   "cell_type": "code",
   "execution_count": 217,
   "id": "64f8bbe7",
   "metadata": {},
   "outputs": [
    {
     "name": "stdout",
     "output_type": "stream",
     "text": [
      "2\n",
      "3\n",
      "4\n",
      "5\n",
      "6\n",
      "fg\n",
      "asd\n",
      "d\n",
      "s\n"
     ]
    }
   ],
   "source": [
    "# access elements\n",
    "for x in sett:\n",
    "    print(x)"
   ]
  },
  {
   "cell_type": "code",
   "execution_count": 218,
   "id": "6048d48c",
   "metadata": {},
   "outputs": [
    {
     "name": "stdout",
     "output_type": "stream",
     "text": [
      "True\n"
     ]
    }
   ],
   "source": [
    "print(2 in sett)"
   ]
  },
  {
   "cell_type": "code",
   "execution_count": 219,
   "id": "d16336bd",
   "metadata": {},
   "outputs": [],
   "source": [
    "sett.remove(2)"
   ]
  },
  {
   "cell_type": "code",
   "execution_count": 220,
   "id": "a12255a6",
   "metadata": {},
   "outputs": [
    {
     "data": {
      "text/plain": [
       "{3, 4, 5, 6, 'asd', 'd', 'fg', 's'}"
      ]
     },
     "execution_count": 220,
     "metadata": {},
     "output_type": "execute_result"
    }
   ],
   "source": [
    "sett"
   ]
  },
  {
   "cell_type": "code",
   "execution_count": 221,
   "id": "7ada734d",
   "metadata": {},
   "outputs": [],
   "source": [
    "sett.discard(6)"
   ]
  },
  {
   "cell_type": "code",
   "execution_count": 222,
   "id": "eeae682c",
   "metadata": {},
   "outputs": [
    {
     "data": {
      "text/plain": [
       "{3, 4, 5, 'asd', 'd', 'fg', 's'}"
      ]
     },
     "execution_count": 222,
     "metadata": {},
     "output_type": "execute_result"
    }
   ],
   "source": [
    "sett"
   ]
  },
  {
   "cell_type": "code",
   "execution_count": 223,
   "id": "5919e507",
   "metadata": {},
   "outputs": [
    {
     "data": {
      "text/plain": [
       "3"
      ]
     },
     "execution_count": 223,
     "metadata": {},
     "output_type": "execute_result"
    }
   ],
   "source": [
    "sett.pop()"
   ]
  },
  {
   "cell_type": "code",
   "execution_count": 224,
   "id": "f1e4d375",
   "metadata": {},
   "outputs": [
    {
     "data": {
      "text/plain": [
       "{4, 5, 'asd', 'd', 'fg', 's'}"
      ]
     },
     "execution_count": 224,
     "metadata": {},
     "output_type": "execute_result"
    }
   ],
   "source": [
    "sett"
   ]
  },
  {
   "cell_type": "code",
   "execution_count": 225,
   "id": "a01be9ba",
   "metadata": {},
   "outputs": [
    {
     "data": {
      "text/plain": [
       "{4, 5, 'asd', 'd', 'fg', 's'}"
      ]
     },
     "execution_count": 225,
     "metadata": {},
     "output_type": "execute_result"
    }
   ],
   "source": [
    "sett"
   ]
  },
  {
   "cell_type": "code",
   "execution_count": 226,
   "id": "3cd6d4c6",
   "metadata": {},
   "outputs": [
    {
     "data": {
      "text/plain": [
       "{4, 5, 'asd', 'd', 'fg', 's'}"
      ]
     },
     "execution_count": 226,
     "metadata": {},
     "output_type": "execute_result"
    }
   ],
   "source": [
    "sett"
   ]
  },
  {
   "cell_type": "code",
   "execution_count": 227,
   "id": "036024bb",
   "metadata": {},
   "outputs": [],
   "source": [
    "sett.clear()"
   ]
  },
  {
   "cell_type": "code",
   "execution_count": 228,
   "id": "39160083",
   "metadata": {},
   "outputs": [
    {
     "data": {
      "text/plain": [
       "set()"
      ]
     },
     "execution_count": 228,
     "metadata": {},
     "output_type": "execute_result"
    }
   ],
   "source": [
    "sett"
   ]
  },
  {
   "cell_type": "code",
   "execution_count": 229,
   "id": "e7abdbe1",
   "metadata": {},
   "outputs": [],
   "source": [
    "del sett"
   ]
  },
  {
   "cell_type": "code",
   "execution_count": 230,
   "id": "477077a1",
   "metadata": {},
   "outputs": [],
   "source": [
    "## sett"
   ]
  },
  {
   "cell_type": "code",
   "execution_count": 231,
   "id": "242722d5",
   "metadata": {},
   "outputs": [],
   "source": [
    "# loops"
   ]
  },
  {
   "cell_type": "code",
   "execution_count": 232,
   "id": "78444368",
   "metadata": {},
   "outputs": [
    {
     "name": "stdout",
     "output_type": "stream",
     "text": [
      "1\n",
      "2\n",
      "3\n",
      "4\n",
      "5\n",
      "5.6\n",
      "f\n",
      "a\n"
     ]
    }
   ],
   "source": [
    "for x in myset:\n",
    "    print(x)"
   ]
  },
  {
   "cell_type": "code",
   "execution_count": 233,
   "id": "9906c8f0",
   "metadata": {},
   "outputs": [],
   "source": [
    "# join sets"
   ]
  },
  {
   "cell_type": "code",
   "execution_count": 234,
   "id": "541f07ff",
   "metadata": {},
   "outputs": [],
   "source": [
    "set1=set(range(5,96,8))\n",
    "set2=set(range(10,90,9))"
   ]
  },
  {
   "cell_type": "code",
   "execution_count": 235,
   "id": "492ce2ba",
   "metadata": {},
   "outputs": [
    {
     "data": {
      "text/plain": [
       "{5, 13, 21, 29, 37, 45, 53, 61, 69, 77, 85, 93}"
      ]
     },
     "execution_count": 235,
     "metadata": {},
     "output_type": "execute_result"
    }
   ],
   "source": [
    "set1"
   ]
  },
  {
   "cell_type": "code",
   "execution_count": 236,
   "id": "20f507ef",
   "metadata": {},
   "outputs": [
    {
     "data": {
      "text/plain": [
       "{10, 19, 28, 37, 46, 55, 64, 73, 82}"
      ]
     },
     "execution_count": 236,
     "metadata": {},
     "output_type": "execute_result"
    }
   ],
   "source": [
    "set2"
   ]
  },
  {
   "cell_type": "code",
   "execution_count": 237,
   "id": "83cdcfce",
   "metadata": {},
   "outputs": [
    {
     "data": {
      "text/plain": [
       "{5, 10, 13, 19, 21, 28, 29, 37, 45, 46, 53, 55, 61, 64, 69, 73, 77, 82, 85, 93}"
      ]
     },
     "execution_count": 237,
     "metadata": {},
     "output_type": "execute_result"
    }
   ],
   "source": [
    "set1.union(set2)"
   ]
  },
  {
   "cell_type": "code",
   "execution_count": 238,
   "id": "a49a20ca",
   "metadata": {},
   "outputs": [],
   "source": [
    "set1.update(set2)"
   ]
  },
  {
   "cell_type": "code",
   "execution_count": 239,
   "id": "0a69ddb1",
   "metadata": {},
   "outputs": [
    {
     "data": {
      "text/plain": [
       "{5, 10, 13, 19, 21, 28, 29, 37, 45, 46, 53, 55, 61, 64, 69, 73, 77, 82, 85, 93}"
      ]
     },
     "execution_count": 239,
     "metadata": {},
     "output_type": "execute_result"
    }
   ],
   "source": [
    "set1"
   ]
  },
  {
   "cell_type": "code",
   "execution_count": 240,
   "id": "5f369363",
   "metadata": {},
   "outputs": [
    {
     "data": {
      "text/plain": [
       "{10, 19, 28, 37, 46, 55, 64, 73, 82}"
      ]
     },
     "execution_count": 240,
     "metadata": {},
     "output_type": "execute_result"
    }
   ],
   "source": [
    "set2"
   ]
  },
  {
   "cell_type": "code",
   "execution_count": 241,
   "id": "5eed39e9",
   "metadata": {},
   "outputs": [],
   "source": [
    "set1=set(range(5,96,8))\n",
    "set2=set(range(10,90,9))"
   ]
  },
  {
   "cell_type": "code",
   "execution_count": 242,
   "id": "2196b5f6",
   "metadata": {},
   "outputs": [
    {
     "data": {
      "text/plain": [
       "{37}"
      ]
     },
     "execution_count": 242,
     "metadata": {},
     "output_type": "execute_result"
    }
   ],
   "source": [
    "set1.intersection(set2)"
   ]
  },
  {
   "cell_type": "code",
   "execution_count": 243,
   "id": "86886b4d",
   "metadata": {},
   "outputs": [
    {
     "data": {
      "text/plain": [
       "{5, 13, 21, 29, 37, 45, 53, 61, 69, 77, 85, 93}"
      ]
     },
     "execution_count": 243,
     "metadata": {},
     "output_type": "execute_result"
    }
   ],
   "source": [
    "set1"
   ]
  },
  {
   "cell_type": "code",
   "execution_count": 244,
   "id": "00ee07c3",
   "metadata": {},
   "outputs": [
    {
     "data": {
      "text/plain": [
       "{10, 19, 28, 37, 46, 55, 64, 73, 82}"
      ]
     },
     "execution_count": 244,
     "metadata": {},
     "output_type": "execute_result"
    }
   ],
   "source": [
    "set2"
   ]
  },
  {
   "cell_type": "code",
   "execution_count": 245,
   "id": "223a305b",
   "metadata": {},
   "outputs": [],
   "source": [
    "set1.intersection_update(set2)"
   ]
  },
  {
   "cell_type": "code",
   "execution_count": 246,
   "id": "edf3867d",
   "metadata": {},
   "outputs": [
    {
     "data": {
      "text/plain": [
       "{37}"
      ]
     },
     "execution_count": 246,
     "metadata": {},
     "output_type": "execute_result"
    }
   ],
   "source": [
    "set1"
   ]
  },
  {
   "cell_type": "code",
   "execution_count": 247,
   "id": "314bbff6",
   "metadata": {},
   "outputs": [
    {
     "data": {
      "text/plain": [
       "{10, 19, 28, 37, 46, 55, 64, 73, 82}"
      ]
     },
     "execution_count": 247,
     "metadata": {},
     "output_type": "execute_result"
    }
   ],
   "source": [
    "set2"
   ]
  },
  {
   "cell_type": "code",
   "execution_count": 248,
   "id": "92b9e56f",
   "metadata": {},
   "outputs": [],
   "source": [
    "set1=set(range(5,96,8))\n",
    "set2=set(range(10,90,9))"
   ]
  },
  {
   "cell_type": "code",
   "execution_count": 249,
   "id": "0abdaf17",
   "metadata": {},
   "outputs": [
    {
     "data": {
      "text/plain": [
       "{5, 10, 13, 19, 21, 28, 29, 45, 46, 53, 55, 61, 64, 69, 73, 77, 82, 85, 93}"
      ]
     },
     "execution_count": 249,
     "metadata": {},
     "output_type": "execute_result"
    }
   ],
   "source": [
    "set1.symmetric_difference(set2)"
   ]
  },
  {
   "cell_type": "code",
   "execution_count": 250,
   "id": "7ac395a3",
   "metadata": {},
   "outputs": [],
   "source": [
    "set1.symmetric_difference_update(set2)"
   ]
  },
  {
   "cell_type": "code",
   "execution_count": 251,
   "id": "d16ed82e",
   "metadata": {},
   "outputs": [
    {
     "data": {
      "text/plain": [
       "{5, 10, 13, 19, 21, 28, 29, 45, 46, 53, 55, 61, 64, 69, 73, 77, 82, 85, 93}"
      ]
     },
     "execution_count": 251,
     "metadata": {},
     "output_type": "execute_result"
    }
   ],
   "source": [
    "set1"
   ]
  },
  {
   "cell_type": "code",
   "execution_count": 252,
   "id": "0835949e",
   "metadata": {},
   "outputs": [
    {
     "data": {
      "text/plain": [
       "{10, 19, 28, 37, 46, 55, 64, 73, 82}"
      ]
     },
     "execution_count": 252,
     "metadata": {},
     "output_type": "execute_result"
    }
   ],
   "source": [
    "set2"
   ]
  },
  {
   "cell_type": "code",
   "execution_count": 253,
   "id": "c483c0ec",
   "metadata": {},
   "outputs": [],
   "source": [
    "#add\n",
    "set1.add(\"hai\")"
   ]
  },
  {
   "cell_type": "code",
   "execution_count": 254,
   "id": "58502d86",
   "metadata": {},
   "outputs": [
    {
     "data": {
      "text/plain": [
       "{10,\n",
       " 13,\n",
       " 19,\n",
       " 21,\n",
       " 28,\n",
       " 29,\n",
       " 45,\n",
       " 46,\n",
       " 5,\n",
       " 53,\n",
       " 55,\n",
       " 61,\n",
       " 64,\n",
       " 69,\n",
       " 73,\n",
       " 77,\n",
       " 82,\n",
       " 85,\n",
       " 93,\n",
       " 'hai'}"
      ]
     },
     "execution_count": 254,
     "metadata": {},
     "output_type": "execute_result"
    }
   ],
   "source": [
    "set1"
   ]
  },
  {
   "cell_type": "code",
   "execution_count": 255,
   "id": "b1cb1e67",
   "metadata": {},
   "outputs": [],
   "source": [
    "# clear\n",
    "s={\"fdd\",\"rfecd\",5,6,\"gfdf\"}"
   ]
  },
  {
   "cell_type": "code",
   "execution_count": 256,
   "id": "f0102c97",
   "metadata": {},
   "outputs": [
    {
     "data": {
      "text/plain": [
       "{5, 6, 'fdd', 'gfdf', 'rfecd'}"
      ]
     },
     "execution_count": 256,
     "metadata": {},
     "output_type": "execute_result"
    }
   ],
   "source": [
    "s"
   ]
  },
  {
   "cell_type": "code",
   "execution_count": 257,
   "id": "8fdfffcb",
   "metadata": {},
   "outputs": [],
   "source": [
    "s.clear()"
   ]
  },
  {
   "cell_type": "code",
   "execution_count": 258,
   "id": "1f591f98",
   "metadata": {},
   "outputs": [
    {
     "data": {
      "text/plain": [
       "set()"
      ]
     },
     "execution_count": 258,
     "metadata": {},
     "output_type": "execute_result"
    }
   ],
   "source": [
    "s"
   ]
  },
  {
   "cell_type": "code",
   "execution_count": 259,
   "id": "62662524",
   "metadata": {},
   "outputs": [],
   "source": [
    "del s"
   ]
  },
  {
   "cell_type": "code",
   "execution_count": 260,
   "id": "fd22dec5",
   "metadata": {},
   "outputs": [],
   "source": [
    "#s"
   ]
  },
  {
   "cell_type": "code",
   "execution_count": 261,
   "id": "e9462f1b",
   "metadata": {},
   "outputs": [],
   "source": [
    "s=set1.copy()"
   ]
  },
  {
   "cell_type": "code",
   "execution_count": 262,
   "id": "4586f7fa",
   "metadata": {},
   "outputs": [
    {
     "data": {
      "text/plain": [
       "{10,\n",
       " 13,\n",
       " 19,\n",
       " 21,\n",
       " 28,\n",
       " 29,\n",
       " 45,\n",
       " 46,\n",
       " 5,\n",
       " 53,\n",
       " 55,\n",
       " 61,\n",
       " 64,\n",
       " 69,\n",
       " 73,\n",
       " 77,\n",
       " 82,\n",
       " 85,\n",
       " 93,\n",
       " 'hai'}"
      ]
     },
     "execution_count": 262,
     "metadata": {},
     "output_type": "execute_result"
    }
   ],
   "source": [
    "s"
   ]
  },
  {
   "cell_type": "code",
   "execution_count": 263,
   "id": "43c21962",
   "metadata": {},
   "outputs": [],
   "source": [
    "s=set(set1)"
   ]
  },
  {
   "cell_type": "code",
   "execution_count": 264,
   "id": "04a4930f",
   "metadata": {},
   "outputs": [
    {
     "data": {
      "text/plain": [
       "{10,\n",
       " 13,\n",
       " 19,\n",
       " 21,\n",
       " 28,\n",
       " 29,\n",
       " 45,\n",
       " 46,\n",
       " 5,\n",
       " 53,\n",
       " 55,\n",
       " 61,\n",
       " 64,\n",
       " 69,\n",
       " 73,\n",
       " 77,\n",
       " 82,\n",
       " 85,\n",
       " 93,\n",
       " 'hai'}"
      ]
     },
     "execution_count": 264,
     "metadata": {},
     "output_type": "execute_result"
    }
   ],
   "source": [
    "s"
   ]
  },
  {
   "cell_type": "code",
   "execution_count": 265,
   "id": "63fc9fcf",
   "metadata": {},
   "outputs": [],
   "source": [
    "set1=set(range(5,96,8))\n",
    "set2=set(range(10,90,9))"
   ]
  },
  {
   "cell_type": "code",
   "execution_count": 266,
   "id": "41d0d54f",
   "metadata": {},
   "outputs": [
    {
     "data": {
      "text/plain": [
       "{5, 13, 21, 29, 45, 53, 61, 69, 77, 85, 93}"
      ]
     },
     "execution_count": 266,
     "metadata": {},
     "output_type": "execute_result"
    }
   ],
   "source": [
    "set1.difference(set2)"
   ]
  },
  {
   "cell_type": "code",
   "execution_count": 267,
   "id": "b30852b9",
   "metadata": {},
   "outputs": [
    {
     "data": {
      "text/plain": [
       "{5, 13, 21, 29, 37, 45, 53, 61, 69, 77, 85, 93}"
      ]
     },
     "execution_count": 267,
     "metadata": {},
     "output_type": "execute_result"
    }
   ],
   "source": [
    "set1"
   ]
  },
  {
   "cell_type": "code",
   "execution_count": 268,
   "id": "c97a6a29",
   "metadata": {},
   "outputs": [
    {
     "data": {
      "text/plain": [
       "False"
      ]
     },
     "execution_count": 268,
     "metadata": {},
     "output_type": "execute_result"
    }
   ],
   "source": [
    "set1.isdisjoint(set2)"
   ]
  },
  {
   "cell_type": "code",
   "execution_count": 269,
   "id": "bdf04415",
   "metadata": {},
   "outputs": [
    {
     "data": {
      "text/plain": [
       "False"
      ]
     },
     "execution_count": 269,
     "metadata": {},
     "output_type": "execute_result"
    }
   ],
   "source": [
    "set1.issubset(set2)"
   ]
  },
  {
   "cell_type": "code",
   "execution_count": 270,
   "id": "57eff630",
   "metadata": {},
   "outputs": [],
   "source": [
    "s1={1,2,3,4,5,6}\n",
    "s2={1,2,3}"
   ]
  },
  {
   "cell_type": "code",
   "execution_count": 271,
   "id": "775240df",
   "metadata": {},
   "outputs": [
    {
     "data": {
      "text/plain": [
       "False"
      ]
     },
     "execution_count": 271,
     "metadata": {},
     "output_type": "execute_result"
    }
   ],
   "source": [
    "s1.issubset(s2)"
   ]
  },
  {
   "cell_type": "code",
   "execution_count": 272,
   "id": "28f4fd0e",
   "metadata": {},
   "outputs": [
    {
     "data": {
      "text/plain": [
       "True"
      ]
     },
     "execution_count": 272,
     "metadata": {},
     "output_type": "execute_result"
    }
   ],
   "source": [
    "s2.issubset(s1)"
   ]
  },
  {
   "cell_type": "code",
   "execution_count": 273,
   "id": "cc086e5d",
   "metadata": {},
   "outputs": [
    {
     "data": {
      "text/plain": [
       "True"
      ]
     },
     "execution_count": 273,
     "metadata": {},
     "output_type": "execute_result"
    }
   ],
   "source": [
    "s1.issuperset(s2)"
   ]
  },
  {
   "cell_type": "markdown",
   "id": "29500055",
   "metadata": {},
   "source": [
    "## Dictionaries\n",
    "### accep all data types,ordered, changeble,not allow duplicates,un indexed\n",
    "    get(),keys(),items(),pop(),popitem(),clear(),del,\n",
    "    update(),values(),fromkeys(),setdefault()"
   ]
  },
  {
   "cell_type": "code",
   "execution_count": 274,
   "id": "eda36b6f",
   "metadata": {},
   "outputs": [],
   "source": [
    "dict1={\"a\":\"chadnu\",\"b\":\"shekhar\",\"year\":2022}"
   ]
  },
  {
   "cell_type": "code",
   "execution_count": 275,
   "id": "39ec49b7",
   "metadata": {},
   "outputs": [
    {
     "data": {
      "text/plain": [
       "{'a': 'chadnu', 'b': 'shekhar', 'year': 2022}"
      ]
     },
     "execution_count": 275,
     "metadata": {},
     "output_type": "execute_result"
    }
   ],
   "source": [
    "dict1"
   ]
  },
  {
   "cell_type": "code",
   "execution_count": 276,
   "id": "a8e6b1ce",
   "metadata": {},
   "outputs": [
    {
     "data": {
      "text/plain": [
       "'chadnu'"
      ]
     },
     "execution_count": 276,
     "metadata": {},
     "output_type": "execute_result"
    }
   ],
   "source": [
    "dict1[\"a\"]"
   ]
  },
  {
   "cell_type": "code",
   "execution_count": 277,
   "id": "60e7eb65",
   "metadata": {},
   "outputs": [
    {
     "data": {
      "text/plain": [
       "2022"
      ]
     },
     "execution_count": 277,
     "metadata": {},
     "output_type": "execute_result"
    }
   ],
   "source": [
    "dict1[\"year\"]"
   ]
  },
  {
   "cell_type": "code",
   "execution_count": 278,
   "id": "da01f74e",
   "metadata": {},
   "outputs": [
    {
     "data": {
      "text/plain": [
       "3"
      ]
     },
     "execution_count": 278,
     "metadata": {},
     "output_type": "execute_result"
    }
   ],
   "source": [
    "len(dict1)"
   ]
  },
  {
   "cell_type": "code",
   "execution_count": 279,
   "id": "8340840b",
   "metadata": {},
   "outputs": [
    {
     "data": {
      "text/plain": [
       "dict"
      ]
     },
     "execution_count": 279,
     "metadata": {},
     "output_type": "execute_result"
    }
   ],
   "source": [
    "type(dict1)"
   ]
  },
  {
   "cell_type": "code",
   "execution_count": 280,
   "id": "0f619567",
   "metadata": {},
   "outputs": [
    {
     "name": "stdout",
     "output_type": "stream",
     "text": [
      "{'brand': 'ford', 'model': 'musting', 'year': 2017, 'colors': ['a', 'b', 'c']}\n",
      "{'brand': 'ford', 'model': 'musting', 'year': 2017, 'colors': ['a', 'b', 'c'], 'usedby': 'shekhar'}\n"
     ]
    }
   ],
   "source": [
    "# adding and access of elemens\n",
    "dict2={\"brand\":\"ford\",\n",
    "       \"model\":\"musting\",\n",
    "       \"year\":2017,\n",
    "       \"colors\":[\"a\",\"b\",\"c\"]\n",
    "    \n",
    "}\n",
    "print(dict2)\n",
    "dict2[\"usedby\"]=\"shekhar\"\n",
    "print(dict2)"
   ]
  },
  {
   "cell_type": "code",
   "execution_count": 281,
   "id": "0fb69a16",
   "metadata": {},
   "outputs": [
    {
     "name": "stdout",
     "output_type": "stream",
     "text": [
      "{'a': 'gfd', 'b': 'vfds', 'c': 'bvfsdca', 'd': 532, 'e': 352}\n",
      "{'a': 'gfd', 'b': 'vfds', 'c': 'bvfsdca', 'd': 2000, 'e': 352}\n"
     ]
    }
   ],
   "source": [
    "dict3={\"a\":\"gfd\",\"b\":\"vfds\",\"c\":\"bvfsdca\",\"d\":532,\"e\":352}\n",
    "print(dict3)\n",
    "dict3[\"d\"]=2000\n",
    "print(dict3)"
   ]
  },
  {
   "cell_type": "code",
   "execution_count": 282,
   "id": "386ace5e",
   "metadata": {},
   "outputs": [
    {
     "data": {
      "text/plain": [
       "'gfd'"
      ]
     },
     "execution_count": 282,
     "metadata": {},
     "output_type": "execute_result"
    }
   ],
   "source": [
    "dict3.get(\"a\")"
   ]
  },
  {
   "cell_type": "code",
   "execution_count": 283,
   "id": "4ad01652",
   "metadata": {},
   "outputs": [
    {
     "data": {
      "text/plain": [
       "'bvfsdca'"
      ]
     },
     "execution_count": 283,
     "metadata": {},
     "output_type": "execute_result"
    }
   ],
   "source": [
    "dict3.get(\"c\")"
   ]
  },
  {
   "cell_type": "code",
   "execution_count": 284,
   "id": "e87a37fe",
   "metadata": {},
   "outputs": [
    {
     "data": {
      "text/plain": [
       "dict_keys(['a', 'b', 'c', 'd', 'e'])"
      ]
     },
     "execution_count": 284,
     "metadata": {},
     "output_type": "execute_result"
    }
   ],
   "source": [
    "dict3.keys()"
   ]
  },
  {
   "cell_type": "code",
   "execution_count": 285,
   "id": "b92d1010",
   "metadata": {},
   "outputs": [
    {
     "data": {
      "text/plain": [
       "dict_values(['gfd', 'vfds', 'bvfsdca', 2000, 352])"
      ]
     },
     "execution_count": 285,
     "metadata": {},
     "output_type": "execute_result"
    }
   ],
   "source": [
    "dict3.values()"
   ]
  },
  {
   "cell_type": "code",
   "execution_count": 286,
   "id": "c23f501e",
   "metadata": {},
   "outputs": [
    {
     "data": {
      "text/plain": [
       "dict_items([('a', 'gfd'), ('b', 'vfds'), ('c', 'bvfsdca'), ('d', 2000), ('e', 352)])"
      ]
     },
     "execution_count": 286,
     "metadata": {},
     "output_type": "execute_result"
    }
   ],
   "source": [
    "dict3.items()"
   ]
  },
  {
   "cell_type": "code",
   "execution_count": 287,
   "id": "a39ba940",
   "metadata": {},
   "outputs": [
    {
     "name": "stdout",
     "output_type": "stream",
     "text": [
      "yes\n"
     ]
    }
   ],
   "source": [
    "if \"a\" in dict3:\n",
    "    print(\"yes\")\n",
    "else:\n",
    "    printint(\"no\")"
   ]
  },
  {
   "cell_type": "code",
   "execution_count": 288,
   "id": "b6300c3c",
   "metadata": {},
   "outputs": [],
   "source": [
    "# change vaues"
   ]
  },
  {
   "cell_type": "code",
   "execution_count": 289,
   "id": "46072976",
   "metadata": {},
   "outputs": [],
   "source": [
    "dict3[\"b\"]=\"vgbhnjmk56\""
   ]
  },
  {
   "cell_type": "code",
   "execution_count": 290,
   "id": "0108ef22",
   "metadata": {},
   "outputs": [
    {
     "data": {
      "text/plain": [
       "'vgbhnjmk56'"
      ]
     },
     "execution_count": 290,
     "metadata": {},
     "output_type": "execute_result"
    }
   ],
   "source": [
    "dict3[\"b\"]"
   ]
  },
  {
   "cell_type": "code",
   "execution_count": 291,
   "id": "19b3d55b",
   "metadata": {},
   "outputs": [],
   "source": [
    "dict3.update({\"c\":\"vybuhnij65120\"})"
   ]
  },
  {
   "cell_type": "code",
   "execution_count": 292,
   "id": "55232c9f",
   "metadata": {},
   "outputs": [
    {
     "data": {
      "text/plain": [
       "{'a': 'gfd', 'b': 'vgbhnjmk56', 'c': 'vybuhnij65120', 'd': 2000, 'e': 352}"
      ]
     },
     "execution_count": 292,
     "metadata": {},
     "output_type": "execute_result"
    }
   ],
   "source": [
    "dict3"
   ]
  },
  {
   "cell_type": "code",
   "execution_count": 293,
   "id": "48f7df00",
   "metadata": {},
   "outputs": [],
   "source": [
    "# removing elements"
   ]
  },
  {
   "cell_type": "code",
   "execution_count": 294,
   "id": "aee19fa3",
   "metadata": {},
   "outputs": [
    {
     "data": {
      "text/plain": [
       "'gfd'"
      ]
     },
     "execution_count": 294,
     "metadata": {},
     "output_type": "execute_result"
    }
   ],
   "source": [
    "dict3.pop(\"a\") #specified"
   ]
  },
  {
   "cell_type": "code",
   "execution_count": 295,
   "id": "99ab2bf8",
   "metadata": {},
   "outputs": [
    {
     "data": {
      "text/plain": [
       "('e', 352)"
      ]
     },
     "execution_count": 295,
     "metadata": {},
     "output_type": "execute_result"
    }
   ],
   "source": [
    "dict3.popitem() # last"
   ]
  },
  {
   "cell_type": "code",
   "execution_count": 296,
   "id": "1157d8f2",
   "metadata": {},
   "outputs": [],
   "source": [
    "del dict3[\"b\"]"
   ]
  },
  {
   "cell_type": "code",
   "execution_count": 297,
   "id": "c17d8332",
   "metadata": {},
   "outputs": [
    {
     "data": {
      "text/plain": [
       "{'c': 'vybuhnij65120', 'd': 2000}"
      ]
     },
     "execution_count": 297,
     "metadata": {},
     "output_type": "execute_result"
    }
   ],
   "source": [
    "dict3"
   ]
  },
  {
   "cell_type": "code",
   "execution_count": 298,
   "id": "2fd8da34",
   "metadata": {},
   "outputs": [],
   "source": [
    "dict3.clear()"
   ]
  },
  {
   "cell_type": "code",
   "execution_count": 299,
   "id": "78abe934",
   "metadata": {},
   "outputs": [
    {
     "data": {
      "text/plain": [
       "{}"
      ]
     },
     "execution_count": 299,
     "metadata": {},
     "output_type": "execute_result"
    }
   ],
   "source": [
    "dict3"
   ]
  },
  {
   "cell_type": "code",
   "execution_count": 300,
   "id": "3b5085a2",
   "metadata": {},
   "outputs": [],
   "source": [
    "del dict3"
   ]
  },
  {
   "cell_type": "code",
   "execution_count": 301,
   "id": "25a1738e",
   "metadata": {},
   "outputs": [],
   "source": [
    "# dict3 # so dict3 deleted"
   ]
  },
  {
   "cell_type": "code",
   "execution_count": 302,
   "id": "397649d3",
   "metadata": {},
   "outputs": [],
   "source": [
    "#looping"
   ]
  },
  {
   "cell_type": "code",
   "execution_count": 303,
   "id": "e4457828",
   "metadata": {
    "scrolled": true
   },
   "outputs": [
    {
     "name": "stdout",
     "output_type": "stream",
     "text": [
      "brand\n",
      "model\n",
      "year\n",
      "colors\n",
      "usedby\n"
     ]
    }
   ],
   "source": [
    "for x in dict2:\n",
    "    print(x)"
   ]
  },
  {
   "cell_type": "code",
   "execution_count": 304,
   "id": "b8017876",
   "metadata": {},
   "outputs": [
    {
     "name": "stdout",
     "output_type": "stream",
     "text": [
      "ford\n",
      "musting\n",
      "2017\n",
      "['a', 'b', 'c']\n",
      "shekhar\n"
     ]
    }
   ],
   "source": [
    "for x in dict2:\n",
    "    print(dict2[x])"
   ]
  },
  {
   "cell_type": "code",
   "execution_count": 305,
   "id": "9652cc10",
   "metadata": {},
   "outputs": [
    {
     "name": "stdout",
     "output_type": "stream",
     "text": [
      "brand\n",
      "model\n",
      "year\n",
      "colors\n",
      "usedby\n"
     ]
    }
   ],
   "source": [
    "for x in dict2.keys():\n",
    "    print(x)"
   ]
  },
  {
   "cell_type": "code",
   "execution_count": 306,
   "id": "5c1cc0ec",
   "metadata": {},
   "outputs": [
    {
     "name": "stdout",
     "output_type": "stream",
     "text": [
      "ford\n",
      "musting\n",
      "2017\n",
      "['a', 'b', 'c']\n",
      "shekhar\n"
     ]
    }
   ],
   "source": [
    "for x in dict2.values():\n",
    "    print(x)"
   ]
  },
  {
   "cell_type": "code",
   "execution_count": 307,
   "id": "65437834",
   "metadata": {},
   "outputs": [
    {
     "name": "stdout",
     "output_type": "stream",
     "text": [
      "('brand', 'ford')\n",
      "('model', 'musting')\n",
      "('year', 2017)\n",
      "('colors', ['a', 'b', 'c'])\n",
      "('usedby', 'shekhar')\n"
     ]
    }
   ],
   "source": [
    "for x in dict2.items():\n",
    "    print(x)"
   ]
  },
  {
   "cell_type": "code",
   "execution_count": 308,
   "id": "d025f7a5",
   "metadata": {},
   "outputs": [],
   "source": [
    "# copying"
   ]
  },
  {
   "cell_type": "code",
   "execution_count": 309,
   "id": "336c6a39",
   "metadata": {},
   "outputs": [],
   "source": [
    "mydict=dict2.copy()"
   ]
  },
  {
   "cell_type": "code",
   "execution_count": 310,
   "id": "2347d4e3",
   "metadata": {},
   "outputs": [],
   "source": [
    "myddict=dict(dict2)"
   ]
  },
  {
   "cell_type": "code",
   "execution_count": 311,
   "id": "4f567adb",
   "metadata": {},
   "outputs": [
    {
     "data": {
      "text/plain": [
       "{'brand': 'ford',\n",
       " 'model': 'musting',\n",
       " 'year': 2017,\n",
       " 'colors': ['a', 'b', 'c'],\n",
       " 'usedby': 'shekhar'}"
      ]
     },
     "execution_count": 311,
     "metadata": {},
     "output_type": "execute_result"
    }
   ],
   "source": [
    "mydict"
   ]
  },
  {
   "cell_type": "code",
   "execution_count": 312,
   "id": "b551bce1",
   "metadata": {},
   "outputs": [
    {
     "data": {
      "text/plain": [
       "{'brand': 'ford',\n",
       " 'model': 'musting',\n",
       " 'year': 2017,\n",
       " 'colors': ['a', 'b', 'c'],\n",
       " 'usedby': 'shekhar'}"
      ]
     },
     "execution_count": 312,
     "metadata": {},
     "output_type": "execute_result"
    }
   ],
   "source": [
    "myddict"
   ]
  },
  {
   "cell_type": "code",
   "execution_count": 313,
   "id": "29e6ffb7",
   "metadata": {},
   "outputs": [],
   "source": [
    "# nested dictionaries"
   ]
  },
  {
   "cell_type": "code",
   "execution_count": 314,
   "id": "c0f56573",
   "metadata": {},
   "outputs": [],
   "source": [
    "my_family={\"c1\":{\"name\":\"chandu\",\"year\":2012},\n",
    "           \"c2\":{\"name\":\"shekhar\",\"year\":2013},\n",
    "           \"c3\":{\"name\":\"kowshik\",\"year\":2015}}"
   ]
  },
  {
   "cell_type": "code",
   "execution_count": 315,
   "id": "7179ccd5",
   "metadata": {},
   "outputs": [
    {
     "data": {
      "text/plain": [
       "{'c1': {'name': 'chandu', 'year': 2012},\n",
       " 'c2': {'name': 'shekhar', 'year': 2013},\n",
       " 'c3': {'name': 'kowshik', 'year': 2015}}"
      ]
     },
     "execution_count": 315,
     "metadata": {},
     "output_type": "execute_result"
    }
   ],
   "source": [
    "my_family"
   ]
  },
  {
   "cell_type": "code",
   "execution_count": 316,
   "id": "f14bd908",
   "metadata": {},
   "outputs": [],
   "source": [
    "c1= {'name': 'chandu', 'year': 2012}\n",
    "c2= {'name': 'shekhar', 'year': 2013}\n",
    "c3= {'name': 'kowshik', 'year': 2015}\n",
    "my_ff={\n",
    "        \"chaild1\":c1,\n",
    "        \"chaild2\":c2,\n",
    "        \"chaild3\":c3\n",
    "    }"
   ]
  },
  {
   "cell_type": "code",
   "execution_count": 317,
   "id": "7d49333f",
   "metadata": {},
   "outputs": [
    {
     "data": {
      "text/plain": [
       "{'chaild1': {'name': 'chandu', 'year': 2012},\n",
       " 'chaild2': {'name': 'shekhar', 'year': 2013},\n",
       " 'chaild3': {'name': 'kowshik', 'year': 2015}}"
      ]
     },
     "execution_count": 317,
     "metadata": {},
     "output_type": "execute_result"
    }
   ],
   "source": [
    "my_ff"
   ]
  },
  {
   "cell_type": "code",
   "execution_count": 318,
   "id": "1048f156",
   "metadata": {},
   "outputs": [],
   "source": [
    "x=(\"a\",\"b\",\"c\",\"d\")\n",
    "y=(45,65,489,53)\n",
    "a=dict.fromkeys(x,y)"
   ]
  },
  {
   "cell_type": "code",
   "execution_count": 319,
   "id": "43da4777",
   "metadata": {},
   "outputs": [
    {
     "data": {
      "text/plain": [
       "{'a': (45, 65, 489, 53),\n",
       " 'b': (45, 65, 489, 53),\n",
       " 'c': (45, 65, 489, 53),\n",
       " 'd': (45, 65, 489, 53)}"
      ]
     },
     "execution_count": 319,
     "metadata": {},
     "output_type": "execute_result"
    }
   ],
   "source": [
    "a"
   ]
  },
  {
   "cell_type": "code",
   "execution_count": 320,
   "id": "05ca5db5",
   "metadata": {},
   "outputs": [
    {
     "data": {
      "text/plain": [
       "(45, 65, 489, 53)"
      ]
     },
     "execution_count": 320,
     "metadata": {},
     "output_type": "execute_result"
    }
   ],
   "source": [
    "a.setdefault(\"a\")"
   ]
  },
  {
   "cell_type": "markdown",
   "id": "2342eaf4",
   "metadata": {},
   "source": [
    "## strings"
   ]
  },
  {
   "cell_type": "code",
   "execution_count": 321,
   "id": "6a3519b4",
   "metadata": {},
   "outputs": [],
   "source": [
    "string=\"shekhar data science\""
   ]
  },
  {
   "cell_type": "code",
   "execution_count": 322,
   "id": "ab61012d",
   "metadata": {},
   "outputs": [
    {
     "data": {
      "text/plain": [
       "str"
      ]
     },
     "execution_count": 322,
     "metadata": {},
     "output_type": "execute_result"
    }
   ],
   "source": [
    "type(string)"
   ]
  },
  {
   "cell_type": "code",
   "execution_count": 323,
   "id": "d622a547",
   "metadata": {},
   "outputs": [
    {
     "data": {
      "text/plain": [
       "20"
      ]
     },
     "execution_count": 323,
     "metadata": {},
     "output_type": "execute_result"
    }
   ],
   "source": [
    "len(string)"
   ]
  },
  {
   "cell_type": "code",
   "execution_count": 324,
   "id": "538adc24",
   "metadata": {},
   "outputs": [
    {
     "data": {
      "text/plain": [
       "'s'"
      ]
     },
     "execution_count": 324,
     "metadata": {},
     "output_type": "execute_result"
    }
   ],
   "source": [
    "string[0]"
   ]
  },
  {
   "cell_type": "code",
   "execution_count": 325,
   "id": "ea18b9ef",
   "metadata": {},
   "outputs": [
    {
     "data": {
      "text/plain": [
       "'t'"
      ]
     },
     "execution_count": 325,
     "metadata": {},
     "output_type": "execute_result"
    }
   ],
   "source": [
    "string[10]"
   ]
  },
  {
   "cell_type": "code",
   "execution_count": 326,
   "id": "fa181676",
   "metadata": {},
   "outputs": [
    {
     "data": {
      "text/plain": [
       "'ar data sc'"
      ]
     },
     "execution_count": 326,
     "metadata": {},
     "output_type": "execute_result"
    }
   ],
   "source": [
    "string[5:15]"
   ]
  },
  {
   "cell_type": "code",
   "execution_count": 327,
   "id": "fcbf12b3",
   "metadata": {},
   "outputs": [
    {
     "data": {
      "text/plain": [
       "'e'"
      ]
     },
     "execution_count": 327,
     "metadata": {},
     "output_type": "execute_result"
    }
   ],
   "source": [
    "string[-1]"
   ]
  },
  {
   "cell_type": "code",
   "execution_count": 328,
   "id": "1a8e0f5b",
   "metadata": {},
   "outputs": [
    {
     "data": {
      "text/plain": [
       "'data sc'"
      ]
     },
     "execution_count": 328,
     "metadata": {},
     "output_type": "execute_result"
    }
   ],
   "source": [
    "string[8:15]"
   ]
  },
  {
   "cell_type": "code",
   "execution_count": 329,
   "id": "5a412df4",
   "metadata": {},
   "outputs": [],
   "source": [
    "str1=\"your's\""
   ]
  },
  {
   "cell_type": "code",
   "execution_count": 330,
   "id": "4f4829c3",
   "metadata": {},
   "outputs": [],
   "source": [
    "# str2='your's'"
   ]
  },
  {
   "cell_type": "code",
   "execution_count": 331,
   "id": "1331c954",
   "metadata": {},
   "outputs": [],
   "source": [
    "str44=\"\"\"hai this is shekhar\"\"\""
   ]
  },
  {
   "cell_type": "code",
   "execution_count": 332,
   "id": "6e674f9c",
   "metadata": {},
   "outputs": [
    {
     "data": {
      "text/plain": [
       "'hai this is shekhar'"
      ]
     },
     "execution_count": 332,
     "metadata": {},
     "output_type": "execute_result"
    }
   ],
   "source": [
    "str44"
   ]
  },
  {
   "cell_type": "code",
   "execution_count": 333,
   "id": "7c77787d",
   "metadata": {},
   "outputs": [
    {
     "name": "stdout",
     "output_type": "stream",
     "text": [
      "5.2 is an float and 10 is an integer\n"
     ]
    }
   ],
   "source": [
    "print(\"{0} is an float and {1} is an integer\".format(5.2,10))"
   ]
  },
  {
   "cell_type": "code",
   "execution_count": 334,
   "id": "6855cffd",
   "metadata": {},
   "outputs": [],
   "source": [
    "s=\"hai\"\n",
    "s1=\" and bye\""
   ]
  },
  {
   "cell_type": "code",
   "execution_count": 335,
   "id": "52ec8260",
   "metadata": {},
   "outputs": [
    {
     "data": {
      "text/plain": [
       "'hai and bye'"
      ]
     },
     "execution_count": 335,
     "metadata": {},
     "output_type": "execute_result"
    }
   ],
   "source": [
    "ss=s+s1\n",
    "ss"
   ]
  },
  {
   "cell_type": "code",
   "execution_count": 336,
   "id": "868a4e28",
   "metadata": {},
   "outputs": [
    {
     "data": {
      "text/plain": [
       "'a'"
      ]
     },
     "execution_count": 336,
     "metadata": {},
     "output_type": "execute_result"
    }
   ],
   "source": [
    "min(s)"
   ]
  },
  {
   "cell_type": "code",
   "execution_count": 337,
   "id": "81275e25",
   "metadata": {},
   "outputs": [
    {
     "data": {
      "text/plain": [
       "'y'"
      ]
     },
     "execution_count": 337,
     "metadata": {},
     "output_type": "execute_result"
    }
   ],
   "source": [
    "max(ss)"
   ]
  },
  {
   "cell_type": "code",
   "execution_count": 338,
   "id": "ae444c07",
   "metadata": {},
   "outputs": [
    {
     "data": {
      "text/plain": [
       "'a'"
      ]
     },
     "execution_count": 338,
     "metadata": {},
     "output_type": "execute_result"
    }
   ],
   "source": [
    "min(s)"
   ]
  },
  {
   "cell_type": "code",
   "execution_count": 339,
   "id": "925e4a79",
   "metadata": {},
   "outputs": [
    {
     "data": {
      "text/plain": [
       "True"
      ]
     },
     "execution_count": 339,
     "metadata": {},
     "output_type": "execute_result"
    }
   ],
   "source": [
    "\"a\" in ss"
   ]
  },
  {
   "cell_type": "code",
   "execution_count": 340,
   "id": "0a18822a",
   "metadata": {},
   "outputs": [
    {
     "name": "stdout",
     "output_type": "stream",
     "text": [
      "h\n",
      "a\n",
      "i\n",
      " \n",
      "t\n",
      "h\n",
      "i\n",
      "s\n",
      " \n",
      "i\n",
      "s\n",
      " \n",
      "s\n",
      "h\n",
      "e\n",
      "k\n",
      "h\n",
      "a\n",
      "r\n"
     ]
    }
   ],
   "source": [
    "for letter in str44:\n",
    "    print(letter)"
   ]
  },
  {
   "cell_type": "code",
   "execution_count": 341,
   "id": "9711b161",
   "metadata": {},
   "outputs": [],
   "source": [
    "s=str44"
   ]
  },
  {
   "cell_type": "code",
   "execution_count": 342,
   "id": "09f6ea73",
   "metadata": {},
   "outputs": [
    {
     "data": {
      "text/plain": [
       "'hai this is shekhar'"
      ]
     },
     "execution_count": 342,
     "metadata": {},
     "output_type": "execute_result"
    }
   ],
   "source": [
    "s"
   ]
  },
  {
   "cell_type": "code",
   "execution_count": 343,
   "id": "d188c683",
   "metadata": {},
   "outputs": [
    {
     "data": {
      "text/plain": [
       "'Hai this is shekhar'"
      ]
     },
     "execution_count": 343,
     "metadata": {},
     "output_type": "execute_result"
    }
   ],
   "source": [
    "s.capitalize()"
   ]
  },
  {
   "cell_type": "code",
   "execution_count": 344,
   "id": "6cb3b655",
   "metadata": {},
   "outputs": [
    {
     "data": {
      "text/plain": [
       "'*****hai this is shekhar******'"
      ]
     },
     "execution_count": 344,
     "metadata": {},
     "output_type": "execute_result"
    }
   ],
   "source": [
    "s.center(30,\"*\")"
   ]
  },
  {
   "cell_type": "markdown",
   "id": "95cffcfb",
   "metadata": {},
   "source": [
    "## Loops"
   ]
  },
  {
   "cell_type": "markdown",
   "id": "e10e625d",
   "metadata": {},
   "source": [
    "### if-else\n",
    "    a==b\n",
    "    a!=b\n",
    "    a<b\n",
    "    a<=b\n",
    "    a>b\n",
    "    a>=b"
   ]
  },
  {
   "cell_type": "code",
   "execution_count": 345,
   "id": "69cc73be",
   "metadata": {},
   "outputs": [
    {
     "name": "stdout",
     "output_type": "stream",
     "text": [
      "12\n",
      "23\n",
      "b is grater\n"
     ]
    }
   ],
   "source": [
    "a=int(input())\n",
    "b=int(input())\n",
    "if a>b:\n",
    "    print(\"a is grater\")\n",
    "else:\n",
    "    print(\"b is grater\")"
   ]
  },
  {
   "cell_type": "code",
   "execution_count": 346,
   "id": "96207022",
   "metadata": {},
   "outputs": [
    {
     "name": "stdout",
     "output_type": "stream",
     "text": [
      "21\n",
      "36\n"
     ]
    }
   ],
   "source": [
    "a=int(input())\n",
    "b=int(input())\n",
    "if a>b:\n",
    "    print(\"yes\")"
   ]
  },
  {
   "cell_type": "code",
   "execution_count": 347,
   "id": "a3eaa258",
   "metadata": {},
   "outputs": [
    {
     "name": "stdout",
     "output_type": "stream",
     "text": [
      "12\n",
      "23\n",
      "b is grater\n"
     ]
    }
   ],
   "source": [
    "a=int(input())\n",
    "b=int(input())\n",
    "print(\"a is grater\") if a>b else print(\"b is grater\")"
   ]
  },
  {
   "cell_type": "code",
   "execution_count": 348,
   "id": "7354228b",
   "metadata": {},
   "outputs": [
    {
     "name": "stdout",
     "output_type": "stream",
     "text": [
      "52\n",
      "36\n",
      "a>b\n"
     ]
    }
   ],
   "source": [
    "a=int(input())\n",
    "b=int(input())\n",
    "print(\"a>b\") if a>b else print(\"a==b\") if(a==b) else print(\"a<b\")"
   ]
  },
  {
   "cell_type": "code",
   "execution_count": 349,
   "id": "5b2bd1a4",
   "metadata": {},
   "outputs": [
    {
     "name": "stdout",
     "output_type": "stream",
     "text": [
      "23\n",
      "63\n",
      "22\n"
     ]
    }
   ],
   "source": [
    "a=int(input())\n",
    "b=int(input())\n",
    "c=int(input())\n",
    "if a>b and a>c:\n",
    "    print(\"a is grater\")"
   ]
  },
  {
   "cell_type": "code",
   "execution_count": 350,
   "id": "2463cc04",
   "metadata": {},
   "outputs": [
    {
     "name": "stdout",
     "output_type": "stream",
     "text": [
      "12\n",
      "23\n",
      "22\n",
      "a is not grater\n"
     ]
    }
   ],
   "source": [
    "a=int(input())\n",
    "b=int(input())\n",
    "c=int(input())\n",
    "if a<b or a<c:\n",
    "    print(\"a is not grater\")"
   ]
  },
  {
   "cell_type": "code",
   "execution_count": 351,
   "id": "94c8be81",
   "metadata": {},
   "outputs": [
    {
     "name": "stdout",
     "output_type": "stream",
     "text": [
      "1\n",
      "2\n",
      "2\n"
     ]
    }
   ],
   "source": [
    "a=int(input())\n",
    "b=int(input())\n",
    "c=int(input())\n",
    "if a>b:\n",
    "    print(\"a is grater b\")\n",
    "    if a>c:\n",
    "        print(\"a is grater than both b and c\")\n",
    "    else:\n",
    "        print(\"c is grtater\")"
   ]
  },
  {
   "cell_type": "code",
   "execution_count": 352,
   "id": "5cd98d84",
   "metadata": {},
   "outputs": [
    {
     "name": "stdout",
     "output_type": "stream",
     "text": [
      "1\n",
      "2\n"
     ]
    }
   ],
   "source": [
    "a=int(input())\n",
    "b=int(input())\n",
    "if a>b:\n",
    "    pass"
   ]
  },
  {
   "cell_type": "markdown",
   "id": "d806f3f2",
   "metadata": {},
   "source": [
    "### while\n",
    "        initialie\n",
    "        while condition:\n",
    "            statements\n",
    "            updation"
   ]
  },
  {
   "cell_type": "code",
   "execution_count": 353,
   "id": "286d49be",
   "metadata": {},
   "outputs": [
    {
     "name": "stdout",
     "output_type": "stream",
     "text": [
      "3\n",
      "1\n",
      "2\n"
     ]
    }
   ],
   "source": [
    "n=int(input())\n",
    "i=1\n",
    "while i<n:\n",
    "    print(i)\n",
    "    i+=1"
   ]
  },
  {
   "cell_type": "code",
   "execution_count": 354,
   "id": "580b6361",
   "metadata": {},
   "outputs": [
    {
     "name": "stdout",
     "output_type": "stream",
     "text": [
      "10\n",
      "1\n",
      "2\n",
      "3\n",
      "4\n",
      "5\n",
      "6\n",
      "7\n"
     ]
    }
   ],
   "source": [
    "n=int(input())\n",
    "i=1\n",
    "while i<n:\n",
    "    print(i)\n",
    "    if i==7:\n",
    "        break\n",
    "    i+=1"
   ]
  },
  {
   "cell_type": "code",
   "execution_count": 355,
   "id": "d32e7b48",
   "metadata": {},
   "outputs": [
    {
     "name": "stdout",
     "output_type": "stream",
     "text": [
      "12\n",
      "1\n",
      "2\n",
      "3\n",
      "4\n",
      "5\n",
      "6\n",
      "7\n",
      "8\n",
      "9\n",
      "10\n",
      "11\n"
     ]
    }
   ],
   "source": [
    "n=int(input())\n",
    "i=1\n",
    "while i<n:\n",
    "    print(i)\n",
    "    if i%12==0:\n",
    "        break\n",
    "    i+=1\n",
    "    "
   ]
  },
  {
   "cell_type": "code",
   "execution_count": 356,
   "id": "3f5744f0",
   "metadata": {
    "scrolled": false
   },
   "outputs": [
    {
     "name": "stdout",
     "output_type": "stream",
     "text": [
      "23\n",
      "1\n",
      "2\n",
      "3\n",
      "4\n",
      "5\n",
      "6\n",
      "7\n",
      "8\n",
      "9\n",
      "10\n",
      "11\n",
      "12\n",
      "13\n",
      "14\n",
      "15\n",
      "16\n",
      "17\n",
      "18\n",
      "19\n",
      "20\n",
      "21\n",
      "22\n"
     ]
    }
   ],
   "source": [
    "n=int(input())\n",
    "i=1\n",
    "while i<n:\n",
    "    print(i)\n",
    "    i+=1\n",
    "    if i==10:\n",
    "        continue\n",
    "    "
   ]
  },
  {
   "cell_type": "code",
   "execution_count": 357,
   "id": "10158c3e",
   "metadata": {},
   "outputs": [
    {
     "name": "stdout",
     "output_type": "stream",
     "text": [
      "1\n",
      "2\n",
      "3\n",
      "4\n",
      "5\n",
      "i is no longer less than 6\n"
     ]
    }
   ],
   "source": [
    "i = 1\n",
    "while i < 6:\n",
    "  print(i)\n",
    "  i += 1\n",
    "else:\n",
    "  print(\"i is no longer less than 6\")"
   ]
  },
  {
   "cell_type": "markdown",
   "id": "49a9815e",
   "metadata": {},
   "source": [
    "### for"
   ]
  },
  {
   "cell_type": "code",
   "execution_count": 358,
   "id": "6f2a07f7",
   "metadata": {},
   "outputs": [
    {
     "name": "stdout",
     "output_type": "stream",
     "text": [
      "apple\n",
      "banana\n",
      "cherry\n"
     ]
    }
   ],
   "source": [
    "fruits = [\"apple\", \"banana\", \"cherry\"]\n",
    "for x in fruits:\n",
    "  print(x)"
   ]
  },
  {
   "cell_type": "code",
   "execution_count": 359,
   "id": "614c28bf",
   "metadata": {},
   "outputs": [
    {
     "name": "stdout",
     "output_type": "stream",
     "text": [
      "b\n",
      "a\n",
      "n\n",
      "a\n",
      "n\n",
      "a\n"
     ]
    }
   ],
   "source": [
    "for x in \"banana\":\n",
    "  print(x)"
   ]
  },
  {
   "cell_type": "code",
   "execution_count": 360,
   "id": "652b00d5",
   "metadata": {},
   "outputs": [
    {
     "name": "stdout",
     "output_type": "stream",
     "text": [
      "apple\n",
      "banana\n"
     ]
    }
   ],
   "source": [
    "fruits = [\"apple\", \"banana\", \"cherry\"]\n",
    "for x in fruits:\n",
    "  print(x)\n",
    "  if x == \"banana\":\n",
    "    break"
   ]
  },
  {
   "cell_type": "code",
   "execution_count": 361,
   "id": "c707e95a",
   "metadata": {},
   "outputs": [
    {
     "name": "stdout",
     "output_type": "stream",
     "text": [
      "apple\n"
     ]
    }
   ],
   "source": [
    "fruits = [\"apple\", \"banana\", \"cherry\"]\n",
    "for x in fruits:\n",
    "  if x == \"banana\":\n",
    "    break\n",
    "  print(x)"
   ]
  },
  {
   "cell_type": "code",
   "execution_count": 362,
   "id": "fece52f6",
   "metadata": {},
   "outputs": [
    {
     "name": "stdout",
     "output_type": "stream",
     "text": [
      "apple\n",
      "cherry\n"
     ]
    }
   ],
   "source": [
    "fruits = [\"apple\", \"banana\", \"cherry\"]\n",
    "for x in fruits:\n",
    "  if x == \"banana\":\n",
    "    continue\n",
    "  print(x)"
   ]
  },
  {
   "cell_type": "code",
   "execution_count": 363,
   "id": "1da1dba3",
   "metadata": {},
   "outputs": [
    {
     "name": "stdout",
     "output_type": "stream",
     "text": [
      "0\n",
      "1\n",
      "2\n",
      "3\n",
      "4\n",
      "5\n"
     ]
    }
   ],
   "source": [
    "for x in range(6):\n",
    "  print(x)"
   ]
  },
  {
   "cell_type": "code",
   "execution_count": 364,
   "id": "e8a9fe5d",
   "metadata": {},
   "outputs": [
    {
     "name": "stdout",
     "output_type": "stream",
     "text": [
      "2\n",
      "3\n",
      "4\n",
      "5\n"
     ]
    }
   ],
   "source": [
    "for x in range(2, 6):\n",
    "  print(x)"
   ]
  },
  {
   "cell_type": "code",
   "execution_count": 365,
   "id": "e084c25a",
   "metadata": {},
   "outputs": [
    {
     "name": "stdout",
     "output_type": "stream",
     "text": [
      "2\n",
      "5\n",
      "8\n",
      "11\n",
      "14\n",
      "17\n",
      "20\n",
      "23\n",
      "26\n",
      "29\n"
     ]
    }
   ],
   "source": [
    "for x in range(2, 30, 3):\n",
    "  print(x)"
   ]
  },
  {
   "cell_type": "code",
   "execution_count": 366,
   "id": "3dfb9b28",
   "metadata": {},
   "outputs": [
    {
     "name": "stdout",
     "output_type": "stream",
     "text": [
      "0\n",
      "1\n",
      "2\n",
      "3\n",
      "4\n",
      "5\n",
      "Finally finished!\n"
     ]
    }
   ],
   "source": [
    "for x in range(6):\n",
    "  print(x)\n",
    "else:\n",
    "  print(\"Finally finished!\")"
   ]
  },
  {
   "cell_type": "code",
   "execution_count": 367,
   "id": "503a6aca",
   "metadata": {},
   "outputs": [
    {
     "name": "stdout",
     "output_type": "stream",
     "text": [
      "0\n",
      "1\n",
      "2\n"
     ]
    }
   ],
   "source": [
    "for x in range(6):\n",
    "  if x == 3: break\n",
    "  print(x)\n",
    "else:\n",
    "  print(\"Finally finished!\")"
   ]
  },
  {
   "cell_type": "code",
   "execution_count": 368,
   "id": "ce9ac10a",
   "metadata": {},
   "outputs": [
    {
     "name": "stdout",
     "output_type": "stream",
     "text": [
      "red apple\n",
      "red banana\n",
      "red cherry\n",
      "big apple\n",
      "big banana\n",
      "big cherry\n",
      "tasty apple\n",
      "tasty banana\n",
      "tasty cherry\n"
     ]
    }
   ],
   "source": [
    "adj = [\"red\", \"big\", \"tasty\"]\n",
    "fruits = [\"apple\", \"banana\", \"cherry\"]\n",
    "\n",
    "for x in adj:\n",
    "  for y in fruits:\n",
    "    print(x, y)"
   ]
  },
  {
   "cell_type": "code",
   "execution_count": 369,
   "id": "de31d9e5",
   "metadata": {},
   "outputs": [],
   "source": [
    "for x in [0, 1, 2]:\n",
    "  pass"
   ]
  },
  {
   "cell_type": "markdown",
   "id": "2c896d23",
   "metadata": {},
   "source": [
    "## Functions"
   ]
  },
  {
   "cell_type": "markdown",
   "id": "68d031e3",
   "metadata": {},
   "source": [
    "#### def"
   ]
  },
  {
   "cell_type": "code",
   "execution_count": 370,
   "id": "eaa40aa4",
   "metadata": {},
   "outputs": [
    {
     "name": "stdout",
     "output_type": "stream",
     "text": [
      "hai\n"
     ]
    }
   ],
   "source": [
    "def myfunc():\n",
    "    print(\"hai\")\n",
    "myfunc()"
   ]
  },
  {
   "cell_type": "code",
   "execution_count": 371,
   "id": "6298765b",
   "metadata": {},
   "outputs": [],
   "source": [
    "def func(str):\n",
    "    print(\"hai this is \"+str+\" @@@\")"
   ]
  },
  {
   "cell_type": "code",
   "execution_count": 372,
   "id": "db3bcd2b",
   "metadata": {},
   "outputs": [
    {
     "name": "stdout",
     "output_type": "stream",
     "text": [
      "hai this is kowshik @@@\n"
     ]
    }
   ],
   "source": [
    "func(\"kowshik\")"
   ]
  },
  {
   "cell_type": "code",
   "execution_count": 373,
   "id": "d98e60ba",
   "metadata": {},
   "outputs": [],
   "source": [
    "def add(a,b):\n",
    "    print(a+b)"
   ]
  },
  {
   "cell_type": "code",
   "execution_count": 374,
   "id": "5f1512f3",
   "metadata": {},
   "outputs": [
    {
     "name": "stdout",
     "output_type": "stream",
     "text": [
      "7\n"
     ]
    }
   ],
   "source": [
    "add(3,4)"
   ]
  },
  {
   "cell_type": "code",
   "execution_count": 375,
   "id": "b9c5f5ac",
   "metadata": {},
   "outputs": [],
   "source": [
    "def mul(a,b=105):\n",
    "    print(a,b)\n",
    "    c=a*b\n",
    "    print(c)\n",
    "    "
   ]
  },
  {
   "cell_type": "code",
   "execution_count": 376,
   "id": "6d5e45fc",
   "metadata": {},
   "outputs": [
    {
     "name": "stdout",
     "output_type": "stream",
     "text": [
      "6 105\n",
      "630\n"
     ]
    }
   ],
   "source": [
    "mul(6)"
   ]
  },
  {
   "cell_type": "code",
   "execution_count": 377,
   "id": "f5ced769",
   "metadata": {},
   "outputs": [
    {
     "name": "stdout",
     "output_type": "stream",
     "text": [
      "5 2\n",
      "10\n"
     ]
    }
   ],
   "source": [
    "mul(5,2)"
   ]
  },
  {
   "cell_type": "code",
   "execution_count": 378,
   "id": "86ebd1d8",
   "metadata": {},
   "outputs": [],
   "source": [
    " def addd(a,b,c):\n",
    "    print(a+b+c)"
   ]
  },
  {
   "cell_type": "code",
   "execution_count": 379,
   "id": "1c2ee710",
   "metadata": {},
   "outputs": [
    {
     "name": "stdout",
     "output_type": "stream",
     "text": [
      "13\n"
     ]
    }
   ],
   "source": [
    "addd(5,6,2)"
   ]
  },
  {
   "cell_type": "code",
   "execution_count": 380,
   "id": "4fae5283",
   "metadata": {},
   "outputs": [
    {
     "name": "stdout",
     "output_type": "stream",
     "text": [
      "61\n"
     ]
    }
   ],
   "source": [
    "addd(c=10,b=6,a=45)"
   ]
  },
  {
   "cell_type": "code",
   "execution_count": 381,
   "id": "a13497ec",
   "metadata": {},
   "outputs": [],
   "source": [
    "def display(*marks):\n",
    "    print(marks)"
   ]
  },
  {
   "cell_type": "code",
   "execution_count": 382,
   "id": "14357fda",
   "metadata": {},
   "outputs": [
    {
     "name": "stdout",
     "output_type": "stream",
     "text": [
      "(12, 3, 5, 6, 8, 7, 8, 5, 9, 10)\n"
     ]
    }
   ],
   "source": [
    "display(12,3,5,6,8,7,8,5,9,10)"
   ]
  },
  {
   "cell_type": "code",
   "execution_count": 383,
   "id": "408dbc4f",
   "metadata": {},
   "outputs": [
    {
     "name": "stdout",
     "output_type": "stream",
     "text": [
      "(10, 20)\n"
     ]
    }
   ],
   "source": [
    "def display(a,b):\n",
    "    return a,b\n",
    "res=display(10,20)\n",
    "print(res)"
   ]
  },
  {
   "cell_type": "code",
   "execution_count": 384,
   "id": "f4bf5ad7",
   "metadata": {},
   "outputs": [
    {
     "name": "stdout",
     "output_type": "stream",
     "text": [
      "100\n"
     ]
    }
   ],
   "source": [
    "a=100\n",
    "def myf():\n",
    "    print(a)\n",
    "myf()"
   ]
  },
  {
   "cell_type": "code",
   "execution_count": 385,
   "id": "627882a6",
   "metadata": {},
   "outputs": [
    {
     "name": "stdout",
     "output_type": "stream",
     "text": [
      "100\n",
      "100\n"
     ]
    }
   ],
   "source": [
    "a=100\n",
    "def myf():\n",
    "    print(a)\n",
    "myf()\n",
    "print(a)"
   ]
  },
  {
   "cell_type": "code",
   "execution_count": 386,
   "id": "f7ab98f8",
   "metadata": {},
   "outputs": [
    {
     "name": "stdout",
     "output_type": "stream",
     "text": [
      "50\n",
      "100\n"
     ]
    }
   ],
   "source": [
    "a=100\n",
    "def myf():\n",
    "    a=50\n",
    "    print(a)\n",
    "myf()\n",
    "print(a)"
   ]
  },
  {
   "cell_type": "code",
   "execution_count": 387,
   "id": "24e7577d",
   "metadata": {},
   "outputs": [
    {
     "name": "stdout",
     "output_type": "stream",
     "text": [
      "20\n"
     ]
    }
   ],
   "source": [
    "def myf():\n",
    "    m=20\n",
    "    print(m)\n",
    "myf()\n",
    "#print(m)"
   ]
  },
  {
   "cell_type": "code",
   "execution_count": 388,
   "id": "0b493e1c",
   "metadata": {},
   "outputs": [
    {
     "name": "stdout",
     "output_type": "stream",
     "text": [
      "20\n",
      "20\n"
     ]
    }
   ],
   "source": [
    "def myf():\n",
    "    global m\n",
    "    m=20\n",
    "    print(m)\n",
    "myf()\n",
    "print(m)"
   ]
  },
  {
   "cell_type": "markdown",
   "id": "7215e168",
   "metadata": {},
   "source": [
    "#### lambda"
   ]
  },
  {
   "cell_type": "code",
   "execution_count": 389,
   "id": "68e72de4",
   "metadata": {},
   "outputs": [],
   "source": [
    "add=lambda a,b:a+b"
   ]
  },
  {
   "cell_type": "code",
   "execution_count": 390,
   "id": "d81d3a7e",
   "metadata": {},
   "outputs": [
    {
     "data": {
      "text/plain": [
       "11"
      ]
     },
     "execution_count": 390,
     "metadata": {},
     "output_type": "execute_result"
    }
   ],
   "source": [
    "add(5,6)"
   ]
  },
  {
   "cell_type": "code",
   "execution_count": 391,
   "id": "b203e890",
   "metadata": {},
   "outputs": [],
   "source": [
    "l1=list(range(5,44,2))"
   ]
  },
  {
   "cell_type": "code",
   "execution_count": 392,
   "id": "87d1d05c",
   "metadata": {},
   "outputs": [],
   "source": [
    "l2=list(range(5,44,2))"
   ]
  },
  {
   "cell_type": "code",
   "execution_count": 393,
   "id": "f0b17f49",
   "metadata": {},
   "outputs": [
    {
     "data": {
      "text/plain": [
       "20"
      ]
     },
     "execution_count": 393,
     "metadata": {},
     "output_type": "execute_result"
    }
   ],
   "source": [
    "len(l1)"
   ]
  },
  {
   "cell_type": "code",
   "execution_count": 394,
   "id": "3b21cce8",
   "metadata": {},
   "outputs": [
    {
     "data": {
      "text/plain": [
       "20"
      ]
     },
     "execution_count": 394,
     "metadata": {},
     "output_type": "execute_result"
    }
   ],
   "source": [
    "len(l2)"
   ]
  },
  {
   "cell_type": "code",
   "execution_count": 395,
   "id": "36cd4965",
   "metadata": {},
   "outputs": [],
   "source": [
    "x=lambda a:a+10"
   ]
  },
  {
   "cell_type": "code",
   "execution_count": 396,
   "id": "5bba75be",
   "metadata": {},
   "outputs": [
    {
     "data": {
      "text/plain": [
       "15"
      ]
     },
     "execution_count": 396,
     "metadata": {},
     "output_type": "execute_result"
    }
   ],
   "source": [
    "x(5)"
   ]
  },
  {
   "cell_type": "code",
   "execution_count": 397,
   "id": "3fcdfd60",
   "metadata": {},
   "outputs": [
    {
     "data": {
      "text/plain": [
       "15"
      ]
     },
     "execution_count": 397,
     "metadata": {},
     "output_type": "execute_result"
    }
   ],
   "source": [
    "x=lambda a,b,c:a+b+c\n",
    "x(5,6,4)"
   ]
  },
  {
   "cell_type": "code",
   "execution_count": 398,
   "id": "13a628a5",
   "metadata": {},
   "outputs": [],
   "source": [
    "def mf(n):\n",
    "    return lambda a:a*n"
   ]
  },
  {
   "cell_type": "code",
   "execution_count": 399,
   "id": "b0cbc093",
   "metadata": {},
   "outputs": [
    {
     "name": "stdout",
     "output_type": "stream",
     "text": [
      "8\n"
     ]
    }
   ],
   "source": [
    "mydf=mf(4)\n",
    "print(mydf(2))"
   ]
  },
  {
   "cell_type": "code",
   "execution_count": 400,
   "id": "ef1f264d",
   "metadata": {},
   "outputs": [
    {
     "name": "stdout",
     "output_type": "stream",
     "text": [
      "15\n"
     ]
    }
   ],
   "source": [
    "myt=mf(3)\n",
    "print(myt(5))"
   ]
  },
  {
   "cell_type": "code",
   "execution_count": 401,
   "id": "3e216ca3",
   "metadata": {},
   "outputs": [
    {
     "name": "stdout",
     "output_type": "stream",
     "text": [
      "8\n",
      "15\n"
     ]
    }
   ],
   "source": [
    "mydf=mf(4)\n",
    "myt=mf(3)\n",
    "print(mydf(2))\n",
    "print(myt(5))"
   ]
  },
  {
   "cell_type": "markdown",
   "id": "8224dc54",
   "metadata": {},
   "source": [
    "#### recurtion"
   ]
  },
  {
   "cell_type": "code",
   "execution_count": 402,
   "id": "d47c468c",
   "metadata": {},
   "outputs": [],
   "source": [
    "# factorial\n",
    "def factorial(n):\n",
    "    if n==0 or n==1:\n",
    "        return 1\n",
    "    else:\n",
    "        return n*factorial(n-1)"
   ]
  },
  {
   "cell_type": "code",
   "execution_count": 403,
   "id": "7328ca73",
   "metadata": {},
   "outputs": [
    {
     "data": {
      "text/plain": [
       "120"
      ]
     },
     "execution_count": 403,
     "metadata": {},
     "output_type": "execute_result"
    }
   ],
   "source": [
    "factorial(5)"
   ]
  },
  {
   "cell_type": "markdown",
   "id": "aa69df49",
   "metadata": {},
   "source": [
    "## Files\n",
    "    read--r\n",
    "    write--w\n",
    "    append--a\n",
    "    open()\n",
    "    close()\n",
    "    write()\n",
    "    writwlines()\n",
    "    read()\n",
    "    readline()\n",
    "    readlines()\n",
    "    tell()\n",
    "    seek()"
   ]
  },
  {
   "cell_type": "code",
   "execution_count": 404,
   "id": "a4d7fa53",
   "metadata": {},
   "outputs": [],
   "source": [
    "f=open(\"shekhar.txt\",\"w\")\n",
    "f.write(\"welcome\")\n",
    "f.write(\"good morning\")\n",
    "l=[\"hai\\n\",\"this\\n\",\"is\\n\",\"shekhar\\n\"]\n",
    "f.writelines(l)\n",
    "f.close()"
   ]
  },
  {
   "cell_type": "code",
   "execution_count": 405,
   "id": "76e8b6da",
   "metadata": {},
   "outputs": [
    {
     "data": {
      "text/plain": [
       "<_io.TextIOWrapper name='shekhar.txt' mode='w' encoding='cp1252'>"
      ]
     },
     "execution_count": 405,
     "metadata": {},
     "output_type": "execute_result"
    }
   ],
   "source": [
    "f"
   ]
  },
  {
   "cell_type": "code",
   "execution_count": 406,
   "id": "eb4c185b",
   "metadata": {},
   "outputs": [],
   "source": [
    "ff=open(\"kowshik.txt\",\"w\")\n",
    "ff.write(\"dady \")\n",
    "ff.write(\"mummy\\n\")\n",
    "l=(\"hai\\n\",\"mummy\\n\",\"dady\\n\",\"how\\n\",\"are\\n\",\"you?\\n\")\n",
    "ff.writelines(l)\n",
    "ff.close()"
   ]
  },
  {
   "cell_type": "code",
   "execution_count": 407,
   "id": "30bce181",
   "metadata": {},
   "outputs": [
    {
     "data": {
      "text/plain": [
       "<_io.TextIOWrapper name='kowshik.txt' mode='w' encoding='cp1252'>"
      ]
     },
     "execution_count": 407,
     "metadata": {},
     "output_type": "execute_result"
    }
   ],
   "source": [
    "ff"
   ]
  },
  {
   "cell_type": "code",
   "execution_count": 408,
   "id": "4b2d0d28",
   "metadata": {},
   "outputs": [
    {
     "name": "stdout",
     "output_type": "stream",
     "text": [
      "dady mummy\n",
      "h\n"
     ]
    }
   ],
   "source": [
    "fo=open(\"kowshik.txt\",\"r\")\n",
    "print(fo.read(12))\n",
    "fo.close()"
   ]
  },
  {
   "cell_type": "code",
   "execution_count": 409,
   "id": "f82c652f",
   "metadata": {},
   "outputs": [
    {
     "name": "stdout",
     "output_type": "stream",
     "text": [
      "d\n",
      "ady mummy\n",
      "\n",
      "hai\n",
      "\n",
      "mummy\n",
      "\n",
      "dady\n",
      "\n"
     ]
    }
   ],
   "source": [
    "f1=open(\"kowshik.txt\",\"r\")\n",
    "print(f1.read(1))\n",
    "print(f1.readline())\n",
    "print(f1.readline())\n",
    "print(f1.readline())\n",
    "print(f1.readline())\n",
    "f1.close()"
   ]
  },
  {
   "cell_type": "code",
   "execution_count": 410,
   "id": "9eaf5030",
   "metadata": {},
   "outputs": [
    {
     "name": "stdout",
     "output_type": "stream",
     "text": [
      "['dady mummy\\n', 'hai\\n', 'mummy\\n', 'dady\\n', 'how\\n', 'are\\n', 'you?\\n']\n"
     ]
    }
   ],
   "source": [
    "f1=open(\"kowshik.txt\",\"r\")\n",
    "print(f1.readlines())\n",
    "f1.close()"
   ]
  },
  {
   "cell_type": "code",
   "execution_count": 411,
   "id": "c4bf9e36",
   "metadata": {},
   "outputs": [
    {
     "name": "stdout",
     "output_type": "stream",
     "text": [
      "20\n",
      "12\n",
      "12\n"
     ]
    }
   ],
   "source": [
    "foo=open(\"srinaiah.txt\",\"w\")\n",
    "foo.write(\"hai this is srinaiah\")\n",
    "print(foo.tell())\n",
    "print(foo.seek(12))\n",
    "print(foo.tell())\n",
    "foo.close()"
   ]
  },
  {
   "cell_type": "code",
   "execution_count": null,
   "id": "1ecdb61b",
   "metadata": {},
   "outputs": [],
   "source": []
  }
 ],
 "metadata": {
  "kernelspec": {
   "display_name": "Python 3 (ipykernel)",
   "language": "python",
   "name": "python3"
  },
  "language_info": {
   "codemirror_mode": {
    "name": "ipython",
    "version": 3
   },
   "file_extension": ".py",
   "mimetype": "text/x-python",
   "name": "python",
   "nbconvert_exporter": "python",
   "pygments_lexer": "ipython3",
   "version": "3.9.12"
  },
  "latex_envs": {
   "LaTeX_envs_menu_present": true,
   "autoclose": false,
   "autocomplete": true,
   "bibliofile": "biblio.bib",
   "cite_by": "apalike",
   "current_citInitial": 1,
   "eqLabelWithNumbers": true,
   "eqNumInitial": 1,
   "hotkeys": {
    "equation": "Ctrl-E",
    "itemize": "Ctrl-I"
   },
   "labels_anchors": false,
   "latex_user_defs": false,
   "report_style_numbering": false,
   "user_envs_cfg": false
  },
  "varInspector": {
   "cols": {
    "lenName": 16,
    "lenType": 16,
    "lenVar": 40
   },
   "kernels_config": {
    "python": {
     "delete_cmd_postfix": "",
     "delete_cmd_prefix": "del ",
     "library": "var_list.py",
     "varRefreshCmd": "print(var_dic_list())"
    },
    "r": {
     "delete_cmd_postfix": ") ",
     "delete_cmd_prefix": "rm(",
     "library": "var_list.r",
     "varRefreshCmd": "cat(var_dic_list()) "
    }
   },
   "types_to_exclude": [
    "module",
    "function",
    "builtin_function_or_method",
    "instance",
    "_Feature"
   ],
   "window_display": false
  }
 },
 "nbformat": 4,
 "nbformat_minor": 5
}
