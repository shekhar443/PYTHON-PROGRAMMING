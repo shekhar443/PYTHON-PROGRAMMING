{
 "cells": [
  {
   "cell_type": "code",
   "execution_count": 33,
   "id": "a40b7a43",
   "metadata": {},
   "outputs": [
    {
     "data": {
      "text/plain": [
       "6"
      ]
     },
     "execution_count": 33,
     "metadata": {},
     "output_type": "execute_result"
    }
   ],
   "source": [
    "class stack :\n",
    "    def __init__(self):\n",
    "        self.container=[]\n",
    "       \n",
    "        \n",
    "    def push(self,data):\n",
    "        return self.container.append(data)\n",
    "    \n",
    "    def pop(self):\n",
    "        if self.length()==0:\n",
    "            print(\"stack is empty,under flow condition\")\n",
    "            return\n",
    "        return self.container.pop()\n",
    "    \n",
    "    def peek(self):\n",
    "        if self.length()==0:\n",
    "            print(\"stack is empty,under flow condition\")\n",
    "            return\n",
    "        return self.container[-1]  \n",
    "        \n",
    "    def length(self):\n",
    "        return len(self.container)\n",
    "\n",
    "\n",
    "s=stack()\n",
    "s.push(10)\n",
    "s.push(100)  \n",
    "s.push(100)\n",
    "s.push(100)\n",
    "s.length()\n",
    "s.pop()\n",
    "s.length()\n",
    "s.push(10)\n",
    "s.push(100)  \n",
    "s.push(100)\n",
    "s.push(100)\n",
    "s.length()\n",
    "s.peek()\n",
    "s.length()\n",
    "s.pop()\n",
    "s.length()"
   ]
  },
  {
   "cell_type": "code",
   "execution_count": null,
   "id": "67e89f9e",
   "metadata": {},
   "outputs": [],
   "source": []
  }
 ],
 "metadata": {
  "kernelspec": {
   "display_name": "Python 3 (ipykernel)",
   "language": "python",
   "name": "python3"
  },
  "language_info": {
   "codemirror_mode": {
    "name": "ipython",
    "version": 3
   },
   "file_extension": ".py",
   "mimetype": "text/x-python",
   "name": "python",
   "nbconvert_exporter": "python",
   "pygments_lexer": "ipython3",
   "version": "3.9.12"
  }
 },
 "nbformat": 4,
 "nbformat_minor": 5
}
