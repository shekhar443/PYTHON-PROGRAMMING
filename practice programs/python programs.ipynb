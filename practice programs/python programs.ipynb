{
 "cells": [
  {
   "cell_type": "code",
   "execution_count": 10,
   "id": "f008195b",
   "metadata": {},
   "outputs": [
    {
     "name": "stdout",
     "output_type": "stream",
     "text": [
      "enter the alpha numeric num451320639623.9+6\n",
      "entered name 451320639623.9+6\n",
      "14\n"
     ]
    }
   ],
   "source": [
    "number=input('enter the alpha numeric num')\n",
    "print('entered name',number)\n",
    "digits=['1','2','4','3','5','6','7','8','9','0']\n",
    "count=0\n",
    "for i in number:\n",
    "    if(i in digits):\n",
    "        count+=1\n",
    "print(count)"
   ]
  },
  {
   "cell_type": "code",
   "execution_count": 30,
   "id": "f468b022",
   "metadata": {},
   "outputs": [
    {
     "name": "stdout",
     "output_type": "stream",
     "text": [
      "9\n",
      "missing num is: 3\n"
     ]
    }
   ],
   "source": [
    "num=[1,2,4,5,6,7,8,9]\n",
    "n=len(num)+1\n",
    "print(n)\n",
    "totalsum=n*(n+1)//2\n",
    "\n",
    "sum=0\n",
    "for i in num:\n",
    "    sum+=i\n",
    "print ('missing num is:',totalsum-sum)\n"
   ]
  },
  {
   "cell_type": "markdown",
   "id": "77a61562",
   "metadata": {},
   "source": [
    "number"
   ]
  },
  {
   "cell_type": "raw",
   "id": "b1f76fa3",
   "metadata": {},
   "source": [
    "num=[1,2,4,5,6,7,8,9]\n",
    "\n"
   ]
  },
  {
   "cell_type": "code",
   "execution_count": 43,
   "id": "bb429bcf",
   "metadata": {},
   "outputs": [],
   "source": [
    "\n",
    "\n"
   ]
  },
  {
   "cell_type": "code",
   "execution_count": 68,
   "id": "ca2ae31c",
   "metadata": {},
   "outputs": [],
   "source": [
    "\n",
    "num=[9,9,9,9,1,2,2,3,3,3,3,9,4,5,6,3,7,3,8,3,6,3,5,3,7,3,3,3,6,7,8,9]\n",
    "len(num)\n",
    "newList=[]\n",
    "\n",
    "for i in num:\n",
    "    if(i not in num):\n",
    "        newList.append(i)\n",
    "        print(newList)"
   ]
  },
  {
   "cell_type": "code",
   "execution_count": 69,
   "id": "a1c38ad4",
   "metadata": {},
   "outputs": [
    {
     "name": "stdout",
     "output_type": "stream",
     "text": [
      "1 9\n"
     ]
    }
   ],
   "source": [
    "num=[1,2,2,3,3,3,3,9,4,5,6,3,7,3,8,3,6,3,5,3,7,3,3,3,6,7,8,9]\n",
    "num.sort()\n",
    "print(num[0],num[-1])"
   ]
  },
  {
   "cell_type": "code",
   "execution_count": 70,
   "id": "acad2bc9",
   "metadata": {},
   "outputs": [
    {
     "name": "stdout",
     "output_type": "stream",
     "text": [
      "1 9\n"
     ]
    }
   ],
   "source": [
    "print(min(num),max(num))"
   ]
  },
  {
   "cell_type": "code",
   "execution_count": 71,
   "id": "cb437871",
   "metadata": {},
   "outputs": [
    {
     "name": "stdout",
     "output_type": "stream",
     "text": [
      "1 9\n"
     ]
    }
   ],
   "source": [
    "small=num[0]\n",
    "maximum=num[0]\n",
    "length=len(num)\n",
    "\n",
    "for i in range(1,length):\n",
    "    if (small>num[i]):\n",
    "        small=num[i]\n",
    "    if(maximum<num[i]):\n",
    "        maximum=num[i]\n",
    "print(small,maximum)\n",
    "    "
   ]
  },
  {
   "cell_type": "code",
   "execution_count": 72,
   "id": "fa02dd88",
   "metadata": {},
   "outputs": [
    {
     "data": {
      "text/plain": [
       "32"
      ]
     },
     "execution_count": 72,
     "metadata": {},
     "output_type": "execute_result"
    }
   ],
   "source": [
    "num=[9,9,9,9,1,2,2,3,3,3,3,9,4,5,6,3,7,3,8,3,6,3,5,3,7,3,3,3,6,7,8,9]\n",
    "len(num)"
   ]
  },
  {
   "cell_type": "code",
   "execution_count": 73,
   "id": "c5620840",
   "metadata": {},
   "outputs": [],
   "source": [
    "num.sort()"
   ]
  },
  {
   "cell_type": "code",
   "execution_count": 74,
   "id": "4a902e14",
   "metadata": {},
   "outputs": [
    {
     "data": {
      "text/plain": [
       "[1,\n",
       " 2,\n",
       " 2,\n",
       " 3,\n",
       " 3,\n",
       " 3,\n",
       " 3,\n",
       " 3,\n",
       " 3,\n",
       " 3,\n",
       " 3,\n",
       " 3,\n",
       " 3,\n",
       " 3,\n",
       " 3,\n",
       " 4,\n",
       " 5,\n",
       " 5,\n",
       " 6,\n",
       " 6,\n",
       " 6,\n",
       " 7,\n",
       " 7,\n",
       " 7,\n",
       " 8,\n",
       " 8,\n",
       " 9,\n",
       " 9,\n",
       " 9,\n",
       " 9,\n",
       " 9,\n",
       " 9]"
      ]
     },
     "execution_count": 74,
     "metadata": {},
     "output_type": "execute_result"
    }
   ],
   "source": [
    "num"
   ]
  },
  {
   "cell_type": "code",
   "execution_count": 88,
   "id": "527b7e55",
   "metadata": {},
   "outputs": [
    {
     "name": "stdout",
     "output_type": "stream",
     "text": [
      "9 8\n"
     ]
    }
   ],
   "source": [
    "num=[1,2,2,3,3,3,3,4,5,6,3,7,3,8,3,6,3,5,3,7,3,3,3,6,7,8,9]\n",
    "len(num)\n",
    "fn=max(num[0],num[1])\n",
    "sn=min(num[0],num[1])\n",
    "for i in range(2,len(num)):\n",
    "    if(num[i]>fn):\n",
    "        sn=fn\n",
    "        fn=num[i]\n",
    "    elif(num[i]>sn):\n",
    "        sn=num[i]\n",
    "print(fn,sn)"
   ]
  },
  {
   "cell_type": "code",
   "execution_count": null,
   "id": "3616ef1f",
   "metadata": {},
   "outputs": [],
   "source": [
    "name=input('enter a name')\n",
    "len(name)\n",
    "for i in name:\n",
    "    if(name.count(i)==1):\n",
    "        print(i)\n",
    "    "
   ]
  },
  {
   "cell_type": "code",
   "execution_count": null,
   "id": "b24c4a1b",
   "metadata": {},
   "outputs": [],
   "source": [
    "name=input('enter a name')\n",
    "len(name)\n",
    "foundNonRepeated=False\n",
    "while name!=\"\":\n",
    "    riginalNameLength=len(name)\n",
    "    char=name[0]\n",
    "    name=name.replace(char,\" \")\n",
    "    afterreplacementlen=len(name)\n",
    "    if(riginalNameLength-1==afterreplacementlen:\n",
    "       print('first non repeated char is',char)\n",
    "       foundNonRepeated=True\n",
    "       break"
   ]
  },
  {
   "cell_type": "code",
   "execution_count": null,
   "id": "3b8c4163",
   "metadata": {},
   "outputs": [],
   "source": [
    "name=input('enter a name')\n",
    "len(name)\n",
    "foundNonRepeated=False\n",
    "while name!=\"\":\n",
    "    riginalNameLength=len(name)\n",
    "    char=name[0]\n",
    "    name=name.replace(char,\" \")\n",
    "    afterreplacementlen=len(name)\n",
    "    if(riginalNameLength-1==afterreplacementlen:\n",
    "       print('first non repeated char is',char)\n",
    "       foundNonRepeated=True\n",
    "       break"
   ]
  },
  {
   "cell_type": "code",
   "execution_count": null,
   "id": "7169738d",
   "metadata": {},
   "outputs": [],
   "source": []
  },
  {
   "cell_type": "code",
   "execution_count": null,
   "id": "17f28b0e",
   "metadata": {},
   "outputs": [],
   "source": [
    "print(\"hai\")"
   ]
  },
  {
   "cell_type": "code",
   "execution_count": null,
   "id": "c3904787",
   "metadata": {},
   "outputs": [],
   "source": []
  },
  {
   "cell_type": "code",
   "execution_count": null,
   "id": "15c1a951",
   "metadata": {},
   "outputs": [],
   "source": []
  }
 ],
 "metadata": {
  "kernelspec": {
   "display_name": "Python 3 (ipykernel)",
   "language": "python",
   "name": "python3"
  },
  "language_info": {
   "codemirror_mode": {
    "name": "ipython",
    "version": 3
   },
   "file_extension": ".py",
   "mimetype": "text/x-python",
   "name": "python",
   "nbconvert_exporter": "python",
   "pygments_lexer": "ipython3",
   "version": "3.9.12"
  }
 },
 "nbformat": 4,
 "nbformat_minor": 5
}
