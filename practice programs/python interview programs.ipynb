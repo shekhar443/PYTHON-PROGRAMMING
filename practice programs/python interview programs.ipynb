{
 "cells": [
  {
   "cell_type": "markdown",
   "id": "f0f49626",
   "metadata": {},
   "source": [
    "  1. Write a Python Program to print Prime Numbers between 2 numbers\n",
    "  2. Write a Sort function to sort the elements in a list\n",
    "  3. Write a sorting function without using the list.sort function\n",
    "  4. Write a Python program to print Fibonacci Series\n",
    "  5. Write a Python program to print a list in reverse\n",
    "  6. Write a Python program to check whether a string is a Palindrome or not \n",
    "  7. Write a Python program to print set of duplicates in a list\n",
    "  8. Write a Python program to print number of words in a given sentence\n",
    "  9. Given an array arr[] of n elements, write a Python function to search a given element x in arr[].\n",
    "  10. Write a Python program to implement a Binary Search\n",
    "  11. Write a Python program to plot a simple bar chart\n",
    "  12. Write a Python program to join two strings (Hint: using join())\n",
    "  13. Write a Python program to extract digits from given string\n",
    "  14. Write a Python program to split strings using newline delimiter\n",
    "  15. Given a string as your input, delete any reoccurring character, and return the new string."
   ]
  },
  {
   "cell_type": "markdown",
   "id": "a8877cb4",
   "metadata": {},
   "source": [
    "## 1. Write a Python Program to print Prime Numbers between 2 numbers"
   ]
  },
  {
   "cell_type": "code",
   "execution_count": null,
   "id": "89e47cc0",
   "metadata": {},
   "outputs": [],
   "source": [
    "prime_numpers_list=[]\n",
    "for num in range(1,100):\n",
    "    if all(num % i !=0 for i in range(2,num)):\n",
    "        prime_numpers_list.append(num)\n",
    "print(\"list of prime numbers: \",prime_numpers_list)\n",
    "print(\"no of peime numbers  :\",(len(prime_numpers_list)))"
   ]
  },
  {
   "cell_type": "markdown",
   "id": "1454b07e",
   "metadata": {},
   "source": [
    "## 2. Write a Sort function to sort the elements in a list"
   ]
  },
  {
   "cell_type": "code",
   "execution_count": null,
   "id": "1227576c",
   "metadata": {},
   "outputs": [],
   "source": [
    "l=[56,26,35,84,94,59,87,52,85,1,2,8,9,15,26,38,95,46,28,65]\n",
    "l.sort(reverse=True)\n",
    "print(l)"
   ]
  },
  {
   "cell_type": "markdown",
   "id": "d4c30c97",
   "metadata": {},
   "source": [
    "## 3. Write a sorting function without using the list.sort function"
   ]
  },
  {
   "cell_type": "code",
   "execution_count": null,
   "id": "fd10c383",
   "metadata": {},
   "outputs": [],
   "source": [
    "l=[56,26,35,84,94,59,87,52,85,1,2,8,9,15,26,38,95,46,28,65]\n",
    "new_list=[]\n",
    "while l:\n",
    "    min=l[0]\n",
    "    for x in l:\n",
    "        if x > min:\n",
    "            min=x\n",
    "    new_list.append(min)\n",
    "    l.remove(x)\n",
    "print(new_list)"
   ]
  },
  {
   "cell_type": "markdown",
   "id": "ebb43fc7",
   "metadata": {},
   "source": [
    "## 4. Write a Python program to print Fibonacci Series"
   ]
  },
  {
   "cell_type": "code",
   "execution_count": null,
   "id": "fae214c4",
   "metadata": {},
   "outputs": [],
   "source": [
    "l=[]\n",
    "def F(n):\n",
    "    if n==0: return 0\n",
    "    elif n==1: return 1\n",
    "    else: return F(n-1)+F(n-2)\n",
    "for i in range(0,10):\n",
    "    l.append(F(i))\n",
    "print(l)"
   ]
  },
  {
   "cell_type": "markdown",
   "id": "281c874c",
   "metadata": {},
   "source": [
    "## 5. Write a Python program to print a list in reverse"
   ]
  },
  {
   "cell_type": "code",
   "execution_count": null,
   "id": "921329a4",
   "metadata": {},
   "outputs": [],
   "source": [
    "l=[0, 1, 1, 2, 3, 5, 8, 13, 21, 34]\n",
    "l.sort(reverse=True)\n",
    "print(l)"
   ]
  },
  {
   "cell_type": "code",
   "execution_count": null,
   "id": "3b7d27cf",
   "metadata": {},
   "outputs": [],
   "source": [
    "l=[0, 1, 1, 2, 3, 5, 8, 13, 21, 34]\n",
    "def rev(l):\n",
    "    return l[::-1]\n",
    "rev(l)"
   ]
  },
  {
   "cell_type": "markdown",
   "id": "47fa5449",
   "metadata": {},
   "source": [
    "## 6. Write a Python program to check whether a string is a Palindrome or not "
   ]
  },
  {
   "cell_type": "code",
   "execution_count": null,
   "id": "2cb5af4f",
   "metadata": {},
   "outputs": [],
   "source": []
  },
  {
   "cell_type": "markdown",
   "id": "69f2cd4f",
   "metadata": {},
   "source": [
    "## 7. Write a Python program to print set of duplicates in a list"
   ]
  },
  {
   "cell_type": "code",
   "execution_count": 14,
   "id": "0787a89c",
   "metadata": {},
   "outputs": [
    {
     "name": "stdout",
     "output_type": "stream",
     "text": [
      "{1, 5}\n"
     ]
    }
   ],
   "source": [
    "l=[0, 1, 1, 2, 3,5, 5, 8, 13, 21, 34]\n",
    "print(set([x for x in l if l.count(x)>1]))"
   ]
  },
  {
   "cell_type": "code",
   "execution_count": 13,
   "id": "178f31e2",
   "metadata": {},
   "outputs": [
    {
     "name": "stdout",
     "output_type": "stream",
     "text": [
      "2\n"
     ]
    }
   ],
   "source": [
    "l=[0, 1, 1, 2, 3,5, 5, 8, 13, 21, 34]\n",
    "print(len(set([x for x in l if l.count(x)>1])))"
   ]
  },
  {
   "cell_type": "code",
   "execution_count": 15,
   "id": "16a5597e",
   "metadata": {},
   "outputs": [
    {
     "name": "stdout",
     "output_type": "stream",
     "text": [
      "{0, 2, 3, 34, 8, 13, 21}\n"
     ]
    }
   ],
   "source": [
    "l=[0, 1, 1, 2, 3,5, 5, 8, 13, 21, 34]\n",
    "print(set([x for x in l if l.count(x)==1]))"
   ]
  },
  {
   "cell_type": "code",
   "execution_count": 12,
   "id": "da685194",
   "metadata": {},
   "outputs": [
    {
     "name": "stdout",
     "output_type": "stream",
     "text": [
      "7\n"
     ]
    }
   ],
   "source": [
    "l=[0, 1, 1, 2, 3,5, 5, 8, 13, 21, 34]\n",
    "print(len(set([x for x in l if l.count(x)==1])))"
   ]
  },
  {
   "cell_type": "markdown",
   "id": "ed46bd48",
   "metadata": {},
   "source": [
    "## 8. Write a Python program to print number of words in a given sentence"
   ]
  },
  {
   "cell_type": "code",
   "execution_count": 19,
   "id": "cfe2d2c7",
   "metadata": {},
   "outputs": [
    {
     "name": "stdout",
     "output_type": "stream",
     "text": [
      "['hai', 'this', 'is', 'shekhar', 'preparing', 'data', 'science']\n",
      "7\n"
     ]
    }
   ],
   "source": [
    "s='hai this is shekhar preparing data science'\n",
    "print(s.split())\n",
    "print(len(s.split()))"
   ]
  },
  {
   "cell_type": "markdown",
   "id": "65741d34",
   "metadata": {},
   "source": [
    "## 9. Given an array arr[] of n elements, write a Python function to search a given element x in arr[]."
   ]
  },
  {
   "cell_type": "code",
   "execution_count": 23,
   "id": "45159af8",
   "metadata": {},
   "outputs": [
    {
     "data": {
      "text/plain": [
       "1"
      ]
     },
     "execution_count": 23,
     "metadata": {},
     "output_type": "execute_result"
    }
   ],
   "source": [
    "def search(arr,x):\n",
    "    for i in range(len(arr)):\n",
    "        if arr[i]==x:\n",
    "            return i\n",
    "    print(\"not present in the list\")\n",
    "l=[0, 1, 1, 2, 3,5, 5, 8, 13, 21, 34]\n",
    "search(l,1)       "
   ]
  },
  {
   "cell_type": "markdown",
   "id": "d13d28e4",
   "metadata": {},
   "source": [
    "## 10. Write a Python program to implement a Binary Search"
   ]
  },
  {
   "cell_type": "code",
   "execution_count": null,
   "id": "20c1d72a",
   "metadata": {},
   "outputs": [],
   "source": []
  },
  {
   "cell_type": "markdown",
   "id": "566846ff",
   "metadata": {},
   "source": [
    "## 11. Write a Python program to plot a simple bar chart"
   ]
  },
  {
   "cell_type": "markdown",
   "id": "6f0dfd0b",
   "metadata": {},
   "source": [
    "## 12. Write a Python program to join two strings (Hint: using join())"
   ]
  },
  {
   "cell_type": "markdown",
   "id": "730ecd1a",
   "metadata": {},
   "source": [
    "## 13. Write a Python program to extract digits from given string"
   ]
  },
  {
   "cell_type": "markdown",
   "id": "c6a3546c",
   "metadata": {},
   "source": [
    "## 14. Write a Python program to split strings using newline delimiter"
   ]
  },
  {
   "cell_type": "markdown",
   "id": "c6dcab6b",
   "metadata": {},
   "source": [
    "## 15. Given a string as your input, delete any reoccurring character, and return the new string."
   ]
  },
  {
   "cell_type": "code",
   "execution_count": null,
   "id": "cfd58b54",
   "metadata": {},
   "outputs": [],
   "source": []
  },
  {
   "cell_type": "code",
   "execution_count": null,
   "id": "2b8ab1c2",
   "metadata": {},
   "outputs": [],
   "source": []
  },
  {
   "cell_type": "code",
   "execution_count": null,
   "id": "881ffee2",
   "metadata": {},
   "outputs": [],
   "source": []
  },
  {
   "cell_type": "code",
   "execution_count": null,
   "id": "68208444",
   "metadata": {},
   "outputs": [],
   "source": []
  }
 ],
 "metadata": {
  "kernelspec": {
   "display_name": "Python 3 (ipykernel)",
   "language": "python",
   "name": "python3"
  },
  "language_info": {
   "codemirror_mode": {
    "name": "ipython",
    "version": 3
   },
   "file_extension": ".py",
   "mimetype": "text/x-python",
   "name": "python",
   "nbconvert_exporter": "python",
   "pygments_lexer": "ipython3",
   "version": "3.9.12"
  },
  "latex_envs": {
   "LaTeX_envs_menu_present": true,
   "autoclose": false,
   "autocomplete": true,
   "bibliofile": "biblio.bib",
   "cite_by": "apalike",
   "current_citInitial": 1,
   "eqLabelWithNumbers": true,
   "eqNumInitial": 1,
   "hotkeys": {
    "equation": "Ctrl-E",
    "itemize": "Ctrl-I"
   },
   "labels_anchors": false,
   "latex_user_defs": false,
   "report_style_numbering": false,
   "user_envs_cfg": false
  },
  "varInspector": {
   "cols": {
    "lenName": 16,
    "lenType": 16,
    "lenVar": 40
   },
   "kernels_config": {
    "python": {
     "delete_cmd_postfix": "",
     "delete_cmd_prefix": "del ",
     "library": "var_list.py",
     "varRefreshCmd": "print(var_dic_list())"
    },
    "r": {
     "delete_cmd_postfix": ") ",
     "delete_cmd_prefix": "rm(",
     "library": "var_list.r",
     "varRefreshCmd": "cat(var_dic_list()) "
    }
   },
   "types_to_exclude": [
    "module",
    "function",
    "builtin_function_or_method",
    "instance",
    "_Feature"
   ],
   "window_display": false
  }
 },
 "nbformat": 4,
 "nbformat_minor": 5
}
