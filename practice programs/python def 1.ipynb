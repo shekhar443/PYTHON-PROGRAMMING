{
 "cells": [
  {
   "cell_type": "code",
   "execution_count": 1,
   "id": "f65350e1",
   "metadata": {},
   "outputs": [
    {
     "name": "stdout",
     "output_type": "stream",
     "text": [
      "ghjk\n"
     ]
    }
   ],
   "source": [
    "print(\"ghjk\")"
   ]
  },
  {
   "cell_type": "code",
   "execution_count": 7,
   "id": "000df7dd",
   "metadata": {},
   "outputs": [
    {
     "name": "stdout",
     "output_type": "stream",
     "text": [
      "50\n",
      "index of element is  17\n"
     ]
    }
   ],
   "source": [
    "array=[2,5,6,7,3,1,12,8,9,10,15,71,45,63,89,22,14,50]\n",
    "n=len(array)\n",
    "\n",
    "\n",
    "def Linearsearch(array,n,x):\n",
    "    for i in range(0, n):\n",
    "        if array[i]==x:\n",
    "            return i\n",
    "    return -1\n",
    "result=Linearsearch(array,n,x)\n",
    "if result==-1:\n",
    "    print('item not found')\n",
    "else:\n",
    "    print(f'index of element is  {result}')"
   ]
  },
  {
   "cell_type": "code",
   "execution_count": 21,
   "id": "c95dee93",
   "metadata": {},
   "outputs": [
    {
     "name": "stdout",
     "output_type": "stream",
     "text": [
      "14\n",
      "item not found\n"
     ]
    }
   ],
   "source": [
    "array=[2,5,6,7,3,1,12,8,9,10,15,71,45,63,89,22,14,50]\n",
    "array.sort()\n",
    "y=input()\n",
    "x=int(y)\n",
    "def Binarysearch(array,x,low,high):\n",
    "    while low<=high:\n",
    "        mid=low+(high-low)//2\n",
    "        if array[mid]==x:\n",
    "            return mid\n",
    "        elif array[mid]<x:\n",
    "            low=mid+1\n",
    "        else:\n",
    "            high=mid-1\n",
    "        return -1\n",
    "result=Binarysearch(array,x,0,len(array)-1)\n",
    "if result==-1:\n",
    "    print('item not found')\n",
    "else:\n",
    "    print(f'item found at index is: {result}')\n"
   ]
  },
  {
   "cell_type": "code",
   "execution_count": 16,
   "id": "f0d3e4cc",
   "metadata": {},
   "outputs": [
    {
     "data": {
      "text/plain": [
       "[1, 2, 3, 5, 6, 7, 8, 9, 10, 12, 14, 15, 22, 45, 50, 63, 71, 89]"
      ]
     },
     "execution_count": 16,
     "metadata": {},
     "output_type": "execute_result"
    }
   ],
   "source": [
    "array"
   ]
  },
  {
   "cell_type": "code",
   "execution_count": 24,
   "id": "382aa31f",
   "metadata": {},
   "outputs": [
    {
     "name": "stdout",
     "output_type": "stream",
     "text": [
      "89\n",
      "item found at index is: 17\n"
     ]
    }
   ],
   "source": [
    "array=[2,5,6,7,3,1,12,8,9,10,15,71,45,63,89,22,14,50]\n",
    "array.sort()\n",
    "y=input()\n",
    "x=int(y)\n",
    "def Binarysearch(array,x,low,high):\n",
    "    while low<=high:\n",
    "        mid=low+(high-low)//2\n",
    "        if array[mid]==x:\n",
    "            return mid\n",
    "        elif array[mid]<x:\n",
    "            low=mid+1\n",
    "        else:\n",
    "            high=mid-1\n",
    "    return -1\n",
    "result=Binarysearch(array,x,0,len(array)-1)\n",
    "if result==-1:\n",
    "    print('item not found')\n",
    "else:\n",
    "    print(f'item found at index is: {result}')\n"
   ]
  },
  {
   "cell_type": "code",
   "execution_count": 29,
   "id": "25711e44",
   "metadata": {},
   "outputs": [
    {
     "name": "stdout",
     "output_type": "stream",
     "text": [
      "71\n",
      "item found at index is: 16\n"
     ]
    }
   ],
   "source": [
    "array=[2,5,6,7,3,1,12,8,9,10,15,71,45,63,89,22,14,50]\n",
    "array.sort()\n",
    "y=input()\n",
    "x=int(y)\n",
    "def Binarysearch(array,x,low,high):\n",
    "    if high>=low:\n",
    "        mid=low+(high-low)//2\n",
    "        \n",
    "        if array[mid]==x:\n",
    "            return mid\n",
    "        elif array[mid]<x:\n",
    "            return Binarysearch(array,x,mid+1,high)\n",
    "        else:\n",
    "            return Binarysearch(array,x,low,mid-1)\n",
    "    return -1\n",
    "result=Binarysearch(array,x,0,len(array)-1)\n",
    "if result==-1:\n",
    "    print('item not found')\n",
    "else:\n",
    "    print(f'item found at index is: {result}')\n",
    "\n",
    "            "
   ]
  },
  {
   "cell_type": "code",
   "execution_count": 35,
   "id": "e5be8167",
   "metadata": {},
   "outputs": [
    {
     "name": "stdout",
     "output_type": "stream",
     "text": [
      "array before sorting\n",
      "[2, 5, 6, 7, 3, 1, 12, 8, 9, 10, 15, 71, 45, 63, 89, 22, 14, 50]\n",
      "array after sorting  [1, 2, 3, 5, 6, 7, 8, 9, 10, 12, 14, 15, 22, 45, 50, 63, 71, 89]\n"
     ]
    }
   ],
   "source": [
    "data=[2,5,6,7,3,1,12,8,9,10,15,71,45,63,89,22,14,50]\n",
    "def bobblesort(array):\n",
    "    for i in range(len(array)):\n",
    "        for j in range(0,len(array)-i-1):\n",
    "            if array[j]>array[j+1]:\n",
    "                array[j],array[j+1]=array[j+1],array[j]\n",
    "    return array\n",
    "print(\"array before sorting\")\n",
    "print(data)\n",
    "print(\"array after sorting \",bobblesort(data))"
   ]
  },
  {
   "cell_type": "code",
   "execution_count": null,
   "id": "cdda741b",
   "metadata": {},
   "outputs": [],
   "source": []
  }
 ],
 "metadata": {
  "kernelspec": {
   "display_name": "Python 3 (ipykernel)",
   "language": "python",
   "name": "python3"
  },
  "language_info": {
   "codemirror_mode": {
    "name": "ipython",
    "version": 3
   },
   "file_extension": ".py",
   "mimetype": "text/x-python",
   "name": "python",
   "nbconvert_exporter": "python",
   "pygments_lexer": "ipython3",
   "version": "3.9.12"
  }
 },
 "nbformat": 4,
 "nbformat_minor": 5
}
