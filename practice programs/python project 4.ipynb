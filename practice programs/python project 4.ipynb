{
 "cells": [
  {
   "cell_type": "code",
   "execution_count": null,
   "id": "e4b0825c",
   "metadata": {},
   "outputs": [],
   "source": [
    "n=input('enter n value')\n",
    "newValue=int(n)\n",
    "primeNumbers=[]\n",
    "print('entered num is:',newValue)\n",
    "for i in range(2,newValue+1):\n",
    "    for j in range(2,i):\n",
    "        if(i%j==0):\n",
    "            break\n",
    "    else:\n",
    "            primeNumbers=primeNumbers.apend(i)\n",
    "print(primeNumbers)"
   ]
  },
  {
   "cell_type": "code",
   "execution_count": 21,
   "id": "56f0f7cb",
   "metadata": {},
   "outputs": [],
   "source": [
    "x=5+4j\n",
    "y=11+6j"
   ]
  },
  {
   "cell_type": "code",
   "execution_count": 11,
   "id": "a9a9d1bc",
   "metadata": {},
   "outputs": [
    {
     "data": {
      "text/plain": [
       "(5+4j)"
      ]
     },
     "execution_count": 11,
     "metadata": {},
     "output_type": "execute_result"
    }
   ],
   "source": [
    "x"
   ]
  },
  {
   "cell_type": "code",
   "execution_count": 12,
   "id": "612aff7f",
   "metadata": {},
   "outputs": [
    {
     "data": {
      "text/plain": [
       "complex"
      ]
     },
     "execution_count": 12,
     "metadata": {},
     "output_type": "execute_result"
    }
   ],
   "source": [
    "type(x)"
   ]
  },
  {
   "cell_type": "code",
   "execution_count": 13,
   "id": "ce1d72b2",
   "metadata": {},
   "outputs": [
    {
     "data": {
      "text/plain": [
       "5.0"
      ]
     },
     "execution_count": 13,
     "metadata": {},
     "output_type": "execute_result"
    }
   ],
   "source": [
    "x.real"
   ]
  },
  {
   "cell_type": "code",
   "execution_count": 14,
   "id": "8fb1e903",
   "metadata": {},
   "outputs": [
    {
     "ename": "AttributeError",
     "evalue": "'complex' object has no attribute 'complex'",
     "output_type": "error",
     "traceback": [
      "\u001b[1;31m---------------------------------------------------------------------------\u001b[0m",
      "\u001b[1;31mAttributeError\u001b[0m                            Traceback (most recent call last)",
      "Input \u001b[1;32mIn [14]\u001b[0m, in \u001b[0;36m<cell line: 1>\u001b[1;34m()\u001b[0m\n\u001b[1;32m----> 1\u001b[0m \u001b[43mx\u001b[49m\u001b[38;5;241;43m.\u001b[39;49m\u001b[43mcomplex\u001b[49m\n",
      "\u001b[1;31mAttributeError\u001b[0m: 'complex' object has no attribute 'complex'"
     ]
    }
   ],
   "source": [
    "x.complex"
   ]
  },
  {
   "cell_type": "code",
   "execution_count": 15,
   "id": "a7f2a99a",
   "metadata": {},
   "outputs": [
    {
     "data": {
      "text/plain": [
       "4.0"
      ]
     },
     "execution_count": 15,
     "metadata": {},
     "output_type": "execute_result"
    }
   ],
   "source": [
    "x.imag"
   ]
  },
  {
   "cell_type": "code",
   "execution_count": 16,
   "id": "4ff20560",
   "metadata": {},
   "outputs": [
    {
     "ename": "AttributeError",
     "evalue": "'complex' object has no attribute 'complex'",
     "output_type": "error",
     "traceback": [
      "\u001b[1;31m---------------------------------------------------------------------------\u001b[0m",
      "\u001b[1;31mAttributeError\u001b[0m                            Traceback (most recent call last)",
      "Input \u001b[1;32mIn [16]\u001b[0m, in \u001b[0;36m<cell line: 1>\u001b[1;34m()\u001b[0m\n\u001b[1;32m----> 1\u001b[0m \u001b[43mx\u001b[49m\u001b[38;5;241;43m.\u001b[39;49m\u001b[43mcomplex\u001b[49m\n",
      "\u001b[1;31mAttributeError\u001b[0m: 'complex' object has no attribute 'complex'"
     ]
    }
   ],
   "source": [
    "x.complex"
   ]
  },
  {
   "cell_type": "code",
   "execution_count": 18,
   "id": "45839c0d",
   "metadata": {},
   "outputs": [
    {
     "data": {
      "text/plain": [
       "(5-4j)"
      ]
     },
     "execution_count": 18,
     "metadata": {},
     "output_type": "execute_result"
    }
   ],
   "source": [
    "x.conjugate()"
   ]
  },
  {
   "cell_type": "code",
   "execution_count": 20,
   "id": "b4b62b24",
   "metadata": {},
   "outputs": [
    {
     "name": "stdout",
     "output_type": "stream",
     "text": [
      "<class 'complex'>\n",
      "5.0\n",
      "4.0\n",
      "(5-4j)\n"
     ]
    }
   ],
   "source": [
    "print(type(x))\n",
    "print(x.real)\n",
    "print(x.imag)\n",
    "print(x.conjugate())"
   ]
  },
  {
   "cell_type": "code",
   "execution_count": 22,
   "id": "f573dd3c",
   "metadata": {},
   "outputs": [
    {
     "data": {
      "text/plain": [
       "(11+6j)"
      ]
     },
     "execution_count": 22,
     "metadata": {},
     "output_type": "execute_result"
    }
   ],
   "source": [
    "y"
   ]
  },
  {
   "cell_type": "code",
   "execution_count": 26,
   "id": "5f1869aa",
   "metadata": {},
   "outputs": [
    {
     "name": "stdout",
     "output_type": "stream",
     "text": [
      "(5+4j)\n",
      "(11+6j)\n",
      "(16+10j)\n",
      "(-6-2j)\n",
      "(16+10j)\n",
      "(6+2j)\n"
     ]
    },
    {
     "ename": "AttributeError",
     "evalue": "'NoneType' object has no attribute 'real'",
     "output_type": "error",
     "traceback": [
      "\u001b[1;31m---------------------------------------------------------------------------\u001b[0m",
      "\u001b[1;31mAttributeError\u001b[0m                            Traceback (most recent call last)",
      "Input \u001b[1;32mIn [26]\u001b[0m, in \u001b[0;36m<cell line: 6>\u001b[1;34m()\u001b[0m\n\u001b[0;32m      4\u001b[0m \u001b[38;5;28mprint\u001b[39m(x\u001b[38;5;241m-\u001b[39my)\n\u001b[0;32m      5\u001b[0m \u001b[38;5;28mprint\u001b[39m(y\u001b[38;5;241m+\u001b[39mx)\n\u001b[1;32m----> 6\u001b[0m \u001b[38;5;28;43mprint\u001b[39;49m\u001b[43m(\u001b[49m\u001b[43my\u001b[49m\u001b[38;5;241;43m-\u001b[39;49m\u001b[43mx\u001b[49m\u001b[43m)\u001b[49m\u001b[38;5;241;43m.\u001b[39;49m\u001b[43mreal\u001b[49m\n",
      "\u001b[1;31mAttributeError\u001b[0m: 'NoneType' object has no attribute 'real'"
     ]
    }
   ],
   "source": [
    "print(x)\n",
    "print(y)\n",
    "print(x+y)\n",
    "print(x-y)\n",
    "print(y+x)\n",
    "print(y-x)"
   ]
  },
  {
   "cell_type": "code",
   "execution_count": 29,
   "id": "43e07234",
   "metadata": {},
   "outputs": [
    {
     "name": "stdout",
     "output_type": "stream",
     "text": [
      "enter a namemy name is shekhar\n",
      "no of vowels is  5,no of of consonents  13\n"
     ]
    }
   ],
   "source": [
    "name=input('enter a name')\n",
    "volesList=['a','e','i','o','u']\n",
    "volesCount=0\n",
    "consonemtCount=0\n",
    "\n",
    "for i in name:\n",
    "    if (i in volesList):\n",
    "        volesCount=volesCount+1\n",
    "    else:\n",
    "        consonemtCount=consonemtCount+1\n",
    "print('no of vowels is  {1},no of of consonents  {0}'.format(consonemtCount,volesCount))"
   ]
  },
  {
   "cell_type": "code",
   "execution_count": 36,
   "id": "4dbf8435",
   "metadata": {},
   "outputs": [
    {
     "name": "stdout",
     "output_type": "stream",
     "text": [
      "enter first namemanjula\n",
      "enter second namemanjula\n",
      "['a', 'a', 'j', 'l', 'm', 'n', 'u']\n",
      "['a', 'a', 'j', 'l', 'm', 'n', 'u']\n",
      "these two strings manjula and manjula are lenght is same so anagrams\n"
     ]
    }
   ],
   "source": [
    "name1=input('enter first name')\n",
    "name2=input('enter second name')\n",
    "print(sorted(name1))\n",
    "print(sorted(name2))\n",
    "\n",
    "if(len(name1)==len(name2)):\n",
    "    if(sorted(name1)==sorted(name2)):\n",
    "        print('these two strings {} and {} are lenght is same so anagrams'.format(name1,name2))\n",
    "    else:\n",
    "         print('these two strings {} and {} are length is same but not anagrams'.format(name1,name2))\n",
    "else:\n",
    "     print('these two strings {} and {} are not having same lenght'.format(name1,name2))\n",
    "    "
   ]
  },
  {
   "cell_type": "code",
   "execution_count": 48,
   "id": "deb40384",
   "metadata": {},
   "outputs": [
    {
     "name": "stdout",
     "output_type": "stream",
     "text": [
      "enter name  Telugu Movies Watch Online - ibomma.com is the only official website. Watch and download Telugu movies in excellent quality at the smallest file\n",
      "enter any character  a\n",
      "9\n"
     ]
    }
   ],
   "source": [
    "name=input('enter name  ')\n",
    "character=input('enter any character  ')\n",
    "\n",
    "\n",
    "count=0\n",
    "for i in name:\n",
    "    if(character==i):\n",
    "        count+=1\n",
    "print(count)"
   ]
  },
  {
   "cell_type": "code",
   "execution_count": null,
   "id": "a1f9e867",
   "metadata": {},
   "outputs": [],
   "source": [
    "number=input('enter the alpha numeric num')\n",
    "print('entered name',number)\n",
    "digits=['1','2','4','3','5','6','7','8','9','0']\n",
    "count=0\n",
    "for i in name:\n",
    "    if(digits==i):\n",
    "        count+=1\n",
    "    print(count)"
   ]
  },
  {
   "cell_type": "code",
   "execution_count": null,
   "id": "01ae26e7",
   "metadata": {},
   "outputs": [],
   "source": []
  },
  {
   "cell_type": "code",
   "execution_count": null,
   "id": "6ea2bcd2",
   "metadata": {},
   "outputs": [],
   "source": [
    "number=input('enter the alpha numeric num')\n",
    "print('entered name',number)\n",
    "digits=['1','2','4','3','5','6','7','8','9','0']\n",
    "count=0\n",
    "for i in name:\n",
    "    if(digits==i):\n",
    "        count+=1\n",
    "    print(count)"
   ]
  },
  {
   "cell_type": "code",
   "execution_count": null,
   "id": "c5741db3",
   "metadata": {},
   "outputs": [],
   "source": []
  },
  {
   "cell_type": "code",
   "execution_count": null,
   "id": "807bade4",
   "metadata": {},
   "outputs": [],
   "source": [
    "\n",
    "\n",
    "\n",
    "enter=input('cdcsd')"
   ]
  },
  {
   "cell_type": "code",
   "execution_count": null,
   "id": "1b09930b",
   "metadata": {},
   "outputs": [],
   "source": []
  }
 ],
 "metadata": {
  "kernelspec": {
   "display_name": "Python 3 (ipykernel)",
   "language": "python",
   "name": "python3"
  },
  "language_info": {
   "codemirror_mode": {
    "name": "ipython",
    "version": 3
   },
   "file_extension": ".py",
   "mimetype": "text/x-python",
   "name": "python",
   "nbconvert_exporter": "python",
   "pygments_lexer": "ipython3",
   "version": "3.9.12"
  }
 },
 "nbformat": 4,
 "nbformat_minor": 5
}
