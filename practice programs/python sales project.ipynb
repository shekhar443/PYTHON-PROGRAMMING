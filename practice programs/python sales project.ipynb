{
 "cells": [
  {
   "cell_type": "code",
   "execution_count": 13,
   "id": "9214bfa7",
   "metadata": {},
   "outputs": [
    {
     "name": "stdout",
     "output_type": "stream",
     "text": [
      "second method\n"
     ]
    },
    {
     "ename": "AttributeError",
     "evalue": "'super' object has no attribute 'method'",
     "output_type": "error",
     "traceback": [
      "\u001b[1;31m---------------------------------------------------------------------------\u001b[0m",
      "\u001b[1;31mAttributeError\u001b[0m                            Traceback (most recent call last)",
      "Input \u001b[1;32mIn [13]\u001b[0m, in \u001b[0;36m<cell line: 10>\u001b[1;34m()\u001b[0m\n\u001b[0;32m      7\u001b[0m         \u001b[38;5;28msuper\u001b[39m()\u001b[38;5;241m.\u001b[39mmethod()\n\u001b[0;32m      9\u001b[0m obj\u001b[38;5;241m=\u001b[39mB()\n\u001b[1;32m---> 10\u001b[0m \u001b[43mobj\u001b[49m\u001b[38;5;241;43m.\u001b[39;49m\u001b[43mmethod\u001b[49m\u001b[43m(\u001b[49m\u001b[43m)\u001b[49m\n",
      "Input \u001b[1;32mIn [13]\u001b[0m, in \u001b[0;36mB.method\u001b[1;34m(self)\u001b[0m\n\u001b[0;32m      5\u001b[0m \u001b[38;5;28;01mdef\u001b[39;00m \u001b[38;5;21mmethod\u001b[39m(\u001b[38;5;28mself\u001b[39m):\n\u001b[0;32m      6\u001b[0m     \u001b[38;5;28mprint\u001b[39m(\u001b[38;5;124m\"\u001b[39m\u001b[38;5;124msecond method\u001b[39m\u001b[38;5;124m\"\u001b[39m)\n\u001b[1;32m----> 7\u001b[0m     \u001b[38;5;28;43msuper\u001b[39;49m\u001b[43m(\u001b[49m\u001b[43m)\u001b[49m\u001b[38;5;241;43m.\u001b[39;49m\u001b[43mmethod\u001b[49m()\n",
      "\u001b[1;31mAttributeError\u001b[0m: 'super' object has no attribute 'method'"
     ]
    }
   ],
   "source": [
    "class A:\n",
    "    def method(self):\n",
    "        print(\"first method\")\n",
    "class B:\n",
    "    def method(self):\n",
    "        print(\"second method\")\n",
    "        super().method()\n",
    "        \n",
    "obj=B()\n",
    "obj.method()"
   ]
  },
  {
   "cell_type": "code",
   "execution_count": 26,
   "id": "0fa3efa0",
   "metadata": {},
   "outputs": [
    {
     "name": "stdout",
     "output_type": "stream",
     "text": [
      "enter your namechandu\n",
      "enter your mobile number9676567836\n",
      "customer name:  chandu\n",
      "customer mobile number:  9676567836\n",
      "for list of items enter 11\n",
      " \n",
      "Rice 20/kg\n",
      "Sugar 30/kg\n",
      "Oil 40/kg\n",
      "Bread 50/kg\n",
      "boost 60/kg\n",
      "maggi 70/kg\n",
      "salt 40/kg\n",
      "chicken 200/kg\n",
      "motton 400/kg\n",
      "\n",
      "if you want to buy press 1 or 2 for exit1\n",
      "enter your itemsrice\n",
      "enter items quantity10\n",
      "sorry you entered item is not avalialble\n",
      "can i bill the items yes r noyes\n",
      "if you want to buy press 1 or 2 for exit1\n",
      "enter your itemssugar\n",
      "enter items quantity20\n",
      "sorry you entered item is not avalialble\n",
      "can i bill the items yes r noyes\n",
      "if you want to buy press 1 or 2 for exit2\n"
     ]
    }
   ],
   "source": [
    "from datetime import datetime\n",
    "\n",
    "name=input(\"enter your name\")\n",
    "\n",
    "mobile_number=input(\"enter your mobile number\")\n",
    "\n",
    "print(\"customer name: \",name)\n",
    "print(\"customer mobile number: \",mobile_number)\n",
    "\n",
    "#list of items\n",
    "\n",
    "lists=''' \n",
    "Rice 20/kg\n",
    "Sugar 30/kg\n",
    "Oil 40/kg\n",
    "Bread 50/kg\n",
    "boost 60/kg\n",
    "maggi 70/kg\n",
    "salt 40/kg\n",
    "chicken 200/kg\n",
    "motton 400/kg\n",
    "'''\n",
    "\n",
    "#declarations\n",
    "\n",
    "price=0\n",
    "price_list=[]\n",
    "total_price=0\n",
    "final_price=0\n",
    "ilist=[]\n",
    "qlist=[]\n",
    "plist=[]\n",
    "\n",
    "items={'Rice': 20,\n",
    "'Sugar': 30,\n",
    "'Oil' :40,\n",
    "'Bread': 50,\n",
    "'boost': 60,\n",
    "'maggi': 70,\n",
    "'salt' :40,\n",
    "'chicken': 200,\n",
    "'motton' :400}\n",
    "\n",
    "option=int(input(\"for list of items enter 1\"))\n",
    "if option==1:\n",
    "    print(lists)\n",
    "for i in range(len(items)):\n",
    "    inp1=int(input(\"if you want to buy press 1 or 2 for exit\" ))\n",
    "    if inp1==2:\n",
    "        break\n",
    "    if inp1==1:\n",
    "        item=input(\"enter your items\")\n",
    "        quantity=int(input(\"enter items quantity\"))\n",
    "        if item in items.keys():\n",
    "            price=quantity*items([item])\n",
    "            price_list.append(item,quantity,items,price)\n",
    "            totla_price+=price\n",
    "            ilist.append(item)\n",
    "            qlist.append(quantity)\n",
    "            plist.append(price)\n",
    "            gst=(total_price*5)/100\n",
    "            final_price=gst+total_price\n",
    "        else:\n",
    "            print(\"sorry you entered item is not avalialble\")\n",
    "    else:\n",
    "        print(\"you have entered wrong number\")\n",
    "    inp=input(\"can i bill the items yes r no\")\n",
    "    if inp=='yes':\n",
    "        pass\n",
    "        if final_price!=0:\n",
    "            for i in range(len(price_list)):\n",
    "                print(i,ilist[i],qlist[i],plist[i])\n",
    "            \n"
   ]
  },
  {
   "cell_type": "code",
   "execution_count": 34,
   "id": "e6f8a5a9",
   "metadata": {},
   "outputs": [],
   "source": [
    "import requests \n",
    "from bs4 import BeautifulSoup\n",
    "import csv"
   ]
  },
  {
   "cell_type": "code",
   "execution_count": 35,
   "id": "fa6b5a6e",
   "metadata": {},
   "outputs": [
    {
     "name": "stdout",
     "output_type": "stream",
     "text": [
      "this is chandu\n"
     ]
    }
   ],
   "source": [
    "print(\"this is chandu\")"
   ]
  },
  {
   "cell_type": "code",
   "execution_count": null,
   "id": "22940bb5",
   "metadata": {},
   "outputs": [],
   "source": []
  }
 ],
 "metadata": {
  "kernelspec": {
   "display_name": "Python 3 (ipykernel)",
   "language": "python",
   "name": "python3"
  },
  "language_info": {
   "codemirror_mode": {
    "name": "ipython",
    "version": 3
   },
   "file_extension": ".py",
   "mimetype": "text/x-python",
   "name": "python",
   "nbconvert_exporter": "python",
   "pygments_lexer": "ipython3",
   "version": "3.9.12"
  }
 },
 "nbformat": 4,
 "nbformat_minor": 5
}
