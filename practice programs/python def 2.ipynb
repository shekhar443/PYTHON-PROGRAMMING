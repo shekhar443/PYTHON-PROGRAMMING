{
 "cells": [
  {
   "cell_type": "code",
   "execution_count": 6,
   "id": "93e9faf7",
   "metadata": {},
   "outputs": [
    {
     "name": "stdout",
     "output_type": "stream",
     "text": [
      "list before sorting\n",
      "[2, 5, 6, 7, 3, 1, 12, 8, 9, 10, 15, 71, 45, 63, 89, 22, 14, 50]\n",
      "list after sorting [1, 2, 3, 5, 6, 7, 8, 9, 10, 12, 14, 15, 22, 45, 50, 63, 71, 89]\n",
      "it done...........\n"
     ]
    }
   ],
   "source": [
    "data=[2,5,6,7,3,1,12,8,9,10,15,71,45,63,89,22,14,50]\n",
    "def selectionsort(array):\n",
    "    for i in range(len(array)):\n",
    "        min_index=i\n",
    "        for j in range(i+1,len(array)):\n",
    "            if array[j]<array[min_index]:\n",
    "                min_index=j\n",
    "        array[i],array[min_index]=array[min_index],array[i]\n",
    "print(\"list before sorting\")\n",
    "print(data)\n",
    "selectionsort(data)\n",
    "print(\"list after sorting\",data)\n",
    "print(\"it done...........\")"
   ]
  },
  {
   "cell_type": "code",
   "execution_count": 9,
   "id": "58e1e519",
   "metadata": {},
   "outputs": [
    {
     "name": "stdout",
     "output_type": "stream",
     "text": [
      "list before sorting\n",
      "[2, 5, 6, 7, 3, 1, 12, 8, 9, 10, 15, 71, 45, 63, 89, 22, 14, 50]\n",
      "list after sorting [2, 1, 3, 5, 6, 7, 8, 9, 10, 12, 14, 15, 22, 45, 50, 63, 71, 89]\n",
      "it done...........\n"
     ]
    }
   ],
   "source": [
    "data=[2,5,6,7,3,1,12,8,9,10,15,71,45,63,89,22,14,50]\n",
    "def insertionsort(array):\n",
    "    for i in range (1,len(array)):\n",
    "        key=array[i]\n",
    "        j=i-1\n",
    "        \n",
    "        while j>0 and key <array[j]:\n",
    "            array[j+1]=array[j]\n",
    "            j-=1\n",
    "            array[j+1]=key\n",
    "print(\"list before sorting\")\n",
    "print(data)\n",
    "insertionsort(data)\n",
    "print(\"list after sorting\",data)\n",
    "print(\"it done...........\")"
   ]
  },
  {
   "cell_type": "code",
   "execution_count": null,
   "id": "6eb3342e",
   "metadata": {},
   "outputs": [],
   "source": []
  }
 ],
 "metadata": {
  "kernelspec": {
   "display_name": "Python 3 (ipykernel)",
   "language": "python",
   "name": "python3"
  },
  "language_info": {
   "codemirror_mode": {
    "name": "ipython",
    "version": 3
   },
   "file_extension": ".py",
   "mimetype": "text/x-python",
   "name": "python",
   "nbconvert_exporter": "python",
   "pygments_lexer": "ipython3",
   "version": "3.9.12"
  }
 },
 "nbformat": 4,
 "nbformat_minor": 5
}
