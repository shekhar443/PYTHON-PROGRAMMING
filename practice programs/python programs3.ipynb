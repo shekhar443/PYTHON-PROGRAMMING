{
 "cells": [
  {
   "cell_type": "code",
   "execution_count": 1,
   "id": "c4d85db5",
   "metadata": {},
   "outputs": [
    {
     "name": "stdout",
     "output_type": "stream",
     "text": [
      "hlo\n"
     ]
    }
   ],
   "source": [
    "print('hlo')"
   ]
  },
  {
   "cell_type": "code",
   "execution_count": 3,
   "id": "4f7ac544",
   "metadata": {},
   "outputs": [
    {
     "name": "stdout",
     "output_type": "stream",
     "text": [
      "enter a number41\n",
      "enter b number21\n",
      "n1&n2 not even numbers\n"
     ]
    }
   ],
   "source": [
    "n1=int(input('enter a number'))\n",
    "n2=int(input('enter b number'))\n",
    "if(n1%2==0 and n2%2==0):\n",
    "    print('both are even num')\n",
    "elif(n1%2==0):\n",
    "    print('n1 is even num')\n",
    "elif(n2%2==0):\n",
    "    print('n is even num')\n",
    "else:\n",
    "    print('n1&n2 not even numbers')"
   ]
  },
  {
   "cell_type": "code",
   "execution_count": 4,
   "id": "c985ec6c",
   "metadata": {},
   "outputs": [
    {
     "name": "stdout",
     "output_type": "stream",
     "text": [
      "<class 'int'>\n"
     ]
    }
   ],
   "source": [
    "print(type(n1))"
   ]
  },
  {
   "cell_type": "code",
   "execution_count": 5,
   "id": "075610d1",
   "metadata": {},
   "outputs": [
    {
     "data": {
      "text/plain": [
       "int"
      ]
     },
     "execution_count": 5,
     "metadata": {},
     "output_type": "execute_result"
    }
   ],
   "source": [
    "type(n2)"
   ]
  },
  {
   "cell_type": "code",
   "execution_count": 7,
   "id": "17015ea9",
   "metadata": {},
   "outputs": [
    {
     "data": {
      "text/plain": [
       "(41, 21)"
      ]
     },
     "execution_count": 7,
     "metadata": {},
     "output_type": "execute_result"
    }
   ],
   "source": [
    "n1,n2"
   ]
  },
  {
   "cell_type": "code",
   "execution_count": 15,
   "id": "9d2b7126",
   "metadata": {},
   "outputs": [
    {
     "name": "stdout",
     "output_type": "stream",
     "text": [
      "enter your birth year in the format YYYY1222\n"
     ]
    },
    {
     "ename": "AttributeError",
     "evalue": "'str' object has no attribute 'today'",
     "output_type": "error",
     "traceback": [
      "\u001b[1;31m---------------------------------------------------------------------------\u001b[0m",
      "\u001b[1;31mAttributeError\u001b[0m                            Traceback (most recent call last)",
      "Input \u001b[1;32mIn [15]\u001b[0m, in \u001b[0;36m<cell line: 3>\u001b[1;34m()\u001b[0m\n\u001b[0;32m      1\u001b[0m year\u001b[38;5;241m=\u001b[39m\u001b[38;5;28minput\u001b[39m(\u001b[38;5;124m'\u001b[39m\u001b[38;5;124menter your birth year in the format YYYY\u001b[39m\u001b[38;5;124m'\u001b[39m)\n\u001b[0;32m      2\u001b[0m year\u001b[38;5;241m=\u001b[39m\u001b[38;5;28mint\u001b[39m(year)\n\u001b[1;32m----> 3\u001b[0m PRESENT_YEAR\u001b[38;5;241m=\u001b[39m\u001b[43mdate\u001b[49m\u001b[38;5;241;43m.\u001b[39;49m\u001b[43mtoday\u001b[49m()\u001b[38;5;241m.\u001b[39myear\n\u001b[0;32m      4\u001b[0m age\u001b[38;5;241m=\u001b[39mPRESENT_YEAR\u001b[38;5;241m-\u001b[39myear\n\u001b[0;32m      5\u001b[0m \u001b[38;5;28mprint\u001b[39m(\u001b[38;5;124m'\u001b[39m\u001b[38;5;124myour age is\u001b[39m\u001b[38;5;124m'\u001b[39m,age)\n",
      "\u001b[1;31mAttributeError\u001b[0m: 'str' object has no attribute 'today'"
     ]
    }
   ],
   "source": [
    "year=input('enter your birth year in the format YYYY')\n",
    "year=int(year)\n",
    "PRESENT_YEAR=date.today().year\n",
    "age=PRESENT_YEAR-year\n",
    "print('your age is',age)\n"
   ]
  },
  {
   "cell_type": "code",
   "execution_count": 18,
   "id": "1a092ff4",
   "metadata": {},
   "outputs": [
    {
     "ename": "NameError",
     "evalue": "name 'today' is not defined",
     "output_type": "error",
     "traceback": [
      "\u001b[1;31m---------------------------------------------------------------------------\u001b[0m",
      "\u001b[1;31mNameError\u001b[0m                                 Traceback (most recent call last)",
      "Input \u001b[1;32mIn [18]\u001b[0m, in \u001b[0;36m<cell line: 1>\u001b[1;34m()\u001b[0m\n\u001b[1;32m----> 1\u001b[0m \u001b[38;5;28mprint\u001b[39m(\u001b[43mtoday\u001b[49m()\u001b[38;5;241m.\u001b[39mdate)\n",
      "\u001b[1;31mNameError\u001b[0m: name 'today' is not defined"
     ]
    }
   ],
   "source": [
    "print(today().date)"
   ]
  },
  {
   "cell_type": "code",
   "execution_count": null,
   "id": "5e31b430",
   "metadata": {},
   "outputs": [],
   "source": [
    "n=input('enter n value')\n",
    "newValue=int(n)\n",
    "primeNumbers=[]\n",
    "print('entered num is:',newValue)\n",
    "for i in range(2,newValue+1):\n",
    "    for j in range(2,i):\n",
    "        if(i%j==0):\n",
    "            break\n",
    "    else:\n",
    "             print(i)\n",
    "        \n",
    "          \n"
   ]
  },
  {
   "cell_type": "code",
   "execution_count": null,
   "id": "57c73bd9",
   "metadata": {
    "scrolled": true
   },
   "outputs": [],
   "source": [
    "n=input('enter n value')\n",
    "newValue=int(n)\n",
    "primeNumbers=[]\n",
    "print('entered num is:',newValue)\n",
    "for i in range(2,newValue+1):\n",
    "    for j in range(2,i):\n",
    "            print(i)\n",
    "        "
   ]
  },
  {
   "cell_type": "code",
   "execution_count": null,
   "id": "c3bc59ec",
   "metadata": {},
   "outputs": [],
   "source": [
    "n=input('enter n value')\n",
    "newValue=int(n)\n",
    "primeNumbers=[]\n",
    "print('entered num is:',newValue)"
   ]
  },
  {
   "cell_type": "code",
   "execution_count": null,
   "id": "4709c0d9",
   "metadata": {},
   "outputs": [],
   "source": []
  },
  {
   "cell_type": "code",
   "execution_count": null,
   "id": "801bf8af",
   "metadata": {},
   "outputs": [],
   "source": [
    "\n"
   ]
  },
  {
   "cell_type": "code",
   "execution_count": null,
   "id": "8a855273",
   "metadata": {},
   "outputs": [],
   "source": []
  }
 ],
 "metadata": {
  "kernelspec": {
   "display_name": "Python 3 (ipykernel)",
   "language": "python",
   "name": "python3"
  },
  "language_info": {
   "codemirror_mode": {
    "name": "ipython",
    "version": 3
   },
   "file_extension": ".py",
   "mimetype": "text/x-python",
   "name": "python",
   "nbconvert_exporter": "python",
   "pygments_lexer": "ipython3",
   "version": "3.9.12"
  }
 },
 "nbformat": 4,
 "nbformat_minor": 5
}
