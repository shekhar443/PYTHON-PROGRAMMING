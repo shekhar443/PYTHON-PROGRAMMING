{
 "cells": [
  {
   "cell_type": "code",
   "execution_count": 2,
   "id": "04a1652b",
   "metadata": {},
   "outputs": [
    {
     "name": "stdout",
     "output_type": "stream",
     "text": [
      "[1, 2, 3, 5, 6, 7, 8, 9, 10, 12, 14, 15, 22, 45, 50, 63, 71, 89]\n"
     ]
    }
   ],
   "source": [
    "array=[2,5,6,7,3,1,12,8,9,10,15,71,45,63,89,22,14,50]\n",
    "def merge(left,right):\n",
    "    merged=[]\n",
    "    i=0\n",
    "    j=0\n",
    "\n",
    "    while i<len(left) and j<len(right):\n",
    "        if left[i]<=right[j]:\n",
    "            merged.append(left[i])\n",
    "            i+=1\n",
    "        else:\n",
    "            merged.append(right[j])\n",
    "            j+=1\n",
    "    merged+=left[i:]+right[j:]\n",
    "    return merged\n",
    "\n",
    "def mergesort(array):\n",
    "    if len(array)==1:\n",
    "        return array\n",
    "    \n",
    "    mid=len(array)//2\n",
    "    left=mergesort(array[:mid])\n",
    "    right=mergesort(array[mid:])\n",
    "    return merge(left,right)\n",
    "print(mergesort(array))"
   ]
  },
  {
   "cell_type": "code",
   "execution_count": null,
   "id": "8528f565",
   "metadata": {},
   "outputs": [],
   "source": []
  }
 ],
 "metadata": {
  "kernelspec": {
   "display_name": "Python 3 (ipykernel)",
   "language": "python",
   "name": "python3"
  },
  "language_info": {
   "codemirror_mode": {
    "name": "ipython",
    "version": 3
   },
   "file_extension": ".py",
   "mimetype": "text/x-python",
   "name": "python",
   "nbconvert_exporter": "python",
   "pygments_lexer": "ipython3",
   "version": "3.9.12"
  }
 },
 "nbformat": 4,
 "nbformat_minor": 5
}
