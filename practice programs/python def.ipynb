{
 "cells": [
  {
   "cell_type": "code",
   "execution_count": 3,
   "id": "d518c4c8",
   "metadata": {},
   "outputs": [
    {
     "name": "stdout",
     "output_type": "stream",
     "text": [
      "(1, 2, 3)\n"
     ]
    }
   ],
   "source": [
    "def hai(*a):\n",
    "    print(a)\n",
    "hai(1,2,3)"
   ]
  },
  {
   "cell_type": "code",
   "execution_count": 26,
   "id": "6785d49d",
   "metadata": {},
   "outputs": [
    {
     "name": "stdout",
     "output_type": "stream",
     "text": [
      "89\n",
      "99\n"
     ]
    }
   ],
   "source": [
    "\n",
    "def account_Number(account_balance,debt):\n",
    "        remaing=account_balance-debt\n",
    "        print(remaing)\n",
    "account_Number (100,11) \n",
    "account_Number (100,1\n",
    "               ) "
   ]
  },
  {
   "cell_type": "code",
   "execution_count": 32,
   "id": "cd84e960",
   "metadata": {},
   "outputs": [
    {
     "name": "stdout",
     "output_type": "stream",
     "text": [
      "With Facebook, connect with what you love, how you want. Sign up today. Facebook has countless ways to stay connected.\n",
      "Log in today. Chat Online. Plan Events. Follow Interesting Topics. \n",
      "Stay In Touch With Family. Share Photos. Play Games With Friends. Find Friends.\n"
     ]
    }
   ],
   "source": [
    "file=open('haiiiiiiii.txt','r')#'r''w''a'\n",
    "content=file.read()\n",
    "print(content)\n",
    "file.close()"
   ]
  },
  {
   "cell_type": "code",
   "execution_count": 37,
   "id": "c322f5d3",
   "metadata": {},
   "outputs": [
    {
     "name": "stdout",
     "output_type": "stream",
     "text": [
      "23\n",
      "this is write operation\n"
     ]
    }
   ],
   "source": [
    "file=open('haiiiiiiii.txt','w')\n",
    "content=file.write(\"this is write operation\")\n",
    "print(content)\n",
    "\n",
    "file=open('haiiiiiiii.txt','r')\n",
    "content=file.read()\n",
    "print(content)\n",
    "file.close()"
   ]
  },
  {
   "cell_type": "code",
   "execution_count": 42,
   "id": "029277dc",
   "metadata": {},
   "outputs": [
    {
     "name": "stdout",
     "output_type": "stream",
     "text": [
      "name 's' is not defined\n",
      "completed\n"
     ]
    }
   ],
   "source": [
    "try:\n",
    "    print(s)\n",
    "except Exception as a:\n",
    "    print(a)\n",
    "finally:\n",
    "    print(\"completed\")"
   ]
  },
  {
   "cell_type": "code",
   "execution_count": 44,
   "id": "68e3e3a0",
   "metadata": {},
   "outputs": [
    {
     "name": "stdout",
     "output_type": "stream",
     "text": [
      "division by zero\n",
      "this is final\n"
     ]
    }
   ],
   "source": [
    "a=0\n",
    "try:\n",
    "    s=1/a\n",
    "    print(s)\n",
    "except Exception as a:\n",
    "    print(a)\n",
    "finally:\n",
    "    print(\"this is final\")"
   ]
  },
  {
   "cell_type": "code",
   "execution_count": 46,
   "id": "ba24049a",
   "metadata": {},
   "outputs": [
    {
     "name": "stdout",
     "output_type": "stream",
     "text": [
      "can only concatenate str (not \"int\") to str\n",
      "this is final\n"
     ]
    }
   ],
   "source": [
    "\n",
    "try:\n",
    "    s1=\"haiiiiii\"\n",
    "    s2=23\n",
    "    s=s1+s2\n",
    "    print(s)\n",
    "except Exception as a:\n",
    "    print(a)\n",
    "finally:\n",
    "    print(\"this is final\")"
   ]
  },
  {
   "cell_type": "code",
   "execution_count": 53,
   "id": "df79b4be",
   "metadata": {},
   "outputs": [
    {
     "ename": "Exception",
     "evalue": "exception raised",
     "output_type": "error",
     "traceback": [
      "\u001b[1;31m---------------------------------------------------------------------------\u001b[0m",
      "\u001b[1;31mException\u001b[0m                                 Traceback (most recent call last)",
      "Input \u001b[1;32mIn [53]\u001b[0m, in \u001b[0;36m<cell line: 2>\u001b[1;34m()\u001b[0m\n\u001b[0;32m      1\u001b[0m x\u001b[38;5;241m=\u001b[39m\u001b[38;5;241m-\u001b[39m\u001b[38;5;241m1\u001b[39m\n\u001b[0;32m      2\u001b[0m \u001b[38;5;28;01mif\u001b[39;00m(x\u001b[38;5;241m<\u001b[39m\u001b[38;5;241m0\u001b[39m):\n\u001b[1;32m----> 3\u001b[0m     \u001b[38;5;28;01mraise\u001b[39;00m \u001b[38;5;167;01mException\u001b[39;00m(\u001b[38;5;124m\"\u001b[39m\u001b[38;5;124mexception raised\u001b[39m\u001b[38;5;124m\"\u001b[39m)\n",
      "\u001b[1;31mException\u001b[0m: exception raised"
     ]
    }
   ],
   "source": [
    "x=-1\n",
    "if(x<0):\n",
    "    raise Exception(\"exception raised\")"
   ]
  },
  {
   "cell_type": "code",
   "execution_count": 88,
   "id": "dba9e648",
   "metadata": {},
   "outputs": [
    {
     "name": "stdout",
     "output_type": "stream",
     "text": [
      "brand= apple\n",
      "battary= 4000mah\n",
      "ram= 4gb\n",
      "camara= 32mp\n",
      "price= 5000\n",
      " --------------------------------------------\n",
      "brand= samsung\n",
      "battary= 5000mah\n",
      "ram= 64gb\n",
      "camara= 64mp\n",
      "price= 1000\n",
      " --------------------------------------------\n"
     ]
    }
   ],
   "source": [
    "class Mobile:\n",
    "    def __init__(self,brand,battary,ram,camara,price):\n",
    "        self.brand=brand\n",
    "        self.battary=battary\n",
    "        self.ram=ram\n",
    "        self.camara=camara\n",
    "        self.price=price\n",
    "    def display(self):\n",
    "        print(\"brand=\", self.brand)\n",
    "        print(\"battary=\",self.battary)\n",
    "        print(\"ram=\",self.ram)\n",
    "        print(\"camara=\",self.camara)\n",
    "        print(\"price=\",self.price)\n",
    "        print(\" --------------------------------------------\")\n",
    "obj=Mobile(\"apple\",'4000mah','4gb','32mp','5000')\n",
    "obj.display()\n",
    "obj1=Mobile(\"samsung\",\"5000mah\",\"64gb\",\"64mp\",'1000')\n",
    "obj1.display()"
   ]
  },
  {
   "cell_type": "code",
   "execution_count": 79,
   "id": "48c9dfa3",
   "metadata": {},
   "outputs": [
    {
     "name": "stdout",
     "output_type": "stream",
     "text": [
      "The official language of Bulgaria is Bulgarian.\n"
     ]
    }
   ],
   "source": [
    "class Country:\n",
    "\n",
    "    def __init__(self, name, capital, language):\n",
    "\n",
    "        self.name = name\n",
    "\n",
    "        self.capital = capital\n",
    "\n",
    "        self.language = language\n",
    "\n",
    "    def show_main_language(self):\n",
    "\n",
    "        print('The official language of {} is {}.'.format(self.name, self.language))\n",
    "        \n",
    "bulgarian= Country(\"Bulgaria\", \"Sofia\", \"Bulgarian\")\n",
    "bulgarian.show_main_language()"
   ]
  },
  {
   "cell_type": "code",
   "execution_count": 97,
   "id": "431334a7",
   "metadata": {},
   "outputs": [
    {
     "name": "stdout",
     "output_type": "stream",
     "text": [
      "student details:student name:  chandu student roll no: 234student ph no:  23456789 mail:  dgfhjcn@fhj.\n"
     ]
    }
   ],
   "source": [
    "class collage:\n",
    "    def __init__(self,std_name,std_no,sph_no,mail):\n",
    "        self.std_name=std_name\n",
    "        self.std_no=std_no\n",
    "        self.sph_no=sph_no\n",
    "        self.mail=mail\n",
    "    def display(self):\n",
    "        print('student details:student name:  {} student roll no: {}student ph no:  {} mail:  {}.'.format( self.std_name, self.std_no,self.sph_no, self.mail))\n",
    "object=collage(\"chandu\",\"234\",\"23456789\",\"dgfhjcn@fhj\")\n",
    "object.display()"
   ]
  },
  {
   "cell_type": "code",
   "execution_count": 100,
   "id": "1a0b3169",
   "metadata": {},
   "outputs": [
    {
     "name": "stdout",
     "output_type": "stream",
     "text": [
      "this is a constructor...... this is called when object creted\n"
     ]
    }
   ],
   "source": [
    "class job:\n",
    "    def __init__(self):\n",
    "        print(\"this is a constructor...... this is called when object creted\")\n",
    "    def show(self):\n",
    "        print(\"this is method .......this method is called when method is called with object\")\n",
    "cha=job()"
   ]
  },
  {
   "cell_type": "code",
   "execution_count": 101,
   "id": "56e6d5b7",
   "metadata": {},
   "outputs": [
    {
     "name": "stdout",
     "output_type": "stream",
     "text": [
      "this is a constructor...... this is called when object creted\n",
      "this is method .......this method is called when method is called with object\n"
     ]
    }
   ],
   "source": [
    "class job:\n",
    "    def __init__(self):\n",
    "        print(\"this is a constructor...... this is called when object creted\")\n",
    "    def show(self):\n",
    "        print(\"this is method .......this method is called when method is called with object\")\n",
    "cha=job()\n",
    "cha.show()"
   ]
  },
  {
   "cell_type": "code",
   "execution_count": null,
   "id": "e6be1df7",
   "metadata": {},
   "outputs": [],
   "source": []
  }
 ],
 "metadata": {
  "kernelspec": {
   "display_name": "Python 3 (ipykernel)",
   "language": "python",
   "name": "python3"
  },
  "language_info": {
   "codemirror_mode": {
    "name": "ipython",
    "version": 3
   },
   "file_extension": ".py",
   "mimetype": "text/x-python",
   "name": "python",
   "nbconvert_exporter": "python",
   "pygments_lexer": "ipython3",
   "version": "3.9.12"
  }
 },
 "nbformat": 4,
 "nbformat_minor": 5
}
